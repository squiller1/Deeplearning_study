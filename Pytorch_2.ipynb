{
  "nbformat": 4,
  "nbformat_minor": 0,
  "metadata": {
    "colab": {
      "provenance": [],
      "gpuType": "T4"
    },
    "kernelspec": {
      "name": "python3",
      "display_name": "Python 3"
    },
    "language_info": {
      "name": "python"
    },
    "accelerator": "GPU"
  },
  "cells": [
    {
      "cell_type": "code",
      "source": [
        "pip install pandas"
      ],
      "metadata": {
        "colab": {
          "base_uri": "https://localhost:8080/"
        },
        "id": "2Gq5GzJVyf9f",
        "outputId": "e248fb17-bfc4-4644-baba-5dad5d83c6eb"
      },
      "execution_count": 48,
      "outputs": [
        {
          "output_type": "stream",
          "name": "stdout",
          "text": [
            "Requirement already satisfied: pandas in /usr/local/lib/python3.11/dist-packages (2.2.2)\n",
            "Requirement already satisfied: numpy>=1.23.2 in /usr/local/lib/python3.11/dist-packages (from pandas) (2.0.2)\n",
            "Requirement already satisfied: python-dateutil>=2.8.2 in /usr/local/lib/python3.11/dist-packages (from pandas) (2.9.0.post0)\n",
            "Requirement already satisfied: pytz>=2020.1 in /usr/local/lib/python3.11/dist-packages (from pandas) (2025.2)\n",
            "Requirement already satisfied: tzdata>=2022.7 in /usr/local/lib/python3.11/dist-packages (from pandas) (2025.2)\n",
            "Requirement already satisfied: six>=1.5 in /usr/local/lib/python3.11/dist-packages (from python-dateutil>=2.8.2->pandas) (1.17.0)\n"
          ]
        }
      ]
    },
    {
      "cell_type": "code",
      "source": [
        "pip install requests"
      ],
      "metadata": {
        "colab": {
          "base_uri": "https://localhost:8080/"
        },
        "id": "Vf7e3tXT30uT",
        "outputId": "b83e6848-eb11-47fd-b890-2988eb0bf98c"
      },
      "execution_count": 49,
      "outputs": [
        {
          "output_type": "stream",
          "name": "stdout",
          "text": [
            "Requirement already satisfied: requests in /usr/local/lib/python3.11/dist-packages (2.32.3)\n",
            "Requirement already satisfied: charset-normalizer<4,>=2 in /usr/local/lib/python3.11/dist-packages (from requests) (3.4.1)\n",
            "Requirement already satisfied: idna<4,>=2.5 in /usr/local/lib/python3.11/dist-packages (from requests) (3.10)\n",
            "Requirement already satisfied: urllib3<3,>=1.21.1 in /usr/local/lib/python3.11/dist-packages (from requests) (2.4.0)\n",
            "Requirement already satisfied: certifi>=2017.4.17 in /usr/local/lib/python3.11/dist-packages (from requests) (2025.4.26)\n"
          ]
        }
      ]
    },
    {
      "cell_type": "code",
      "source": [
        "pip install torchmetrics #모델 평가를 위한 패키지"
      ],
      "metadata": {
        "colab": {
          "base_uri": "https://localhost:8080/"
        },
        "id": "zAIMwHCQl68v",
        "outputId": "f84b9356-15dd-4312-ee7c-83b4cfed3c43"
      },
      "execution_count": 50,
      "outputs": [
        {
          "output_type": "stream",
          "name": "stdout",
          "text": [
            "Requirement already satisfied: torchmetrics in /usr/local/lib/python3.11/dist-packages (1.7.1)\n",
            "Requirement already satisfied: numpy>1.20.0 in /usr/local/lib/python3.11/dist-packages (from torchmetrics) (2.0.2)\n",
            "Requirement already satisfied: packaging>17.1 in /usr/local/lib/python3.11/dist-packages (from torchmetrics) (24.2)\n",
            "Requirement already satisfied: torch>=2.0.0 in /usr/local/lib/python3.11/dist-packages (from torchmetrics) (2.6.0+cu124)\n",
            "Requirement already satisfied: lightning-utilities>=0.8.0 in /usr/local/lib/python3.11/dist-packages (from torchmetrics) (0.14.3)\n",
            "Requirement already satisfied: setuptools in /usr/local/lib/python3.11/dist-packages (from lightning-utilities>=0.8.0->torchmetrics) (75.2.0)\n",
            "Requirement already satisfied: typing_extensions in /usr/local/lib/python3.11/dist-packages (from lightning-utilities>=0.8.0->torchmetrics) (4.13.2)\n",
            "Requirement already satisfied: filelock in /usr/local/lib/python3.11/dist-packages (from torch>=2.0.0->torchmetrics) (3.18.0)\n",
            "Requirement already satisfied: networkx in /usr/local/lib/python3.11/dist-packages (from torch>=2.0.0->torchmetrics) (3.4.2)\n",
            "Requirement already satisfied: jinja2 in /usr/local/lib/python3.11/dist-packages (from torch>=2.0.0->torchmetrics) (3.1.6)\n",
            "Requirement already satisfied: fsspec in /usr/local/lib/python3.11/dist-packages (from torch>=2.0.0->torchmetrics) (2025.3.2)\n",
            "Requirement already satisfied: nvidia-cuda-nvrtc-cu12==12.4.127 in /usr/local/lib/python3.11/dist-packages (from torch>=2.0.0->torchmetrics) (12.4.127)\n",
            "Requirement already satisfied: nvidia-cuda-runtime-cu12==12.4.127 in /usr/local/lib/python3.11/dist-packages (from torch>=2.0.0->torchmetrics) (12.4.127)\n",
            "Requirement already satisfied: nvidia-cuda-cupti-cu12==12.4.127 in /usr/local/lib/python3.11/dist-packages (from torch>=2.0.0->torchmetrics) (12.4.127)\n",
            "Requirement already satisfied: nvidia-cudnn-cu12==9.1.0.70 in /usr/local/lib/python3.11/dist-packages (from torch>=2.0.0->torchmetrics) (9.1.0.70)\n",
            "Requirement already satisfied: nvidia-cublas-cu12==12.4.5.8 in /usr/local/lib/python3.11/dist-packages (from torch>=2.0.0->torchmetrics) (12.4.5.8)\n",
            "Requirement already satisfied: nvidia-cufft-cu12==11.2.1.3 in /usr/local/lib/python3.11/dist-packages (from torch>=2.0.0->torchmetrics) (11.2.1.3)\n",
            "Requirement already satisfied: nvidia-curand-cu12==10.3.5.147 in /usr/local/lib/python3.11/dist-packages (from torch>=2.0.0->torchmetrics) (10.3.5.147)\n",
            "Requirement already satisfied: nvidia-cusolver-cu12==11.6.1.9 in /usr/local/lib/python3.11/dist-packages (from torch>=2.0.0->torchmetrics) (11.6.1.9)\n",
            "Requirement already satisfied: nvidia-cusparse-cu12==12.3.1.170 in /usr/local/lib/python3.11/dist-packages (from torch>=2.0.0->torchmetrics) (12.3.1.170)\n",
            "Requirement already satisfied: nvidia-cusparselt-cu12==0.6.2 in /usr/local/lib/python3.11/dist-packages (from torch>=2.0.0->torchmetrics) (0.6.2)\n",
            "Requirement already satisfied: nvidia-nccl-cu12==2.21.5 in /usr/local/lib/python3.11/dist-packages (from torch>=2.0.0->torchmetrics) (2.21.5)\n",
            "Requirement already satisfied: nvidia-nvtx-cu12==12.4.127 in /usr/local/lib/python3.11/dist-packages (from torch>=2.0.0->torchmetrics) (12.4.127)\n",
            "Requirement already satisfied: nvidia-nvjitlink-cu12==12.4.127 in /usr/local/lib/python3.11/dist-packages (from torch>=2.0.0->torchmetrics) (12.4.127)\n",
            "Requirement already satisfied: triton==3.2.0 in /usr/local/lib/python3.11/dist-packages (from torch>=2.0.0->torchmetrics) (3.2.0)\n",
            "Requirement already satisfied: sympy==1.13.1 in /usr/local/lib/python3.11/dist-packages (from torch>=2.0.0->torchmetrics) (1.13.1)\n",
            "Requirement already satisfied: mpmath<1.4,>=1.1.0 in /usr/local/lib/python3.11/dist-packages (from sympy==1.13.1->torch>=2.0.0->torchmetrics) (1.3.0)\n",
            "Requirement already satisfied: MarkupSafe>=2.0 in /usr/local/lib/python3.11/dist-packages (from jinja2->torch>=2.0.0->torchmetrics) (3.0.2)\n"
          ]
        }
      ]
    },
    {
      "cell_type": "code",
      "source": [
        "pip install tensorboard"
      ],
      "metadata": {
        "colab": {
          "base_uri": "https://localhost:8080/"
        },
        "id": "CLEkx4FvmtgY",
        "outputId": "452d5dc9-f2ff-4c84-ebf9-e8b3b63b0400"
      },
      "execution_count": 51,
      "outputs": [
        {
          "output_type": "stream",
          "name": "stdout",
          "text": [
            "Requirement already satisfied: tensorboard in /usr/local/lib/python3.11/dist-packages (2.18.0)\n",
            "Requirement already satisfied: absl-py>=0.4 in /usr/local/lib/python3.11/dist-packages (from tensorboard) (1.4.0)\n",
            "Requirement already satisfied: grpcio>=1.48.2 in /usr/local/lib/python3.11/dist-packages (from tensorboard) (1.71.0)\n",
            "Requirement already satisfied: markdown>=2.6.8 in /usr/local/lib/python3.11/dist-packages (from tensorboard) (3.8)\n",
            "Requirement already satisfied: numpy>=1.12.0 in /usr/local/lib/python3.11/dist-packages (from tensorboard) (2.0.2)\n",
            "Requirement already satisfied: packaging in /usr/local/lib/python3.11/dist-packages (from tensorboard) (24.2)\n",
            "Requirement already satisfied: protobuf!=4.24.0,>=3.19.6 in /usr/local/lib/python3.11/dist-packages (from tensorboard) (5.29.4)\n",
            "Requirement already satisfied: setuptools>=41.0.0 in /usr/local/lib/python3.11/dist-packages (from tensorboard) (75.2.0)\n",
            "Requirement already satisfied: six>1.9 in /usr/local/lib/python3.11/dist-packages (from tensorboard) (1.17.0)\n",
            "Requirement already satisfied: tensorboard-data-server<0.8.0,>=0.7.0 in /usr/local/lib/python3.11/dist-packages (from tensorboard) (0.7.2)\n",
            "Requirement already satisfied: werkzeug>=1.0.1 in /usr/local/lib/python3.11/dist-packages (from tensorboard) (3.1.3)\n",
            "Requirement already satisfied: MarkupSafe>=2.1.1 in /usr/local/lib/python3.11/dist-packages (from werkzeug>=1.0.1->tensorboard) (3.0.2)\n"
          ]
        }
      ]
    },
    {
      "cell_type": "code",
      "execution_count": 52,
      "metadata": {
        "id": "HUUcD2rl6gTi"
      },
      "outputs": [],
      "source": [
        "import torch\n",
        "import pandas as pd\n",
        "import torch.nn as nn\n",
        "from torch.utils.data import Dataset\n",
        "from torch.utils.data import DataLoader\n",
        "from torchvision.datasets import mnist\n",
        "import requests\n",
        "import torchmetrics\n",
        "from torch.utils.tensorboard import SummaryWriter"
      ]
    },
    {
      "cell_type": "code",
      "source": [
        "#2차원 형태의 텐서 생성\n",
        "print(torch.tensor( [ [1,2],[3,4] ] ))"
      ],
      "metadata": {
        "colab": {
          "base_uri": "https://localhost:8080/"
        },
        "id": "rC8xnYLJ6v7k",
        "outputId": "5dbb502e-dbaf-4b12-c066-af51a6f74460"
      },
      "execution_count": 53,
      "outputs": [
        {
          "output_type": "stream",
          "name": "stdout",
          "text": [
            "tensor([[1, 2],\n",
            "        [3, 4]])\n"
          ]
        }
      ]
    },
    {
      "cell_type": "code",
      "source": [
        "#GPU에 텐서 생성\n",
        "print(torch.tensor( [[1,2],[3,4]], device='cuda:0' ))"
      ],
      "metadata": {
        "colab": {
          "base_uri": "https://localhost:8080/"
        },
        "id": "uPjV7IoN68Pe",
        "outputId": "a49b1b1d-7766-4f12-f6d9-9e7e9f867ab2"
      },
      "execution_count": 54,
      "outputs": [
        {
          "output_type": "stream",
          "name": "stdout",
          "text": [
            "tensor([[1, 2],\n",
            "        [3, 4]], device='cuda:0')\n"
          ]
        }
      ]
    },
    {
      "cell_type": "code",
      "source": [
        "#dtype를 이용하여 텐서 생성\n",
        "print(torch.tensor( [[1,2],[3,4]], dtype=torch.float64 ))"
      ],
      "metadata": {
        "colab": {
          "base_uri": "https://localhost:8080/"
        },
        "id": "GIY2D32R7Gub",
        "outputId": "351a0430-ce79-4d74-bbb9-6187b6427770"
      },
      "execution_count": 55,
      "outputs": [
        {
          "output_type": "stream",
          "name": "stdout",
          "text": [
            "tensor([[1., 2.],\n",
            "        [3., 4.]], dtype=torch.float64)\n"
          ]
        }
      ]
    },
    {
      "cell_type": "code",
      "source": [
        "#텐서를 ndarray로 변환\n",
        "temp = torch.tensor([[1,2],[3,4]])\n",
        "print(temp.numpy())\n",
        "\n",
        "temp = torch.tensor([[1,2],[3,4]])\n",
        "print(temp.to(\"cpu\").numpy())"
      ],
      "metadata": {
        "colab": {
          "base_uri": "https://localhost:8080/"
        },
        "id": "vk5QVIWc7uxv",
        "outputId": "260e5b5b-e0dd-4a05-bcc4-91985431a45a"
      },
      "execution_count": 56,
      "outputs": [
        {
          "output_type": "stream",
          "name": "stdout",
          "text": [
            "[[1 2]\n",
            " [3 4]]\n",
            "[[1 2]\n",
            " [3 4]]\n"
          ]
        }
      ]
    },
    {
      "cell_type": "code",
      "source": [
        "#텐서의 인덱스 조작\n",
        "temp = torch.FloatTensor([1,2,3,4,5,6,7]) #파이토치로 1차원 벡터 생성\n",
        "print(temp[0], temp[1], temp[-1])\n",
        "print(temp[0:2], temp[::2])"
      ],
      "metadata": {
        "colab": {
          "base_uri": "https://localhost:8080/"
        },
        "id": "CXrvjoQt89RO",
        "outputId": "659975e0-1311-4267-f869-60e51b52992b"
      },
      "execution_count": 57,
      "outputs": [
        {
          "output_type": "stream",
          "name": "stdout",
          "text": [
            "tensor(1.) tensor(2.) tensor(7.)\n",
            "tensor([1., 2.]) tensor([1., 3., 5., 7.])\n"
          ]
        }
      ]
    },
    {
      "cell_type": "code",
      "source": [
        "#텐서 연산\n",
        "v = torch.tensor( [1,2,3] )\n",
        "w = torch.tensor( [4,5,6] )\n",
        "print( w-v ) #길이가 같은 벡터기에 연산 가능"
      ],
      "metadata": {
        "colab": {
          "base_uri": "https://localhost:8080/"
        },
        "id": "3aEcXtuI-Bu6",
        "outputId": "955709d1-6c52-42a6-a1e7-2ca55b1e07c4"
      },
      "execution_count": 58,
      "outputs": [
        {
          "output_type": "stream",
          "name": "stdout",
          "text": [
            "tensor([3, 3, 3])\n"
          ]
        }
      ]
    },
    {
      "cell_type": "code",
      "source": [
        "#텐서 차원 조작\n",
        "temp = torch.tensor( [[1,2],[3,4]] )\n",
        "print( temp.shape )\n",
        "print('-------------------')\n",
        "print( temp.view(4, 1) ) #2x2 행렬을 4x1로 변형\n",
        "print('-------------------')\n",
        "print( temp.view(-1) ) #1차원 벡터로 변형\n",
        "print('-------------------')\n",
        "print( temp.view(1,-1) ) #(1,?)와 같은 의미. 물음표는 다른 차원으로부터 해당 값을 유추. 즉, 원소개수(2x2=4)를 유지한 채 (1,?)의 형태를 만족해야 하므로 (1,4)가 됨\n",
        "print('-------------------')\n",
        "print( temp.view(-1,1)) #(4,1)로 변형"
      ],
      "metadata": {
        "colab": {
          "base_uri": "https://localhost:8080/"
        },
        "id": "fL-KS_VEvGGx",
        "outputId": "4725fbe7-4a71-4220-8d84-8489c707fb3c"
      },
      "execution_count": 59,
      "outputs": [
        {
          "output_type": "stream",
          "name": "stdout",
          "text": [
            "torch.Size([2, 2])\n",
            "-------------------\n",
            "tensor([[1],\n",
            "        [2],\n",
            "        [3],\n",
            "        [4]])\n",
            "-------------------\n",
            "tensor([1, 2, 3, 4])\n",
            "-------------------\n",
            "tensor([[1, 2, 3, 4]])\n",
            "-------------------\n",
            "tensor([[1],\n",
            "        [2],\n",
            "        [3],\n",
            "        [4]])\n"
          ]
        }
      ]
    },
    {
      "cell_type": "markdown",
      "source": [
        "# **모델 정의**\n",
        "\n",
        "\n",
        "  - 계층(layer) : 모듈 또는 모듈을 구성하는 한 개의 계층 (ex: 합성곱층, 선형계층 등)\n",
        "  - 모듈(module) : 한 개 이상의 계층이 모여 구성된 것으로, 모듈이 모여 새로운 모듈을 만들 수도 있음\n",
        "  - 모델(model) : 최종적으로 원하는 네트워크. 한 개의 모듈이 모델이 될 수도 있음\n",
        "\n",
        "\n",
        "---\n",
        "\n",
        "\n",
        "-파이토치에서 모델을 정의하기 위해서는 모듈(module)을 상속한 클래스를 사용\n",
        "\n",
        "-파이토치에서 nn.Module을 상속받는 모델은 기본적으로 __init__()과 foward() 함수를 포함함.\n",
        "  - __init__() :모델에서 사용할 모듈(nn.Linear, nn.Conv2d), 활성화함수 등 정의\n",
        "  - foward() : 모델에서 실행되어야 하는 연산 정의"
      ],
      "metadata": {
        "id": "lU7GIbV64hZo"
      }
    },
    {
      "cell_type": "code",
      "source": [
        "#단순 신경망 정의하는 방법 (nn.Module을 상속받지 않는 매우 단순한 모델)\n",
        "model = nn.Linear(in_features=1, out_features=1, bias=True)"
      ],
      "metadata": {
        "id": "dWyPOX0Z33L4"
      },
      "execution_count": 60,
      "outputs": []
    },
    {
      "cell_type": "code",
      "source": [
        "#nn.Module()을 상속하여 정의하는 방법\n",
        "\n",
        "class MLP(nn.Module) :\n",
        "  def __init__(self, inputs) :\n",
        "    super(MLP, self).__init__()\n",
        "    self.layer = Linear(inputs, 1) #계층 정의\n",
        "    self.activation = Sigmoid() #활성화 함수 정의\n",
        "\n",
        "  def foward(self, X) :\n",
        "    X = self.layer()"
      ],
      "metadata": {
        "id": "tWnZ6T5M6VLN"
      },
      "execution_count": 61,
      "outputs": []
    },
    {
      "cell_type": "code",
      "source": [
        "#Sequential 신경망을 정의하는 방법\n",
        "\n",
        "class MLP(nn.Module) :\n",
        "  def __init__(self) :\n",
        "    super(MLP, self).__init__()\n",
        "\n",
        "    self.layer1 = nn.Sequential(\n",
        "        nn.Conv2d(in_channels=3, out_channels=64, kernel_size=5), #3채널(층)->5x5커널로 교차연산->64채널로 새로 만듦\n",
        "        nn.ReLU(inplace=True), #렐루 함수(음수는 0으로 변환)(원본데이터 변경, inplace=False는 원본데이터의 복제본 만들어서 변경)\n",
        "        nn.MaxPool2d(2) #최대 풀링 2x2-> 64채널, 데이터크기는 1/4만큼 줄어듦\n",
        "    )\n",
        "\n",
        "    self.layer2 = nn.Sequential(\n",
        "        nn.Conv2d(in_channels=64, out_channels=30, kernel_size=5), #64채널->5x5커널로 교차연산->30채널로 새로 만듦\n",
        "        nn.ReLU(inplace=True),\n",
        "        nn.MaxPool2d(2) #최대 풀링 2x2-> 64채널, 데이터크기는 1/4만큼 줄어듦\n",
        "    )\n",
        "\n",
        "    self.layer3 = nn.Sequential(\n",
        "        nn.Linear(in_features=30*5*5, out_features=10, bias=True), #계산했더니 총 데이터 개수는 30*5*5->선형 계산->10개 출력\n",
        "        nn.ReLU(inplace=True)\n",
        "    )\n",
        "\n",
        "\n",
        "    def foward(self, x) :\n",
        "      x = self.layer1(x)\n",
        "      x = self.layer2(x)\n",
        "      x = x.view(x.shape[0], -1) #\n",
        "      x = self.layer3(x)\n",
        "      return x\n",
        "\n",
        "model = MLP()"
      ],
      "metadata": {
        "id": "cem9ZW8a9e7x"
      },
      "execution_count": 62,
      "outputs": []
    },
    {
      "cell_type": "code",
      "source": [
        "print(\"Printing children\\n-------------------------\")\n",
        "print(list(model.children()))\n",
        "print(\"Printing Modules\\n-------------------------\")\n",
        "print(list(model.modules()))"
      ],
      "metadata": {
        "colab": {
          "base_uri": "https://localhost:8080/"
        },
        "id": "QmhSHaEWGS8N",
        "outputId": "a0174934-ed7c-4592-90a9-bf1aea7fab44"
      },
      "execution_count": 63,
      "outputs": [
        {
          "output_type": "stream",
          "name": "stdout",
          "text": [
            "Printing children\n",
            "-------------------------\n",
            "[Sequential(\n",
            "  (0): Conv2d(3, 64, kernel_size=(5, 5), stride=(1, 1))\n",
            "  (1): ReLU(inplace=True)\n",
            "  (2): MaxPool2d(kernel_size=2, stride=2, padding=0, dilation=1, ceil_mode=False)\n",
            "), Sequential(\n",
            "  (0): Conv2d(64, 30, kernel_size=(5, 5), stride=(1, 1))\n",
            "  (1): ReLU(inplace=True)\n",
            "  (2): MaxPool2d(kernel_size=2, stride=2, padding=0, dilation=1, ceil_mode=False)\n",
            "), Sequential(\n",
            "  (0): Linear(in_features=750, out_features=10, bias=True)\n",
            "  (1): ReLU(inplace=True)\n",
            ")]\n",
            "Printing Modules\n",
            "-------------------------\n",
            "[MLP(\n",
            "  (layer1): Sequential(\n",
            "    (0): Conv2d(3, 64, kernel_size=(5, 5), stride=(1, 1))\n",
            "    (1): ReLU(inplace=True)\n",
            "    (2): MaxPool2d(kernel_size=2, stride=2, padding=0, dilation=1, ceil_mode=False)\n",
            "  )\n",
            "  (layer2): Sequential(\n",
            "    (0): Conv2d(64, 30, kernel_size=(5, 5), stride=(1, 1))\n",
            "    (1): ReLU(inplace=True)\n",
            "    (2): MaxPool2d(kernel_size=2, stride=2, padding=0, dilation=1, ceil_mode=False)\n",
            "  )\n",
            "  (layer3): Sequential(\n",
            "    (0): Linear(in_features=750, out_features=10, bias=True)\n",
            "    (1): ReLU(inplace=True)\n",
            "  )\n",
            "), Sequential(\n",
            "  (0): Conv2d(3, 64, kernel_size=(5, 5), stride=(1, 1))\n",
            "  (1): ReLU(inplace=True)\n",
            "  (2): MaxPool2d(kernel_size=2, stride=2, padding=0, dilation=1, ceil_mode=False)\n",
            "), Conv2d(3, 64, kernel_size=(5, 5), stride=(1, 1)), ReLU(inplace=True), MaxPool2d(kernel_size=2, stride=2, padding=0, dilation=1, ceil_mode=False), Sequential(\n",
            "  (0): Conv2d(64, 30, kernel_size=(5, 5), stride=(1, 1))\n",
            "  (1): ReLU(inplace=True)\n",
            "  (2): MaxPool2d(kernel_size=2, stride=2, padding=0, dilation=1, ceil_mode=False)\n",
            "), Conv2d(64, 30, kernel_size=(5, 5), stride=(1, 1)), ReLU(inplace=True), MaxPool2d(kernel_size=2, stride=2, padding=0, dilation=1, ceil_mode=False), Sequential(\n",
            "  (0): Linear(in_features=750, out_features=10, bias=True)\n",
            "  (1): ReLU(inplace=True)\n",
            "), Linear(in_features=750, out_features=10, bias=True), ReLU(inplace=True)]\n"
          ]
        }
      ]
    },
    {
      "cell_type": "code",
      "source": [
        "#함수로 신경망을 정의하는 방법\n",
        "def MLP(in_features=1, hidden_features=20, out_features=1) :\n",
        "  hidden = nn.Linear(in_features=in_features, out_features=hidden_features, bias=True) #은닉층 선형 계산\n",
        "  activation = nn.ReLU() #활성화 함수 = 렐루\n",
        "  output = nn.Linear(in_features=hidden_features, out_features=out_features, bias=True) #출력층 선형 계산\n",
        "  net = nn.Sequential(hidden, activation, output)\n",
        "  return net"
      ],
      "metadata": {
        "id": "F308PBUJKTlz"
      },
      "execution_count": 64,
      "outputs": []
    },
    {
      "cell_type": "markdown",
      "source": [
        "# **모델의 파라미터(매개변수) 정의**\n",
        "\n",
        "1. 손실 함수(loss function) :학습하는 동안 예상값(출력)-실제값(정답) 사이의 오차 측정.\n",
        "\n",
        "  (1) BCELoss(Binary Cross Entropy): 이진 크로스 엔트로피 손실 함수. 이진 분류에 사용\n",
        "\n",
        "  (2) CrossEntropyLoss : 크로스 엔트로피 손실 함수. 다중 클래스 분류에 사용\n",
        "\n",
        "  (3) MSELoss(Mean Squared Error Loss) : 제곱 오차. 회귀 모델에서(가중치 업데이트) 사용\n",
        "\n",
        "\n",
        "2. 옵티마이저(optimizer) : 데이터와 손실 함수 바탕의 모델 업데이트 방법 결정\n",
        "  \n",
        "  (1) step() 메서드를 통해 전달받은 파라미터를 업데이트함\n",
        "  \n",
        "  (2) 모델의 파라미터별로 다른 기준(ex:학습률)을 적용할 수 있음\n",
        "  \n",
        "  (3) torch, optim, Optimizer(params, defaults)는 모든 옵티마이저의 기본이 되는 클래스\n",
        "  \n",
        "  (4) zero_pad() 메서드는 옵티마이저에 사용된 파라미터들의 그레이디언트(기울기)를 0으로 만드는 함수\n",
        "  \n",
        "  (5) torch.optim.lr_scheduler는 에포크에 따라 학습률을 조절할 수 있음\n",
        "\n",
        "\n",
        "3. 학습률 스케줄러(learning rate scheduler) : 사전에 지정한 에포크 횟수를 지날 때마다 학습률을 감소시켜줌.\n",
        "  \n",
        "  (1) 학습 초기에는 빠른 학습을 진행하다가, 전역 최소점 근처에 다다르면 학습률을 줄여 최적점을 찾아갈 수 있게 해줌\n",
        "  \n",
        "  (2) 학습률 스케줄러의 종류 ( optim.lr_scheduler.___________ )\n",
        "  - LambdaLR : 람다(lamda) 함수의 결과를 학습률로 설정\n",
        "  - StepLR : 특정 단계(step)마다 학습률을 감마(gamma) 비율만큼 감소시킴\n",
        "  - MultiStepLR : 지정되 에포크마다 학습률을 감마 비율만큼 감소시킴\n",
        "  - ExponentialLR : 에포크마다 전 학습률에 감마만큼 곱함\n",
        "  - CosineAnnealingLR : 학습률을 코사인(cosine) 함수 형태처럼 변화시켜 학습률이 커지기도 작아지기도 하게 만듦\n",
        "  - ReduceLROnPlateau : 학습이 잘 되는지 아닌지에 따라 동적으로 학습률 변화시킴\n",
        "\n",
        "4. 지표(metrics) : 훈련과 테스트 단계를 모니터링"
      ],
      "metadata": {
        "id": "Fe5Bil4iLReB"
      }
    },
    {
      "cell_type": "code",
      "source": [
        "metric = torchmetrics.Accuracy(task=\"multiclass\", num_classes=5) #모델 정확도(평가) 초기화\n",
        "\n",
        "n_batches = 10\n",
        "for i in range(n_batches) :\n",
        "  preds = torch.randn(10, 5).softmax(dim=-1) #예측값\n",
        "  target = torch.randint(5, (10,)) #정답\n",
        "\n",
        "  acc = metric(preds, target) #배치마다의 정확도\n",
        "  print(f'Accuracy on batch {i} : {acc}')\n",
        "\n",
        "acc = metric(preds, target) #총 정확도\n",
        "print(f'Accuracy on all data : {acc}')"
      ],
      "metadata": {
        "colab": {
          "base_uri": "https://localhost:8080/"
        },
        "id": "a_dWhzJ8m0Xb",
        "outputId": "a0a6c53c-118f-4750-fc72-673cfcac1226"
      },
      "execution_count": 65,
      "outputs": [
        {
          "output_type": "stream",
          "name": "stdout",
          "text": [
            "Accuracy on batch 0 : 0.30000001192092896\n",
            "Accuracy on batch 1 : 0.30000001192092896\n",
            "Accuracy on batch 2 : 0.20000000298023224\n",
            "Accuracy on batch 3 : 0.0\n",
            "Accuracy on batch 4 : 0.10000000149011612\n",
            "Accuracy on batch 5 : 0.10000000149011612\n",
            "Accuracy on batch 6 : 0.4000000059604645\n",
            "Accuracy on batch 7 : 0.20000000298023224\n",
            "Accuracy on batch 8 : 0.10000000149011612\n",
            "Accuracy on batch 9 : 0.30000001192092896\n",
            "Accuracy on all data : 0.30000001192092896\n"
          ]
        }
      ]
    },
    {
      "cell_type": "code",
      "source": [
        "import torch\n",
        "import torch.nn as nn\n",
        "import numpy as np\n",
        "import pandas as pd\n",
        "import matplotlib.pyplot as plt\n",
        "import seaborn as sns\n",
        "%matplotlib inline"
      ],
      "metadata": {
        "id": "Mqk8yMgqtmmC"
      },
      "execution_count": 66,
      "outputs": []
    },
    {
      "cell_type": "code",
      "source": [
        "dataset = pd.read_csv('/content/car_evaluation.csv') #파일 불러오기\n",
        "dataset.head() #데이터프레임의 처음 n줄 출력(기본값 5) / dataset.tail(): 마지막 n줄 출력"
      ],
      "metadata": {
        "colab": {
          "base_uri": "https://localhost:8080/",
          "height": 206
        },
        "id": "BWDzEElW6HOo",
        "outputId": "17aab21c-f0e9-4617-99f7-345e980e2a5a"
      },
      "execution_count": 67,
      "outputs": [
        {
          "output_type": "execute_result",
          "data": {
            "text/plain": [
              "   price  maint doors persons lug_capacity safety output\n",
              "0  vhigh  vhigh     2       2        small    low  unacc\n",
              "1  vhigh  vhigh     2       2        small    med  unacc\n",
              "2  vhigh  vhigh     2       2        small   high  unacc\n",
              "3  vhigh  vhigh     2       2          med    low  unacc\n",
              "4  vhigh  vhigh     2       2          med    med  unacc"
            ],
            "text/html": [
              "\n",
              "  <div id=\"df-0899c260-1c93-4ca4-8da5-d5726004602c\" class=\"colab-df-container\">\n",
              "    <div>\n",
              "<style scoped>\n",
              "    .dataframe tbody tr th:only-of-type {\n",
              "        vertical-align: middle;\n",
              "    }\n",
              "\n",
              "    .dataframe tbody tr th {\n",
              "        vertical-align: top;\n",
              "    }\n",
              "\n",
              "    .dataframe thead th {\n",
              "        text-align: right;\n",
              "    }\n",
              "</style>\n",
              "<table border=\"1\" class=\"dataframe\">\n",
              "  <thead>\n",
              "    <tr style=\"text-align: right;\">\n",
              "      <th></th>\n",
              "      <th>price</th>\n",
              "      <th>maint</th>\n",
              "      <th>doors</th>\n",
              "      <th>persons</th>\n",
              "      <th>lug_capacity</th>\n",
              "      <th>safety</th>\n",
              "      <th>output</th>\n",
              "    </tr>\n",
              "  </thead>\n",
              "  <tbody>\n",
              "    <tr>\n",
              "      <th>0</th>\n",
              "      <td>vhigh</td>\n",
              "      <td>vhigh</td>\n",
              "      <td>2</td>\n",
              "      <td>2</td>\n",
              "      <td>small</td>\n",
              "      <td>low</td>\n",
              "      <td>unacc</td>\n",
              "    </tr>\n",
              "    <tr>\n",
              "      <th>1</th>\n",
              "      <td>vhigh</td>\n",
              "      <td>vhigh</td>\n",
              "      <td>2</td>\n",
              "      <td>2</td>\n",
              "      <td>small</td>\n",
              "      <td>med</td>\n",
              "      <td>unacc</td>\n",
              "    </tr>\n",
              "    <tr>\n",
              "      <th>2</th>\n",
              "      <td>vhigh</td>\n",
              "      <td>vhigh</td>\n",
              "      <td>2</td>\n",
              "      <td>2</td>\n",
              "      <td>small</td>\n",
              "      <td>high</td>\n",
              "      <td>unacc</td>\n",
              "    </tr>\n",
              "    <tr>\n",
              "      <th>3</th>\n",
              "      <td>vhigh</td>\n",
              "      <td>vhigh</td>\n",
              "      <td>2</td>\n",
              "      <td>2</td>\n",
              "      <td>med</td>\n",
              "      <td>low</td>\n",
              "      <td>unacc</td>\n",
              "    </tr>\n",
              "    <tr>\n",
              "      <th>4</th>\n",
              "      <td>vhigh</td>\n",
              "      <td>vhigh</td>\n",
              "      <td>2</td>\n",
              "      <td>2</td>\n",
              "      <td>med</td>\n",
              "      <td>med</td>\n",
              "      <td>unacc</td>\n",
              "    </tr>\n",
              "  </tbody>\n",
              "</table>\n",
              "</div>\n",
              "    <div class=\"colab-df-buttons\">\n",
              "\n",
              "  <div class=\"colab-df-container\">\n",
              "    <button class=\"colab-df-convert\" onclick=\"convertToInteractive('df-0899c260-1c93-4ca4-8da5-d5726004602c')\"\n",
              "            title=\"Convert this dataframe to an interactive table.\"\n",
              "            style=\"display:none;\">\n",
              "\n",
              "  <svg xmlns=\"http://www.w3.org/2000/svg\" height=\"24px\" viewBox=\"0 -960 960 960\">\n",
              "    <path d=\"M120-120v-720h720v720H120Zm60-500h600v-160H180v160Zm220 220h160v-160H400v160Zm0 220h160v-160H400v160ZM180-400h160v-160H180v160Zm440 0h160v-160H620v160ZM180-180h160v-160H180v160Zm440 0h160v-160H620v160Z\"/>\n",
              "  </svg>\n",
              "    </button>\n",
              "\n",
              "  <style>\n",
              "    .colab-df-container {\n",
              "      display:flex;\n",
              "      gap: 12px;\n",
              "    }\n",
              "\n",
              "    .colab-df-convert {\n",
              "      background-color: #E8F0FE;\n",
              "      border: none;\n",
              "      border-radius: 50%;\n",
              "      cursor: pointer;\n",
              "      display: none;\n",
              "      fill: #1967D2;\n",
              "      height: 32px;\n",
              "      padding: 0 0 0 0;\n",
              "      width: 32px;\n",
              "    }\n",
              "\n",
              "    .colab-df-convert:hover {\n",
              "      background-color: #E2EBFA;\n",
              "      box-shadow: 0px 1px 2px rgba(60, 64, 67, 0.3), 0px 1px 3px 1px rgba(60, 64, 67, 0.15);\n",
              "      fill: #174EA6;\n",
              "    }\n",
              "\n",
              "    .colab-df-buttons div {\n",
              "      margin-bottom: 4px;\n",
              "    }\n",
              "\n",
              "    [theme=dark] .colab-df-convert {\n",
              "      background-color: #3B4455;\n",
              "      fill: #D2E3FC;\n",
              "    }\n",
              "\n",
              "    [theme=dark] .colab-df-convert:hover {\n",
              "      background-color: #434B5C;\n",
              "      box-shadow: 0px 1px 3px 1px rgba(0, 0, 0, 0.15);\n",
              "      filter: drop-shadow(0px 1px 2px rgba(0, 0, 0, 0.3));\n",
              "      fill: #FFFFFF;\n",
              "    }\n",
              "  </style>\n",
              "\n",
              "    <script>\n",
              "      const buttonEl =\n",
              "        document.querySelector('#df-0899c260-1c93-4ca4-8da5-d5726004602c button.colab-df-convert');\n",
              "      buttonEl.style.display =\n",
              "        google.colab.kernel.accessAllowed ? 'block' : 'none';\n",
              "\n",
              "      async function convertToInteractive(key) {\n",
              "        const element = document.querySelector('#df-0899c260-1c93-4ca4-8da5-d5726004602c');\n",
              "        const dataTable =\n",
              "          await google.colab.kernel.invokeFunction('convertToInteractive',\n",
              "                                                    [key], {});\n",
              "        if (!dataTable) return;\n",
              "\n",
              "        const docLinkHtml = 'Like what you see? Visit the ' +\n",
              "          '<a target=\"_blank\" href=https://colab.research.google.com/notebooks/data_table.ipynb>data table notebook</a>'\n",
              "          + ' to learn more about interactive tables.';\n",
              "        element.innerHTML = '';\n",
              "        dataTable['output_type'] = 'display_data';\n",
              "        await google.colab.output.renderOutput(dataTable, element);\n",
              "        const docLink = document.createElement('div');\n",
              "        docLink.innerHTML = docLinkHtml;\n",
              "        element.appendChild(docLink);\n",
              "      }\n",
              "    </script>\n",
              "  </div>\n",
              "\n",
              "\n",
              "    <div id=\"df-e6a784cf-59f9-4f03-89cb-f2e3d2f3d393\">\n",
              "      <button class=\"colab-df-quickchart\" onclick=\"quickchart('df-e6a784cf-59f9-4f03-89cb-f2e3d2f3d393')\"\n",
              "                title=\"Suggest charts\"\n",
              "                style=\"display:none;\">\n",
              "\n",
              "<svg xmlns=\"http://www.w3.org/2000/svg\" height=\"24px\"viewBox=\"0 0 24 24\"\n",
              "     width=\"24px\">\n",
              "    <g>\n",
              "        <path d=\"M19 3H5c-1.1 0-2 .9-2 2v14c0 1.1.9 2 2 2h14c1.1 0 2-.9 2-2V5c0-1.1-.9-2-2-2zM9 17H7v-7h2v7zm4 0h-2V7h2v10zm4 0h-2v-4h2v4z\"/>\n",
              "    </g>\n",
              "</svg>\n",
              "      </button>\n",
              "\n",
              "<style>\n",
              "  .colab-df-quickchart {\n",
              "      --bg-color: #E8F0FE;\n",
              "      --fill-color: #1967D2;\n",
              "      --hover-bg-color: #E2EBFA;\n",
              "      --hover-fill-color: #174EA6;\n",
              "      --disabled-fill-color: #AAA;\n",
              "      --disabled-bg-color: #DDD;\n",
              "  }\n",
              "\n",
              "  [theme=dark] .colab-df-quickchart {\n",
              "      --bg-color: #3B4455;\n",
              "      --fill-color: #D2E3FC;\n",
              "      --hover-bg-color: #434B5C;\n",
              "      --hover-fill-color: #FFFFFF;\n",
              "      --disabled-bg-color: #3B4455;\n",
              "      --disabled-fill-color: #666;\n",
              "  }\n",
              "\n",
              "  .colab-df-quickchart {\n",
              "    background-color: var(--bg-color);\n",
              "    border: none;\n",
              "    border-radius: 50%;\n",
              "    cursor: pointer;\n",
              "    display: none;\n",
              "    fill: var(--fill-color);\n",
              "    height: 32px;\n",
              "    padding: 0;\n",
              "    width: 32px;\n",
              "  }\n",
              "\n",
              "  .colab-df-quickchart:hover {\n",
              "    background-color: var(--hover-bg-color);\n",
              "    box-shadow: 0 1px 2px rgba(60, 64, 67, 0.3), 0 1px 3px 1px rgba(60, 64, 67, 0.15);\n",
              "    fill: var(--button-hover-fill-color);\n",
              "  }\n",
              "\n",
              "  .colab-df-quickchart-complete:disabled,\n",
              "  .colab-df-quickchart-complete:disabled:hover {\n",
              "    background-color: var(--disabled-bg-color);\n",
              "    fill: var(--disabled-fill-color);\n",
              "    box-shadow: none;\n",
              "  }\n",
              "\n",
              "  .colab-df-spinner {\n",
              "    border: 2px solid var(--fill-color);\n",
              "    border-color: transparent;\n",
              "    border-bottom-color: var(--fill-color);\n",
              "    animation:\n",
              "      spin 1s steps(1) infinite;\n",
              "  }\n",
              "\n",
              "  @keyframes spin {\n",
              "    0% {\n",
              "      border-color: transparent;\n",
              "      border-bottom-color: var(--fill-color);\n",
              "      border-left-color: var(--fill-color);\n",
              "    }\n",
              "    20% {\n",
              "      border-color: transparent;\n",
              "      border-left-color: var(--fill-color);\n",
              "      border-top-color: var(--fill-color);\n",
              "    }\n",
              "    30% {\n",
              "      border-color: transparent;\n",
              "      border-left-color: var(--fill-color);\n",
              "      border-top-color: var(--fill-color);\n",
              "      border-right-color: var(--fill-color);\n",
              "    }\n",
              "    40% {\n",
              "      border-color: transparent;\n",
              "      border-right-color: var(--fill-color);\n",
              "      border-top-color: var(--fill-color);\n",
              "    }\n",
              "    60% {\n",
              "      border-color: transparent;\n",
              "      border-right-color: var(--fill-color);\n",
              "    }\n",
              "    80% {\n",
              "      border-color: transparent;\n",
              "      border-right-color: var(--fill-color);\n",
              "      border-bottom-color: var(--fill-color);\n",
              "    }\n",
              "    90% {\n",
              "      border-color: transparent;\n",
              "      border-bottom-color: var(--fill-color);\n",
              "    }\n",
              "  }\n",
              "</style>\n",
              "\n",
              "      <script>\n",
              "        async function quickchart(key) {\n",
              "          const quickchartButtonEl =\n",
              "            document.querySelector('#' + key + ' button');\n",
              "          quickchartButtonEl.disabled = true;  // To prevent multiple clicks.\n",
              "          quickchartButtonEl.classList.add('colab-df-spinner');\n",
              "          try {\n",
              "            const charts = await google.colab.kernel.invokeFunction(\n",
              "                'suggestCharts', [key], {});\n",
              "          } catch (error) {\n",
              "            console.error('Error during call to suggestCharts:', error);\n",
              "          }\n",
              "          quickchartButtonEl.classList.remove('colab-df-spinner');\n",
              "          quickchartButtonEl.classList.add('colab-df-quickchart-complete');\n",
              "        }\n",
              "        (() => {\n",
              "          let quickchartButtonEl =\n",
              "            document.querySelector('#df-e6a784cf-59f9-4f03-89cb-f2e3d2f3d393 button');\n",
              "          quickchartButtonEl.style.display =\n",
              "            google.colab.kernel.accessAllowed ? 'block' : 'none';\n",
              "        })();\n",
              "      </script>\n",
              "    </div>\n",
              "\n",
              "    </div>\n",
              "  </div>\n"
            ],
            "application/vnd.google.colaboratory.intrinsic+json": {
              "type": "dataframe",
              "variable_name": "dataset",
              "summary": "{\n  \"name\": \"dataset\",\n  \"rows\": 1728,\n  \"fields\": [\n    {\n      \"column\": \"price\",\n      \"properties\": {\n        \"dtype\": \"category\",\n        \"num_unique_values\": 4,\n        \"samples\": [\n          \"high\",\n          \"low\",\n          \"vhigh\"\n        ],\n        \"semantic_type\": \"\",\n        \"description\": \"\"\n      }\n    },\n    {\n      \"column\": \"maint\",\n      \"properties\": {\n        \"dtype\": \"category\",\n        \"num_unique_values\": 4,\n        \"samples\": [\n          \"high\",\n          \"low\",\n          \"vhigh\"\n        ],\n        \"semantic_type\": \"\",\n        \"description\": \"\"\n      }\n    },\n    {\n      \"column\": \"doors\",\n      \"properties\": {\n        \"dtype\": \"category\",\n        \"num_unique_values\": 4,\n        \"samples\": [\n          \"3\",\n          \"5more\",\n          \"2\"\n        ],\n        \"semantic_type\": \"\",\n        \"description\": \"\"\n      }\n    },\n    {\n      \"column\": \"persons\",\n      \"properties\": {\n        \"dtype\": \"category\",\n        \"num_unique_values\": 3,\n        \"samples\": [\n          \"2\",\n          \"4\",\n          \"more\"\n        ],\n        \"semantic_type\": \"\",\n        \"description\": \"\"\n      }\n    },\n    {\n      \"column\": \"lug_capacity\",\n      \"properties\": {\n        \"dtype\": \"category\",\n        \"num_unique_values\": 3,\n        \"samples\": [\n          \"small\",\n          \"med\",\n          \"big\"\n        ],\n        \"semantic_type\": \"\",\n        \"description\": \"\"\n      }\n    },\n    {\n      \"column\": \"safety\",\n      \"properties\": {\n        \"dtype\": \"category\",\n        \"num_unique_values\": 3,\n        \"samples\": [\n          \"low\",\n          \"med\",\n          \"high\"\n        ],\n        \"semantic_type\": \"\",\n        \"description\": \"\"\n      }\n    },\n    {\n      \"column\": \"output\",\n      \"properties\": {\n        \"dtype\": \"category\",\n        \"num_unique_values\": 4,\n        \"samples\": [\n          \"acc\",\n          \"good\",\n          \"unacc\"\n        ],\n        \"semantic_type\": \"\",\n        \"description\": \"\"\n      }\n    }\n  ]\n}"
            }
          },
          "metadata": {},
          "execution_count": 67
        }
      ]
    },
    {
      "cell_type": "code",
      "source": [
        "#데이터셋 분포 시각화\n",
        "fig_size = plt.rcParams['figure.figsize']\n",
        "fig_size[0] = 8\n",
        "fig_size[1] = 6\n",
        "plt.rcParams['figure.figsize'] = fig_size\n",
        "dataset.output.value_counts().plot(kind='pie', autopct='%0.05f%%', colors=['lightblue', 'lightgreen', 'orange', 'pink'], explode=(0.05, 0.05, 0.05, 0.05))"
      ],
      "metadata": {
        "id": "uVNjRhx69FLi",
        "colab": {
          "base_uri": "https://localhost:8080/",
          "height": 517
        },
        "outputId": "7139f6c0-933e-494d-eb80-3548571b3a9d"
      },
      "execution_count": 69,
      "outputs": [
        {
          "output_type": "execute_result",
          "data": {
            "text/plain": [
              "<Axes: ylabel='count'>"
            ]
          },
          "metadata": {},
          "execution_count": 69
        },
        {
          "output_type": "display_data",
          "data": {
            "text/plain": [
              "<Figure size 800x600 with 1 Axes>"
            ],
            "image/png": "[encoded data removed]"
          },
          "metadata": {}
        }
      ]
    },
    {
      "cell_type": "markdown",
      "source": [
        "자동차 상태 분포\n",
        "\n",
        "unacc(허용 불가능) 70%, acc(허용 가능) 30%, vgood(아주좋은)*good(좋은) 10%"
      ],
      "metadata": {
        "id": "HnPXZIY7BkY4"
      }
    },
    {
      "cell_type": "markdown",
      "source": [
        "**데이터 전처리**\n",
        "딥러닝은 통계 알고리즘 기반\n",
        "\n",
        "->따라서 단어를 숫자(텐서)로 변환해야 함 : 임베딩(embedding)\n",
        "\n",
        "주어진 데이터의 형태를 파악하고 숫자로 변형해야 함.\n",
        "\n",
        "\n",
        "\n",
        "범주형 데이터(예제에서 다룸)의 변환\n",
        "\n",
        ": 범주형 데이터 -> dataset[category] -> 넘파이 배열 -> 텐서\n"
      ],
      "metadata": {
        "id": "xD43hzZKDBkF"
      }
    },
    {
      "cell_type": "code",
      "source": [
        "#예제 데이터셋 칼럼 리스트\n",
        "categorical_columns = ['price', 'maint', 'doors', 'persons', 'lug_capacity', 'safety']"
      ],
      "metadata": {
        "id": "J9uUgXyaB9sl"
      },
      "execution_count": 72,
      "outputs": []
    },
    {
      "cell_type": "code",
      "source": [
        "#.astype()메서드 이용해 데이터타입 문자형->정수형 변환\n",
        "for category in categorical_columns :\n",
        "  dataset[category] = dataset[category].astype('category')"
      ],
      "metadata": {
        "id": "PUuouQJOEa8e"
      },
      "execution_count": 73,
      "outputs": []
    },
    {
      "cell_type": "code",
      "source": [
        "print(dataset['price'])"
      ],
      "metadata": {
        "colab": {
          "base_uri": "https://localhost:8080/"
        },
        "id": "FF9vShU1IDyX",
        "outputId": "f1aeddf5-6547-4d9f-e739-3f141a247511"
      },
      "execution_count": 74,
      "outputs": [
        {
          "output_type": "stream",
          "name": "stdout",
          "text": [
            "0       vhigh\n",
            "1       vhigh\n",
            "2       vhigh\n",
            "3       vhigh\n",
            "4       vhigh\n",
            "        ...  \n",
            "1723      low\n",
            "1724      low\n",
            "1725      low\n",
            "1726      low\n",
            "1727      low\n",
            "Name: price, Length: 1728, dtype: category\n",
            "Categories (4, object): ['high', 'low', 'med', 'vhigh']\n"
          ]
        }
      ]
    },
    {
      "cell_type": "code",
      "source": [
        "#.cat.codes : 헤당 카테고리의 값(values)들을 문자->숫자로 변환\n",
        "price = dataset['price'].cat.codes.values\n",
        "maint = dataset['maint'].cat.codes.values #유지 비용\n",
        "doors = dataset['doors'].cat.codes.values\n",
        "persons = dataset['persons'].cat.codes.values\n",
        "lug_capacity = dataset['lug_capacity'].cat.codes.values #수하물 용량\n",
        "safety = dataset['safety'].cat.codes.values\n",
        "\n",
        "print(price)"
      ],
      "metadata": {
        "colab": {
          "base_uri": "https://localhost:8080/"
        },
        "id": "rtJGzysDGed1",
        "outputId": "35810870-831f-4a64-fc86-d22946d341ac"
      },
      "execution_count": 79,
      "outputs": [
        {
          "output_type": "stream",
          "name": "stdout",
          "text": [
            "[3 3 3 ... 1 1 1]\n"
          ]
        }
      ]
    },
    {
      "cell_type": "code",
      "source": [
        "#각 카테고리와 value값들을 합침\n",
        "categorical_data = np.stack( [price, maint, doors, persons, lug_capacity, safety], 1 )\n",
        "categorical_data[:10]"
      ],
      "metadata": {
        "colab": {
          "base_uri": "https://localhost:8080/"
        },
        "id": "928f1tcSJZ8t",
        "outputId": "1c6dc35a-b669-4f8f-ff10-a7e6433db058"
      },
      "execution_count": 81,
      "outputs": [
        {
          "output_type": "execute_result",
          "data": {
            "text/plain": [
              "array([[3, 3, 0, 0, 2, 1],\n",
              "       [3, 3, 0, 0, 2, 2],\n",
              "       [3, 3, 0, 0, 2, 0],\n",
              "       [3, 3, 0, 0, 1, 1],\n",
              "       [3, 3, 0, 0, 1, 2],\n",
              "       [3, 3, 0, 0, 1, 0],\n",
              "       [3, 3, 0, 0, 0, 1],\n",
              "       [3, 3, 0, 0, 0, 2],\n",
              "       [3, 3, 0, 0, 0, 0],\n",
              "       [3, 3, 0, 1, 2, 1]], dtype=int8)"
            ]
          },
          "metadata": {},
          "execution_count": 81
        }
      ]
    },
    {
      "cell_type": "markdown",
      "source": [
        "np.stack( [ 합칠 넘파이 객체1, 객체2, ...], axis=0(각 객체가 행으로)/1(열로) )\n",
        "\n",
        "np.concatenate( [ 합칠 넘파이 객체1, 객체2, ...], axis=0(세로로 연결)/1(가로로 연결) )\n",
        "\n",
        "  - np.stack() : 차원이 바뀜, 모든 넘파이 배열의 차원이 같아야 함 (겹쳐짐)\n",
        "  - np.stack() : 차원 바뀌지 않음, 모든 넘파이 배열의 차원이 같지 않아도 됨 (이어붙여짐)"
      ],
      "metadata": {
        "id": "1n_KhQlCL-Ox"
      }
    },
    {
      "cell_type": "code",
      "source": [],
      "metadata": {
        "id": "lzry1rTmL5yN"
      },
      "execution_count": null,
      "outputs": []
    }
  ]
}