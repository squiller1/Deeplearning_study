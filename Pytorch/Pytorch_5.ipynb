{
  "nbformat": 4,
  "nbformat_minor": 0,
  "metadata": {
    "colab": {
      "provenance": []
    },
    "kernelspec": {
      "name": "python3",
      "display_name": "Python 3"
    },
    "language_info": {
      "name": "python"
    }
  },
  "cells": [
    {
      "cell_type": "markdown",
      "source": [
        "# **5장. 합성곱 신경망 1**"
      ],
      "metadata": {
        "id": "CFQ7vqbsBgRG"
      }
    },
    {
      "cell_type": "markdown",
      "source": [
        "**5.1.2 합성곱 신경망 구조**\n",
        "\n",
        ": **입력층**에서 입력받은 데이터가 **합성곱층**과 **풀링층**을 거치면서 입력 이미지의 주요 특성 벡터가 추출되고, 추출된 주요 특성 벡터들은 **완전연결층**을 거치며 1차원 벡터로 변환되며, **출력층**에서 활성화함수인 소프트멕스 함수를 사용하여 최종 결과가 출력됨"
      ],
      "metadata": {
        "id": "lhGDv7LuCQxI"
      }
    },
    {
      "cell_type": "markdown",
      "source": [
        "**5.1.3 1D, 2D, 3D 합성곱**\n",
        "\n",
        "1. 1D 합성곱 : 1차원 입력 + 1차원 필터(좌우 움직임) = 1차원 출력\n",
        "\n",
        "2. 2D 합성곱 : 2차원 입력(W,H) + 2차원 필터(k,k) = 2차원 출력\n",
        "\n",
        "3. 3D 합성곱 : 3차원 입력(W, H, L) + 3차원 필터(k,k,d) = 3차원 출력 (d<L)\n",
        "\n",
        "4. 3D 입력을 갖는 2D 합성곱 : 3차원 입력(W, H, L) + 3차원 필터(k, k, L) = 2차원 출력(d=L)\n",
        "\n",
        "5. 1x1 합성곱 : 3차원 입력(W, H, L) + 3차원 필터(1, 1, L) = 2차원 출력(W, H)\n",
        "\n"
      ],
      "metadata": {
        "id": "N5jf3gQMIQ2p"
      }
    },
    {
      "cell_type": "code",
      "execution_count": 1,
      "metadata": {
        "id": "dIMyFfK4BcKC"
      },
      "outputs": [],
      "source": [
        "#라이브러리 불러오기\n",
        "import numpy as np\n",
        "import matplotlib.pyplot as plt\n",
        "\n",
        "import torch\n",
        "import torch.nn as nn\n",
        "from torch.autograd import Variable\n",
        "import torch.nn.functional as F\n",
        "\n",
        "import torchvision\n",
        "import torchvision.transforms as transforms\n",
        "from torch.utils.data import Dataset, DataLoader"
      ]
    },
    {
      "cell_type": "code",
      "source": [
        "#CPU or GPU 장치 확인\n",
        "device = torch.device('cuda:0' if torch.cuda.is_available() else 'cpu')"
      ],
      "metadata": {
        "id": "pRbZi0OyruZy"
      },
      "execution_count": 2,
      "outputs": []
    },
    {
      "cell_type": "code",
      "source": [
        "#데이터셋 내려받기\n",
        "train_dataset = torchvision.datasets.FashionMNIST('/content/drive/MyDrive/pytorch_ex/chap05', download=True,\n",
        "                                                  transform=transforms.Compose([transforms.ToTensor()]))\n",
        "test_dataset = torchvision.datasets.FashionMNIST('/content/drive/MyDrive/pytorch_ex/chap05', download=True, train=False,\n",
        "                                                  transform=transforms.Compose([transforms.ToTensor()]))\n",
        "#fashionMNIST를 다운받을 위치 / <-위치에 해당 데이터셋이 있는지 확인 후 내려받음 / 이미지를 텐서(0~1)로 변경"
      ],
      "metadata": {
        "id": "2yHboHB59Xz3"
      },
      "execution_count": 3,
      "outputs": []
    },
    {
      "cell_type": "code",
      "source": [
        "#데이터를 데이터로더에 전달(내려받은 데이터를 메모리로 불러오기 위해)\n",
        "train_loader = torch.utils.data.DataLoader(train_dataset, batch_size=100) #100개 단위로 데이터를 배치로 묶어서 불러옴\n",
        "test_loader = torch.utils.data.DataLoader(test_dataset, batch_size=100)"
      ],
      "metadata": {
        "id": "ss0ZtsJN-YNL"
      },
      "execution_count": 4,
      "outputs": []
    },
    {
      "cell_type": "code",
      "source": [
        "print(len(train_dataset))\n",
        "print(train_dataset[0][1]) #tensor(n차원 특성 가진 텐서, 레이블 숫자)"
      ],
      "metadata": {
        "colab": {
          "base_uri": "https://localhost:8080/"
        },
        "id": "N1aHaoIFzYUU",
        "outputId": "6fab33d8-e82a-4fff-8d36-d165a6e17890"
      },
      "execution_count": 5,
      "outputs": [
        {
          "output_type": "stream",
          "name": "stdout",
          "text": [
            "60000\n",
            "9\n"
          ]
        }
      ]
    },
    {
      "cell_type": "code",
      "source": [
        "#분류에 사용될 클래스 정의\n",
        "labels_map = {   0:'T-Shirt', 1:'Trouser', 2:'Pullover', 3:'Dress', 4:'Coat',\n",
        "              5:'Sandal', 6:'Shirt', 7:'Sneaker', 8:'Bag', 9:'Ankle Boot'   }\n",
        "\n",
        "fig = plt.figure(figsize=(8,8)) ; #출력할 이미지의 가로세로 크기(단위: 인치)\n",
        "columns = 4 ; #그림 4열 출력\n",
        "rows = 5 ; #그림 5행 출력\n",
        "for i in range(1, columns*rows + 1) : #열*행만큼의 그림\n",
        "  img_xy = np.random.randint( len(train_dataset) ) ; #랜덤 샘플 1개 인덱스\n",
        "  img = train_dataset[img_xy][0][0,:,:] #??\n",
        "  fig.add_subplot(rows, columns, i)\n",
        "  plt.title(labels_map[train_dataset[img_xy][1]])\n",
        "  plt.axis('off')\n",
        "  plt.imshow(img, cmap='gray')\n",
        "plt.show() #20개의 이미지 데이터를 시각적으로 표현"
      ],
      "metadata": {
        "colab": {
          "base_uri": "https://localhost:8080/",
          "height": 675
        },
        "id": "OAbqnsyFar8e",
        "outputId": "521bd92a-4b56-4c89-93d8-45c1cea5cde2"
      },
      "execution_count": 6,
      "outputs": [
        {
          "output_type": "display_data",
          "data": {
            "text/plain": [
              "<Figure size 800x800 with 20 Axes>"
            ],
            "image/png": "[encoded data removed]"
          },
          "metadata": {}
        }
      ]
    },
    {
      "cell_type": "code",
      "source": [
        "#심층 신경망 모델 생성\n",
        "\n",
        "class FashionDNN(nn.Module) :\n",
        "  def __init__(self) :\n",
        "    super(FashionDNN, self).__init__()\n",
        "    self.fc1 = nn.Linear(in_features=784, out_features=256) #1차 은닉층 구현\n",
        "    self.drop = nn.Dropout(0.25) #드롭아웃 구현(과적합 막음)\n",
        "    self.fc2 = nn.Linear(in_features=256, out_features=128) #2차 은닉층 구현\n",
        "    self.fc3 = nn.Linear(in_features=128, out_features=10) #출력층 구현\n",
        "\n",
        "  def forward(self, input_data) :\n",
        "    out = input_data.view(-1, 784) #텐서 모양 재구성 -> self.fc1에 들어갈 수 있게 (파이토치의 .view는 넘파이의 .reshape와 같은 역할)\n",
        "    out = F.relu( self.fc1(out) )\n",
        "    out = self.drop( out )\n",
        "    out = F.relu( self.fc2(out) ) #F.relu(): foward() 함수에서 사용 / nn.ReLU(): __init__() 함수에서 정의\n",
        "    out = self.fc3( out )\n",
        "    return out"
      ],
      "metadata": {
        "id": "FSge6rEZ1Mj4"
      },
      "execution_count": 12,
      "outputs": []
    },
    {
      "cell_type": "code",
      "source": [
        "#심층 신경망에 필요한 파라미터 정의\n",
        "learning_rate = 0.001 ;\n",
        "model = FashionDNN() ;\n",
        "model.to(device)\n",
        "\n",
        "criterion = nn.CrossEntropyLoss() ; #크로스 엔트로피(다중 분류 손실함수)\n",
        "optimizer = torch.optim.Adam(model.parameters(), lr=learning_rate) ;\n",
        "print(model)"
      ],
      "metadata": {
        "colab": {
          "base_uri": "https://localhost:8080/"
        },
        "id": "Dj1a0l0o3Ilo",
        "outputId": "310bc525-a786-45c4-99e2-5a0e670f4a6c"
      },
      "execution_count": 13,
      "outputs": [
        {
          "output_type": "stream",
          "name": "stdout",
          "text": [
            "FashionDNN(\n",
            "  (fc1): Linear(in_features=784, out_features=256, bias=True)\n",
            "  (drop): Dropout(p=0.25, inplace=False)\n",
            "  (fc2): Linear(in_features=256, out_features=128, bias=True)\n",
            "  (fc3): Linear(in_features=128, out_features=10, bias=True)\n",
            ")\n"
          ]
        }
      ]
    },
    {
      "cell_type": "code",
      "source": [
        "#심층 신경망을 이용한 모델 학습\n",
        "num_epochs = 5\n",
        "count = 0\n",
        "loss_list = [] #손실 누적\n",
        "iteration_list = [] #반복 누적\n",
        "accuracy_list = [] #정확도 누적\n",
        "\n",
        "predictions_list = [] #예측값 누적\n",
        "labels_list = []\n",
        "\n",
        "\n",
        "for epoch in range(num_epochs) :\n",
        "  for images, labels in train_loader :\n",
        "    images, labels = images.to(device), labels.to(device)\n",
        "\n",
        "    train = Variable( images.view(100, 1, 28, 28) )\n",
        "    labels = Variable(labels)\n",
        "\n",
        "    outputs = model(train) #훈련 세트를 모델에 적용\n",
        "    loss = criterion(outputs, labels) #손실함수(크로스 엔트로피)\n",
        "    optimizer.zero_grad() #가중치 0으로 초기화\n",
        "    loss.backward() #역전파\n",
        "    optimizer.step()\n",
        "    count += 1\n",
        "\n",
        "    if not (count % 50) : #count를 50으로 나눈 나머지가 0이 아니라면\n",
        "      total = 0\n",
        "      correct = 0\n",
        "      for images, labels in test_loader : #테스트 세트\n",
        "        images, labels = images.to(device), labels.to(device)\n",
        "        labels_list.append(labels)\n",
        "        test = Variable( images.view(100, 1, 28, 28) )\n",
        "        outputs = model(test) #테스트 세트를 신경망에 넣어 출력\n",
        "        predictions = torch.max(outputs, 1)[1].to(device) #테스트 세트의 예측값\n",
        "        predictions_list.append(predictions)\n",
        "        correct += (predictions == labels).sum()\n",
        "        total += len(labels)\n",
        "\n",
        "      accuracy = correct * 100 / total\n",
        "\n",
        "      loss_list.append(loss.data)\n",
        "      iteration_list.append(count)\n",
        "      accuracy_list.append(accuracy)\n",
        "\n",
        "    if not (count % 500) :\n",
        "      print(f'Iteration: {count}, Accuracy: {accuracy}, Loss: {loss.data}')"
      ],
      "metadata": {
        "colab": {
          "base_uri": "https://localhost:8080/"
        },
        "id": "pd5r4qEH8cY0",
        "outputId": "c7263826-1421-4690-e3e1-bc6d99750141"
      },
      "execution_count": 14,
      "outputs": [
        {
          "output_type": "stream",
          "name": "stdout",
          "text": [
            "Iteration: 500, Accuracy: 83.25, Loss: 0.6249684691429138\n",
            "Iteration: 1000, Accuracy: 84.41000366210938, Loss: 0.524883508682251\n",
            "Iteration: 1500, Accuracy: 84.80000305175781, Loss: 0.36630794405937195\n",
            "Iteration: 2000, Accuracy: 84.83999633789062, Loss: 0.371034175157547\n",
            "Iteration: 2500, Accuracy: 86.44999694824219, Loss: 0.2579968571662903\n",
            "Iteration: 3000, Accuracy: 86.55999755859375, Loss: 0.31390032172203064\n"
          ]
        }
      ]
    },
    {
      "cell_type": "code",
      "source": [
        "#합성곱 신경망 생성\n",
        "\n",
        "class FashionCNN(nn.Module) :\n",
        "\n",
        "  def __init__(self) :\n",
        "    super(FashionCNN, self).__init__()\n",
        "    self.layer1 = nn.Sequential(\n",
        "        nn.Conv2d(in_channels=1, out_channels=32, kernel_size=3, padding=1), #합성곱층\n",
        "        nn.BatchNorm2d(32), #정규화(가우시안 형태로~)\n",
        "        nn.ReLU(), #렐루 활성화 함수\n",
        "        nn.MaxPool2d(kernel_size=2, stride=2) #최대 풀링\n",
        "    )\n",
        "    self.layer2 = nn.Sequential(\n",
        "        nn.Conv2d(in_channels=32, out_channels=64, kernel_size=3), #합성곱층 1번 더\n",
        "        nn.BatchNorm2d(64),\n",
        "        nn.ReLU(),\n",
        "        nn.MaxPool2d(2)\n",
        "    )\n",
        "    self.fc1 = nn.Linear(in_features=64*6*6, out_features=600)\n",
        "    self.drop = nn.Dropout2d(0.25)\n",
        "    self.fc2 = nn.Linear(in_features=600, out_features=120)\n",
        "    self.fc3 = nn.Linear(in_features=120, out_features=10)\n",
        "\n",
        "  def forward(self, x) :\n",
        "    out = self.layer1(x)\n",
        "    out = self.layer2(out)\n",
        "    out = out.view(out.size(0), -1) #완전연결층에 들어가기 위해 재배치(일자로 펼침)\n",
        "    out = self.fc1(out)\n",
        "    out = self.drop(out)\n",
        "    out = self.fc2(out)\n",
        "    out = self.fc3(out)\n",
        "    return out"
      ],
      "metadata": {
        "id": "v_m5Cb-31r7g"
      },
      "execution_count": 18,
      "outputs": []
    },
    {
      "cell_type": "code",
      "source": [
        "#합성곱 신경망을 위한 파라미터 정의\n",
        "learning_rate = 0.001\n",
        "model = FashionCNN()\n",
        "model.to(device)\n",
        "\n",
        "criterion = nn.CrossEntropyLoss()\n",
        "optimizer = torch.optim.Adam(model.parameters(), lr=learning_rate)\n",
        "print(model)"
      ],
      "metadata": {
        "colab": {
          "base_uri": "https://localhost:8080/"
        },
        "id": "Fsk8oUL28b2u",
        "outputId": "6b717943-cc53-48d9-c7b5-63e27625df65"
      },
      "execution_count": 19,
      "outputs": [
        {
          "output_type": "stream",
          "name": "stdout",
          "text": [
            "FashionCNN(\n",
            "  (layer1): Sequential(\n",
            "    (0): Conv2d(1, 32, kernel_size=(3, 3), stride=(1, 1), padding=(1, 1))\n",
            "    (1): BatchNorm2d(32, eps=1e-05, momentum=0.1, affine=True, track_running_stats=True)\n",
            "    (2): ReLU()\n",
            "    (3): MaxPool2d(kernel_size=2, stride=2, padding=0, dilation=1, ceil_mode=False)\n",
            "  )\n",
            "  (layer2): Sequential(\n",
            "    (0): Conv2d(32, 64, kernel_size=(3, 3), stride=(1, 1))\n",
            "    (1): BatchNorm2d(64, eps=1e-05, momentum=0.1, affine=True, track_running_stats=True)\n",
            "    (2): ReLU()\n",
            "    (3): MaxPool2d(kernel_size=2, stride=2, padding=0, dilation=1, ceil_mode=False)\n",
            "  )\n",
            "  (fc1): Linear(in_features=2304, out_features=600, bias=True)\n",
            "  (drop): Dropout2d(p=0.25, inplace=False)\n",
            "  (fc2): Linear(in_features=600, out_features=120, bias=True)\n",
            "  (fc3): Linear(in_features=120, out_features=10, bias=True)\n",
            ")\n"
          ]
        }
      ]
    },
    {
      "cell_type": "code",
      "source": [
        "#합성곱 신경망을 이용한 모델 학습\n",
        "num_epochs = 5\n",
        "count = 0\n",
        "loss_list = [] #손실 누적\n",
        "iteration_list = [] #반복 누적\n",
        "accuracy_list = [] #정확도 누적\n",
        "\n",
        "predictions_list = [] #예측값 누적\n",
        "labels_list = []\n",
        "\n",
        "\n",
        "for epoch in range(num_epochs) :\n",
        "  for images, labels in train_loader :\n",
        "    images, labels = images.to(device), labels.to(device)\n",
        "\n",
        "    train = Variable( images.view(100, 1, 28, 28) )\n",
        "    labels = Variable(labels)\n",
        "\n",
        "    outputs = model(train) #훈련 세트를 모델에 적용\n",
        "    loss = criterion(outputs, labels) #손실함수(크로스 엔트로피)\n",
        "    optimizer.zero_grad() #가중치 0으로 초기화\n",
        "    loss.backward() #역전파\n",
        "    optimizer.step()\n",
        "    count += 1\n",
        "\n",
        "    if not (count % 50) : #count를 50으로 나눈 나머지가 0이 아니라면\n",
        "      total = 0\n",
        "      correct = 0\n",
        "      for images, labels in test_loader : #테스트 세트\n",
        "        images, labels = images.to(device), labels.to(device)\n",
        "        labels_list.append(labels)\n",
        "        test = Variable( images.view(100, 1, 28, 28) )\n",
        "        outputs = model(test) #테스트 세트를 신경망에 넣어 출력\n",
        "        predictions = torch.max(outputs, 1)[1].to(device) #테스트 세트의 예측값\n",
        "        predictions_list.append(predictions)\n",
        "        correct += (predictions == labels).sum()\n",
        "        total += len(labels)\n",
        "\n",
        "      accuracy = correct * 100 / total\n",
        "\n",
        "      loss_list.append(loss.data)\n",
        "      iteration_list.append(count)\n",
        "      accuracy_list.append(accuracy)\n",
        "\n",
        "    if not (count % 500) :\n",
        "      print(f'Iteration: {count}, Accuracy: {accuracy}, Loss: {loss.data}')"
      ],
      "metadata": {
        "colab": {
          "base_uri": "https://localhost:8080/"
        },
        "outputId": "a2fb2b84-3475-4530-c08e-78ba1ba8bb1d",
        "id": "tib4YLUk9qIy"
      },
      "execution_count": 20,
      "outputs": [
        {
          "output_type": "stream",
          "name": "stderr",
          "text": [
            "/usr/local/lib/python3.11/dist-packages/torch/nn/functional.py:1538: UserWarning: dropout2d: Received a 2-D input to dropout2d, which is deprecated and will result in an error in a future release. To retain the behavior and silence this warning, please use dropout instead. Note that dropout2d exists to provide channel-wise dropout on inputs with 2 spatial dimensions, a channel dimension, and an optional batch dimension (i.e. 3D or 4D inputs).\n",
            "  warnings.warn(warn_msg)\n"
          ]
        },
        {
          "output_type": "stream",
          "name": "stdout",
          "text": [
            "Iteration: 500, Accuracy: 87.73999786376953, Loss: 0.4676769971847534\n",
            "Iteration: 1000, Accuracy: 87.70999908447266, Loss: 0.29811516404151917\n",
            "Iteration: 1500, Accuracy: 88.12999725341797, Loss: 0.3322535455226898\n",
            "Iteration: 2000, Accuracy: 89.56999969482422, Loss: 0.20676559209823608\n",
            "Iteration: 2500, Accuracy: 89.7699966430664, Loss: 0.13257017731666565\n",
            "Iteration: 3000, Accuracy: 90.77999877929688, Loss: 0.172317236661911\n"
          ]
        }
      ]
    },
    {
      "cell_type": "markdown",
      "source": [
        "# 5.3 전이 학습 (Transfer Learning)\n",
        "\n",
        ": 아주 큰 데이터셋을 써서 훈련된 모델의 가중치를 가져와서, 우리가 해결하려는 과제에 맞게 보정하여 사용하는 것\n",
        "\n",
        "---\n",
        "\n",
        "\n",
        "\n",
        "**5.3.1 특성 추출 (Feature Extrator)**\n",
        "\n",
        ": ImageNet 데이터셋으로 사전 훈련된 모델을 가져온 후, 마지막에 **완전연결층 부분만** 새로 만듦\n",
        "\n",
        "- 구성\n",
        "\n",
        "    - 합성곱층: 합성곱층과 풀링층으로 구성\n",
        "    - 데이터 분류기(완전연결층) : 추출된 특성을 입력받아 최종적으로 이미지의 클래스 분류\n",
        "- 데이터 분류기만 새로 학습 (합성곱층은 가중치 고정)"
      ],
      "metadata": {
        "id": "99kwVqHRAceB"
      }
    },
    {
      "cell_type": "code",
      "source": [
        "pip install opencv-python"
      ],
      "metadata": {
        "colab": {
          "base_uri": "https://localhost:8080/"
        },
        "id": "tYZUyZMzBlDX",
        "outputId": "073fecad-de5a-45f3-dee8-9b1d63756a30"
      },
      "execution_count": 21,
      "outputs": [
        {
          "output_type": "stream",
          "name": "stdout",
          "text": [
            "Requirement already satisfied: opencv-python in /usr/local/lib/python3.11/dist-packages (4.11.0.86)\n",
            "Requirement already satisfied: numpy>=1.21.2 in /usr/local/lib/python3.11/dist-packages (from opencv-python) (2.0.2)\n"
          ]
        }
      ]
    },
    {
      "cell_type": "code",
      "source": [
        "#라이브러리 호출\n",
        "\n",
        "import os\n",
        "import time\n",
        "import copy\n",
        "import glob\n",
        "import cv2\n",
        "import shutil\n",
        "\n",
        "import torch\n",
        "import torchvision\n",
        "import torchvision.transforms as transforms #데이터 전처리 패키지\n",
        "import torchvision.models as models\n",
        "import torch.nn as nn\n",
        "import torch.optim as optim\n",
        "from torch.utils.data import DataLoader\n",
        "\n",
        "import matplotlib.pyplot as plt\n"
      ],
      "metadata": {
        "id": "DJ_CLo_KBoGr"
      },
      "execution_count": 23,
      "outputs": []
    },
    {
      "cell_type": "code",
      "source": [
        "#이미지 데이터의 전처리 방법 정의\n",
        "\n",
        "data_path = '/content/drive/MyDrive/pytorch_ex/chap05/data/catanddog/train'\n",
        "\n",
        "transform = transforms.Compose(\n",
        "    [\n",
        "        transforms.Resize( [256,256] ), #이미지 크기 256x256으로 조정\n",
        "        transforms.RandomResizedCrop(224), #이미지를 랜덤한 비율로 자르고 데이터 크기 조정\n",
        "        transforms.RandomHorizontalFlip(), #이미지를 랜덤하게 수평으로 뒤집음\n",
        "        transforms.ToTensor() #이미지 데이터를 텐서로 변환\n",
        "    ]\n",
        ")\n",
        "\n",
        "train_dataset = torchvision.datasets.ImageFolder( data_path, transform = transform )\n",
        "#데이터로더가 데이터를 불러올 대상(or 경로) / 방법(or 전처리) 정의해줌\n",
        "\n",
        "train_loader = torch.utils.data.DataLoader(   train_dataset, batch_size=32, num_workers=8, shuffle=True   )\n",
        "#num_workers: 데이터를 불러올 때 하위 프로세스 몇 개 사용할지 //  shuffle: 데이터 무작위로 섞어서 불러올지\n",
        "\n",
        "print(len(train_dataset))"
      ],
      "metadata": {
        "colab": {
          "base_uri": "https://localhost:8080/"
        },
        "id": "IbSC1r_FDBv4",
        "outputId": "0bfe9a16-47ac-4db6-dc16-9cacee0ac975"
      },
      "execution_count": 25,
      "outputs": [
        {
          "output_type": "stream",
          "name": "stdout",
          "text": [
            "385\n"
          ]
        },
        {
          "output_type": "stream",
          "name": "stderr",
          "text": [
            "/usr/local/lib/python3.11/dist-packages/torch/utils/data/dataloader.py:624: UserWarning: This DataLoader will create 8 worker processes in total. Our suggested max number of worker in current system is 2, which is smaller than what this DataLoader is going to create. Please be aware that excessive worker creation might get DataLoader running slow or even freeze, lower the worker number to avoid potential slowness/freeze if necessary.\n",
            "  warnings.warn(\n"
          ]
        }
      ]
    },
    {
      "cell_type": "code",
      "source": [
        "pip install mxnet"
      ],
      "metadata": {
        "colab": {
          "base_uri": "https://localhost:8080/"
        },
        "id": "T3-ZQ7nqF5Sp",
        "outputId": "6c3f1ec5-6024-4a6d-842e-0424ca46406b"
      },
      "execution_count": 29,
      "outputs": [
        {
          "output_type": "stream",
          "name": "stdout",
          "text": [
            "Requirement already satisfied: mxnet in /usr/local/lib/python3.11/dist-packages (1.9.1)\n",
            "Requirement already satisfied: numpy<2.0.0,>1.16.0 in /usr/local/lib/python3.11/dist-packages (from mxnet) (1.26.4)\n",
            "Requirement already satisfied: requests<3,>=2.20.0 in /usr/local/lib/python3.11/dist-packages (from mxnet) (2.32.3)\n",
            "Requirement already satisfied: graphviz<0.9.0,>=0.8.1 in /usr/local/lib/python3.11/dist-packages (from mxnet) (0.8.4)\n",
            "Requirement already satisfied: charset-normalizer<4,>=2 in /usr/local/lib/python3.11/dist-packages (from requests<3,>=2.20.0->mxnet) (3.4.2)\n",
            "Requirement already satisfied: idna<4,>=2.5 in /usr/local/lib/python3.11/dist-packages (from requests<3,>=2.20.0->mxnet) (3.10)\n",
            "Requirement already satisfied: urllib3<3,>=1.21.1 in /usr/local/lib/python3.11/dist-packages (from requests<3,>=2.20.0->mxnet) (2.4.0)\n",
            "Requirement already satisfied: certifi>=2017.4.17 in /usr/local/lib/python3.11/dist-packages (from requests<3,>=2.20.0->mxnet) (2025.4.26)\n"
          ]
        }
      ]
    },
    {
      "cell_type": "code",
      "source": [
        "pip install --user mxnet"
      ],
      "metadata": {
        "colab": {
          "base_uri": "https://localhost:8080/"
        },
        "id": "c_aq_011GTq_",
        "outputId": "fea33f1d-4120-40a4-d881-59f18a67151e"
      },
      "execution_count": 34,
      "outputs": [
        {
          "output_type": "stream",
          "name": "stdout",
          "text": [
            "Requirement already satisfied: mxnet in /usr/local/lib/python3.11/dist-packages (1.9.1)\n",
            "Requirement already satisfied: numpy<2.0.0,>1.16.0 in /usr/local/lib/python3.11/dist-packages (from mxnet) (1.26.4)\n",
            "Requirement already satisfied: requests<3,>=2.20.0 in /usr/local/lib/python3.11/dist-packages (from mxnet) (2.32.3)\n",
            "Requirement already satisfied: graphviz<0.9.0,>=0.8.1 in /usr/local/lib/python3.11/dist-packages (from mxnet) (0.8.4)\n",
            "Requirement already satisfied: charset-normalizer<4,>=2 in /usr/local/lib/python3.11/dist-packages (from requests<3,>=2.20.0->mxnet) (3.4.2)\n",
            "Requirement already satisfied: idna<4,>=2.5 in /usr/local/lib/python3.11/dist-packages (from requests<3,>=2.20.0->mxnet) (3.10)\n",
            "Requirement already satisfied: urllib3<3,>=1.21.1 in /usr/local/lib/python3.11/dist-packages (from requests<3,>=2.20.0->mxnet) (2.4.0)\n",
            "Requirement already satisfied: certifi>=2017.4.17 in /usr/local/lib/python3.11/dist-packages (from requests<3,>=2.20.0->mxnet) (2025.4.26)\n"
          ]
        }
      ]
    },
    {
      "cell_type": "code",
      "source": [
        "#사전 훈련된 모델 내려받기\n",
        "resnet18 = models.resnet18(pretrained=True) #pretrain: 사전 학습된 가중치를 사용하겠단 의미"
      ],
      "metadata": {
        "colab": {
          "base_uri": "https://localhost:8080/"
        },
        "id": "JyRIdEioN-7h",
        "outputId": "4e0ef5af-b6bc-4ba8-e0dd-e4066cdda4e7"
      },
      "execution_count": 39,
      "outputs": [
        {
          "output_type": "stream",
          "name": "stderr",
          "text": [
            "/usr/local/lib/python3.11/dist-packages/torchvision/models/_utils.py:208: UserWarning: The parameter 'pretrained' is deprecated since 0.13 and may be removed in the future, please use 'weights' instead.\n",
            "  warnings.warn(\n",
            "/usr/local/lib/python3.11/dist-packages/torchvision/models/_utils.py:223: UserWarning: Arguments other than a weight enum or `None` for 'weights' are deprecated since 0.13 and may be removed in the future. The current behavior is equivalent to passing `weights=ResNet18_Weights.IMAGENET1K_V1`. You can also use `weights=ResNet18_Weights.DEFAULT` to get the most up-to-date weights.\n",
            "  warnings.warn(msg)\n",
            "Downloading: \"https://download.pytorch.org/models/resnet18-f37072fd.pth\" to /root/.cache/torch/hub/checkpoints/resnet18-f37072fd.pth\n",
            "100%|██████████| 44.7M/44.7M [00:00<00:00, 141MB/s]\n"
          ]
        }
      ]
    },
    {
      "cell_type": "code",
      "source": [
        "#사전 훈련된 모델의 파라미터 학습 유무 지정\n",
        "\n",
        "def set_parameter_requires_grad(model, feature_extracting=True) :\n",
        "  if feature_extracting :\n",
        "    for param in model.parameters() :\n",
        "      param.requires_grad=False #역전파 중 파라미터들에 대한 변화 계산할 필요 없음 (합성곱층은 가중치 고정)\n",
        "\n",
        "set_parameter_requires_grad(resnet18)"
      ],
      "metadata": {
        "id": "2UDTHGniH3fK"
      },
      "execution_count": 41,
      "outputs": []
    },
    {
      "cell_type": "code",
      "source": [
        "#ResNet18에 완전연결층 추가\n",
        "\n",
        "resnet18.fc = nn.Linear(512, 2)"
      ],
      "metadata": {
        "id": "EdfVwNAbOk7h"
      },
      "execution_count": 43,
      "outputs": []
    },
    {
      "cell_type": "code",
      "source": [
        "#모델의 파라미터 값 확인\n",
        "\n",
        "for name, param in resnet18.named_parameters() : #model.named_parameters()는 모델에 접근하여 파라미터 값들을 가져올 때 사용\n",
        "  if param.requires_grad :\n",
        "    print(name, param.data)"
      ],
      "metadata": {
        "colab": {
          "base_uri": "https://localhost:8080/"
        },
        "id": "lOrXUjOLQfZz",
        "outputId": "a4efdd1e-8533-4582-ffa8-d346dc5779ab"
      },
      "execution_count": 45,
      "outputs": [
        {
          "output_type": "stream",
          "name": "stdout",
          "text": [
            "fc.weight tensor([[ 0.0112,  0.0338,  0.0181,  ..., -0.0265, -0.0244, -0.0341],\n",
            "        [ 0.0033, -0.0374,  0.0205,  ...,  0.0437, -0.0141,  0.0004]])\n",
            "fc.bias tensor([-0.0297, -0.0248])\n"
          ]
        }
      ]
    },
    {
      "cell_type": "code",
      "source": [
        "#모델 객체 생성 및 손실 함수 정의\n",
        "model = models.resnet18(pretrained=True)\n",
        "\n",
        "for param in model.parameters() :\n",
        "  param.requires_grad = False #합성곱층 - 가중치 고정\n",
        "\n",
        "model.fc = torch.nn.Linear(512, 2)\n",
        "for param in model.fc.parameters() :\n",
        "  param.requires_grad = True #완전연결층 - 가중치 학습\n",
        "\n",
        "optimizer = torch.optim.Adam(model.fc.parameters())\n",
        "cost = torch.nn.CrossEntropyLoss()\n",
        "print(model)"
      ],
      "metadata": {
        "colab": {
          "base_uri": "https://localhost:8080/"
        },
        "id": "2dJ2vTsPSH_L",
        "outputId": "f5bbd78d-1a28-4e4f-9e9c-1d03fc71d32a"
      },
      "execution_count": 47,
      "outputs": [
        {
          "output_type": "stream",
          "name": "stdout",
          "text": [
            "ResNet(\n",
            "  (conv1): Conv2d(3, 64, kernel_size=(7, 7), stride=(2, 2), padding=(3, 3), bias=False)\n",
            "  (bn1): BatchNorm2d(64, eps=1e-05, momentum=0.1, affine=True, track_running_stats=True)\n",
            "  (relu): ReLU(inplace=True)\n",
            "  (maxpool): MaxPool2d(kernel_size=3, stride=2, padding=1, dilation=1, ceil_mode=False)\n",
            "  (layer1): Sequential(\n",
            "    (0): BasicBlock(\n",
            "      (conv1): Conv2d(64, 64, kernel_size=(3, 3), stride=(1, 1), padding=(1, 1), bias=False)\n",
            "      (bn1): BatchNorm2d(64, eps=1e-05, momentum=0.1, affine=True, track_running_stats=True)\n",
            "      (relu): ReLU(inplace=True)\n",
            "      (conv2): Conv2d(64, 64, kernel_size=(3, 3), stride=(1, 1), padding=(1, 1), bias=False)\n",
            "      (bn2): BatchNorm2d(64, eps=1e-05, momentum=0.1, affine=True, track_running_stats=True)\n",
            "    )\n",
            "    (1): BasicBlock(\n",
            "      (conv1): Conv2d(64, 64, kernel_size=(3, 3), stride=(1, 1), padding=(1, 1), bias=False)\n",
            "      (bn1): BatchNorm2d(64, eps=1e-05, momentum=0.1, affine=True, track_running_stats=True)\n",
            "      (relu): ReLU(inplace=True)\n",
            "      (conv2): Conv2d(64, 64, kernel_size=(3, 3), stride=(1, 1), padding=(1, 1), bias=False)\n",
            "      (bn2): BatchNorm2d(64, eps=1e-05, momentum=0.1, affine=True, track_running_stats=True)\n",
            "    )\n",
            "  )\n",
            "  (layer2): Sequential(\n",
            "    (0): BasicBlock(\n",
            "      (conv1): Conv2d(64, 128, kernel_size=(3, 3), stride=(2, 2), padding=(1, 1), bias=False)\n",
            "      (bn1): BatchNorm2d(128, eps=1e-05, momentum=0.1, affine=True, track_running_stats=True)\n",
            "      (relu): ReLU(inplace=True)\n",
            "      (conv2): Conv2d(128, 128, kernel_size=(3, 3), stride=(1, 1), padding=(1, 1), bias=False)\n",
            "      (bn2): BatchNorm2d(128, eps=1e-05, momentum=0.1, affine=True, track_running_stats=True)\n",
            "      (downsample): Sequential(\n",
            "        (0): Conv2d(64, 128, kernel_size=(1, 1), stride=(2, 2), bias=False)\n",
            "        (1): BatchNorm2d(128, eps=1e-05, momentum=0.1, affine=True, track_running_stats=True)\n",
            "      )\n",
            "    )\n",
            "    (1): BasicBlock(\n",
            "      (conv1): Conv2d(128, 128, kernel_size=(3, 3), stride=(1, 1), padding=(1, 1), bias=False)\n",
            "      (bn1): BatchNorm2d(128, eps=1e-05, momentum=0.1, affine=True, track_running_stats=True)\n",
            "      (relu): ReLU(inplace=True)\n",
            "      (conv2): Conv2d(128, 128, kernel_size=(3, 3), stride=(1, 1), padding=(1, 1), bias=False)\n",
            "      (bn2): BatchNorm2d(128, eps=1e-05, momentum=0.1, affine=True, track_running_stats=True)\n",
            "    )\n",
            "  )\n",
            "  (layer3): Sequential(\n",
            "    (0): BasicBlock(\n",
            "      (conv1): Conv2d(128, 256, kernel_size=(3, 3), stride=(2, 2), padding=(1, 1), bias=False)\n",
            "      (bn1): BatchNorm2d(256, eps=1e-05, momentum=0.1, affine=True, track_running_stats=True)\n",
            "      (relu): ReLU(inplace=True)\n",
            "      (conv2): Conv2d(256, 256, kernel_size=(3, 3), stride=(1, 1), padding=(1, 1), bias=False)\n",
            "      (bn2): BatchNorm2d(256, eps=1e-05, momentum=0.1, affine=True, track_running_stats=True)\n",
            "      (downsample): Sequential(\n",
            "        (0): Conv2d(128, 256, kernel_size=(1, 1), stride=(2, 2), bias=False)\n",
            "        (1): BatchNorm2d(256, eps=1e-05, momentum=0.1, affine=True, track_running_stats=True)\n",
            "      )\n",
            "    )\n",
            "    (1): BasicBlock(\n",
            "      (conv1): Conv2d(256, 256, kernel_size=(3, 3), stride=(1, 1), padding=(1, 1), bias=False)\n",
            "      (bn1): BatchNorm2d(256, eps=1e-05, momentum=0.1, affine=True, track_running_stats=True)\n",
            "      (relu): ReLU(inplace=True)\n",
            "      (conv2): Conv2d(256, 256, kernel_size=(3, 3), stride=(1, 1), padding=(1, 1), bias=False)\n",
            "      (bn2): BatchNorm2d(256, eps=1e-05, momentum=0.1, affine=True, track_running_stats=True)\n",
            "    )\n",
            "  )\n",
            "  (layer4): Sequential(\n",
            "    (0): BasicBlock(\n",
            "      (conv1): Conv2d(256, 512, kernel_size=(3, 3), stride=(2, 2), padding=(1, 1), bias=False)\n",
            "      (bn1): BatchNorm2d(512, eps=1e-05, momentum=0.1, affine=True, track_running_stats=True)\n",
            "      (relu): ReLU(inplace=True)\n",
            "      (conv2): Conv2d(512, 512, kernel_size=(3, 3), stride=(1, 1), padding=(1, 1), bias=False)\n",
            "      (bn2): BatchNorm2d(512, eps=1e-05, momentum=0.1, affine=True, track_running_stats=True)\n",
            "      (downsample): Sequential(\n",
            "        (0): Conv2d(256, 512, kernel_size=(1, 1), stride=(2, 2), bias=False)\n",
            "        (1): BatchNorm2d(512, eps=1e-05, momentum=0.1, affine=True, track_running_stats=True)\n",
            "      )\n",
            "    )\n",
            "    (1): BasicBlock(\n",
            "      (conv1): Conv2d(512, 512, kernel_size=(3, 3), stride=(1, 1), padding=(1, 1), bias=False)\n",
            "      (bn1): BatchNorm2d(512, eps=1e-05, momentum=0.1, affine=True, track_running_stats=True)\n",
            "      (relu): ReLU(inplace=True)\n",
            "      (conv2): Conv2d(512, 512, kernel_size=(3, 3), stride=(1, 1), padding=(1, 1), bias=False)\n",
            "      (bn2): BatchNorm2d(512, eps=1e-05, momentum=0.1, affine=True, track_running_stats=True)\n",
            "    )\n",
            "  )\n",
            "  (avgpool): AdaptiveAvgPool2d(output_size=(1, 1))\n",
            "  (fc): Linear(in_features=512, out_features=2, bias=True)\n",
            ")\n"
          ]
        }
      ]
    },
    {
      "cell_type": "code",
      "source": [
        "#모델 학습을 위한 함수 생성\n",
        "\n",
        "def train_model(model, dataloaders, criterion, optimizer, device, num_epochs=13, is_train=True) :\n",
        "  since = time.time() #컴퓨터의 현재 시각 구하는 함수\n",
        "  acc_history = []\n",
        "  loss_history = []\n",
        "  best_acc = 0.0\n",
        "\n",
        "  for epoch in range(num_epochs) :\n",
        "    print(f'Epoch {epoch}/{num_epochs-1}') #n번째/전체 에포크\n",
        "    print('-'*10)\n",
        "\n",
        "    running_loss = 0.0\n",
        "    running_corrects = 0\n",
        "\n",
        "    for inputs, labels in dataloaders :\n",
        "      inputs = inputs.to(device)\n",
        "      labels = labels.to(device)\n",
        "\n",
        "      model.to(device)\n",
        "      optimizer.zero_grad() #가중치 0으로 초기화\n",
        "      outputs = model(inputs) #순전파 계산\n",
        "      loss = criterion(outputs, labels)\n",
        "      _, preds = torch.max(outputs, 1)\n",
        "      loss.backward()\n",
        "      optimizer.step()\n",
        "\n",
        "      running_loss += loss.item() * inputs.size(0)\n",
        "      running_corrects += torch.sum(preds == labels.data)\n",
        "\n",
        "    epoch_loss = running_loss / len(dataloaders.dataset) #평균 오차 계산\n",
        "    epoch_acc = running_corrects.double() / len(dataloaders.dataset)\n",
        "\n",
        "    print(f'loss: {epoch_loss:.4f}  acc: {epoch_acc:.4f}')\n",
        "\n",
        "    if epoch_acc > best_acc:\n",
        "      best_acc = epoch_acc\n",
        "\n",
        "    acc_history.append(epoch_acc.item())\n",
        "    loss_history.append(epoch_loss)\n",
        "    torch.save(model.state_dict(), os.path.join('/content/drive/MyDrive/pytorch_ex/chap05/data/catanddog',\n",
        "                                                '{0:0=2d}.pth'.format(epoch))) #모델 재사용 위해 저장해둠\n",
        "\n",
        "    print()\n",
        "\n",
        "  time_elapsed = time.time() - since\n",
        "  print(f'Training complete in {time_elapsed // 60 : .0f}m {time_elapsed % 60 : .0f}s')\n",
        "  print(f'Best Acc: {best_acc:4f}')\n",
        "\n",
        "  return acc_history, loss_history"
      ],
      "metadata": {
        "id": "PcBH-9pHVojk"
      },
      "execution_count": 60,
      "outputs": []
    },
    {
      "cell_type": "code",
      "source": [
        "#파라미터 학습 결과를 옵티마이저에 전달\n",
        "params_to_update = []\n",
        "\n",
        "for name, param in resnet18.named_parameters() :\n",
        "  if param.requires_grad == True :\n",
        "    params_to_update.append(param)\n",
        "    print('\\t', name)\n",
        "\n",
        "optimizer = optim.Adam(params_to_update) #완전연결층의 어떤 파라미터들이 옵티마이저로 전달되었는지를 보여줌\n",
        "#(가중치와 절편이 업데이트되고 옵티마이저에 전달됨)"
      ],
      "metadata": {
        "colab": {
          "base_uri": "https://localhost:8080/"
        },
        "id": "yqTEyzvhbN03",
        "outputId": "313202cb-22ef-440a-bd06-1833920684c4"
      },
      "execution_count": 61,
      "outputs": [
        {
          "output_type": "stream",
          "name": "stdout",
          "text": [
            "\t fc.weight\n",
            "\t fc.bias\n"
          ]
        }
      ]
    },
    {
      "cell_type": "code",
      "source": [
        "#모델 학습\n",
        "\n",
        "device = torch.device('cuda' if torch.cuda.is_available() else 'cpu')\n",
        "criterion = nn.CrossEntropyLoss()\n",
        "train_acc_history, train_loss_history = train_model(resnet18, train_loader, criterion, optimizer, device)"
      ],
      "metadata": {
        "colab": {
          "base_uri": "https://localhost:8080/"
        },
        "id": "LXEeZD_TceUK",
        "outputId": "85126c2d-18b3-40dd-8f0b-01574d104e02"
      },
      "execution_count": 62,
      "outputs": [
        {
          "output_type": "stream",
          "name": "stdout",
          "text": [
            "Epoch 0/12\n",
            "----------\n"
          ]
        },
        {
          "output_type": "stream",
          "name": "stderr",
          "text": [
            "/usr/local/lib/python3.11/dist-packages/torch/utils/data/dataloader.py:624: UserWarning: This DataLoader will create 8 worker processes in total. Our suggested max number of worker in current system is 2, which is smaller than what this DataLoader is going to create. Please be aware that excessive worker creation might get DataLoader running slow or even freeze, lower the worker number to avoid potential slowness/freeze if necessary.\n",
            "  warnings.warn(\n"
          ]
        },
        {
          "output_type": "stream",
          "name": "stdout",
          "text": [
            "loss: 0.1562  acc: 0.9325\n",
            "\n",
            "Epoch 1/12\n",
            "----------\n",
            "loss: 0.1559  acc: 0.9377\n",
            "\n",
            "Epoch 2/12\n",
            "----------\n",
            "loss: 0.1621  acc: 0.9221\n",
            "\n",
            "Epoch 3/12\n",
            "----------\n",
            "loss: 0.2150  acc: 0.9143\n",
            "\n",
            "Epoch 4/12\n",
            "----------\n",
            "loss: 0.2469  acc: 0.8909\n",
            "\n",
            "Epoch 5/12\n",
            "----------\n",
            "loss: 0.2624  acc: 0.8831\n",
            "\n",
            "Epoch 6/12\n",
            "----------\n",
            "loss: 0.1622  acc: 0.9221\n",
            "\n",
            "Epoch 7/12\n",
            "----------\n",
            "loss: 0.1510  acc: 0.9403\n",
            "\n",
            "Epoch 8/12\n",
            "----------\n",
            "loss: 0.1493  acc: 0.9429\n",
            "\n",
            "Epoch 9/12\n",
            "----------\n",
            "loss: 0.1809  acc: 0.9299\n",
            "\n",
            "Epoch 10/12\n",
            "----------\n",
            "loss: 0.1473  acc: 0.9377\n",
            "\n",
            "Epoch 11/12\n",
            "----------\n",
            "loss: 0.1997  acc: 0.9169\n",
            "\n",
            "Epoch 12/12\n",
            "----------\n",
            "loss: 0.1228  acc: 0.9610\n",
            "\n",
            "Training complete in  11m  43s\n",
            "Best Acc: 0.961039\n"
          ]
        }
      ]
    },
    {
      "cell_type": "code",
      "source": [
        "#테스트 세트 호출 및 전처리\n",
        "\n",
        "test_path = '/content/drive/MyDrive/pytorch_ex/chap05/data/catanddog/test' #테스트 세트 파일 경로\n",
        "\n",
        "transform = transforms.Compose(\n",
        "    [\n",
        "        transforms.Resize(224),\n",
        "        transforms.CenterCrop(224),\n",
        "        transforms.ToTensor()\n",
        "    ]\n",
        ")\n",
        "\n",
        "test_dataset = torchvision.datasets.ImageFolder( root=test_path, transform=transform )\n",
        "\n",
        "test_loader = torch.utils.data.DataLoader( test_dataset, batch_size=32, num_workers=1, shuffle=True )\n",
        "\n",
        "print(len(test_dataset))"
      ],
      "metadata": {
        "colab": {
          "base_uri": "https://localhost:8080/"
        },
        "id": "K3D8tvN1dXKO",
        "outputId": "bd2303f0-d56f-4749-c2ac-b38a8f1a34c2"
      },
      "execution_count": 66,
      "outputs": [
        {
          "output_type": "stream",
          "name": "stdout",
          "text": [
            "98\n"
          ]
        }
      ]
    },
    {
      "cell_type": "code",
      "source": [
        "#테스트셋 평가 함수 생성\n",
        "\n",
        "def eval_model(model, dataloaders, device) :\n",
        "  since = time.time()\n",
        "  acc_history = []\n",
        "  best_acc = 0.0\n",
        "\n",
        "  saved_models = glob.glob('/content/drive/MyDrive/pytorch_ex/chap05/data/catanddog/' + '*.pth') #앞 경로에서 pth확장자 갖는 파일 가져옴\n",
        "  saved_models.sort()\n",
        "  print('saved_model', saved_models)\n",
        "\n",
        "  for model_path in saved_models :\n",
        "    print('Loading model', model_path)\n",
        "\n",
        "    model.load_state_dict(torch.load(model_path))\n",
        "    model.eval()\n",
        "    model.to(device)\n",
        "    running_corrects = 0\n",
        "\n",
        "    for inputs, labels in dataloaders :\n",
        "      inputs = inputs.to(device)\n",
        "      labels = labels.to(device)\n",
        "\n",
        "      with torch.no_grad() :\n",
        "        outputs = model(inputs)\n",
        "\n",
        "      _, preds = torch.max(outputs.data, 1)\n",
        "      preds[preds >= 0.5] = 1 #출력된 값이 0.5 이상일 시 올바르게 예측\n",
        "      preds[preds < 0.5] = 0 #출력된 값이 0.5 미만일 시 잘못된 예측\n",
        "      running_corrects += preds.eq(labels).int().sum() #pred.eq(labels): pred배열과 labels가 일치하는지 검사\n",
        "\n",
        "    epoch_acc = running_corrects.double() / len(dataloaders.dataset) #테스트 세트의 정확도 계산\n",
        "    print(f'acc: {epoch_acc:.4f}')\n",
        "\n",
        "    if epoch_acc > best_acc :\n",
        "      best_acc = epoch_acc\n",
        "\n",
        "    acc_history.append(epoch_acc.item())\n",
        "    print()\n",
        "\n",
        "  time_elapsed = time.time() - since\n",
        "  print(f'Validation complete in {time_elapsed // 60 : .0f}m {time_elapsed % 60 : .0f}s')\n",
        "  print(f'Best Acc: {best_acc:4f}')\n",
        "\n",
        "  return acc_history"
      ],
      "metadata": {
        "id": "CQj6Eg4jf1EY"
      },
      "execution_count": 80,
      "outputs": []
    },
    {
      "cell_type": "code",
      "source": [
        "#테스트세트를 평가 함수에 적용\n",
        "\n",
        "val_acc_history = eval_model(resnet18, test_loader, device)"
      ],
      "metadata": {
        "colab": {
          "base_uri": "https://localhost:8080/"
        },
        "id": "eQSEwdPHmapz",
        "outputId": "b45a1693-bf34-4122-f63b-68093e0b1d57"
      },
      "execution_count": 81,
      "outputs": [
        {
          "output_type": "stream",
          "name": "stdout",
          "text": [
            "saved_model ['/content/drive/MyDrive/pytorch_ex/chap05/data/catanddog/00.pth', '/content/drive/MyDrive/pytorch_ex/chap05/data/catanddog/01.pth', '/content/drive/MyDrive/pytorch_ex/chap05/data/catanddog/02.pth', '/content/drive/MyDrive/pytorch_ex/chap05/data/catanddog/03.pth', '/content/drive/MyDrive/pytorch_ex/chap05/data/catanddog/04.pth', '/content/drive/MyDrive/pytorch_ex/chap05/data/catanddog/05.pth', '/content/drive/MyDrive/pytorch_ex/chap05/data/catanddog/06.pth', '/content/drive/MyDrive/pytorch_ex/chap05/data/catanddog/07.pth', '/content/drive/MyDrive/pytorch_ex/chap05/data/catanddog/08.pth', '/content/drive/MyDrive/pytorch_ex/chap05/data/catanddog/09.pth', '/content/drive/MyDrive/pytorch_ex/chap05/data/catanddog/10.pth', '/content/drive/MyDrive/pytorch_ex/chap05/data/catanddog/11.pth', '/content/drive/MyDrive/pytorch_ex/chap05/data/catanddog/12.pth']\n",
            "Loading model /content/drive/MyDrive/pytorch_ex/chap05/data/catanddog/00.pth\n",
            "acc: 0.9592\n",
            "\n",
            "Loading model /content/drive/MyDrive/pytorch_ex/chap05/data/catanddog/01.pth\n",
            "acc: 0.9388\n",
            "\n",
            "Loading model /content/drive/MyDrive/pytorch_ex/chap05/data/catanddog/02.pth\n",
            "acc: 0.9592\n",
            "\n",
            "Loading model /content/drive/MyDrive/pytorch_ex/chap05/data/catanddog/03.pth\n",
            "acc: 0.9592\n",
            "\n",
            "Loading model /content/drive/MyDrive/pytorch_ex/chap05/data/catanddog/04.pth\n",
            "acc: 0.9388\n",
            "\n",
            "Loading model /content/drive/MyDrive/pytorch_ex/chap05/data/catanddog/05.pth\n",
            "acc: 0.9490\n",
            "\n",
            "Loading model /content/drive/MyDrive/pytorch_ex/chap05/data/catanddog/06.pth\n",
            "acc: 0.9184\n",
            "\n",
            "Loading model /content/drive/MyDrive/pytorch_ex/chap05/data/catanddog/07.pth\n",
            "acc: 0.9490\n",
            "\n",
            "Loading model /content/drive/MyDrive/pytorch_ex/chap05/data/catanddog/08.pth\n",
            "acc: 0.9388\n",
            "\n",
            "Loading model /content/drive/MyDrive/pytorch_ex/chap05/data/catanddog/09.pth\n",
            "acc: 0.9490\n",
            "\n",
            "Loading model /content/drive/MyDrive/pytorch_ex/chap05/data/catanddog/10.pth\n",
            "acc: 0.9490\n",
            "\n",
            "Loading model /content/drive/MyDrive/pytorch_ex/chap05/data/catanddog/11.pth\n",
            "acc: 0.9490\n",
            "\n",
            "Loading model /content/drive/MyDrive/pytorch_ex/chap05/data/catanddog/12.pth\n",
            "acc: 0.9490\n",
            "\n",
            "Validation complete in  2m  42s\n",
            "Best Acc: 0.959184\n"
          ]
        }
      ]
    },
    {
      "cell_type": "code",
      "source": [
        "#훈련 세트와 데이터세트의 정확도 그래프\n",
        "\n",
        "plt.plot(train_acc_history, label='train_acc')\n",
        "plt.plot(val_acc_history, label='val_acc')\n",
        "plt.legend()\n",
        "plt.show()"
      ],
      "metadata": {
        "colab": {
          "base_uri": "https://localhost:8080/",
          "height": 430
        },
        "id": "MkruuccDpKG_",
        "outputId": "76db5911-bd61-49d3-8d78-57eb46ddb058"
      },
      "execution_count": 82,
      "outputs": [
        {
          "output_type": "display_data",
          "data": {
            "text/plain": [
              "<Figure size 640x480 with 1 Axes>"
            ],
            "image/png": "[encoded data removed]"
          },
          "metadata": {}
        }
      ]
    },
    {
      "cell_type": "code",
      "source": [
        "#오차 그래프\n",
        "\n",
        "plt.plot(train_loss_history)\n",
        "plt.show()"
      ],
      "metadata": {
        "colab": {
          "base_uri": "https://localhost:8080/",
          "height": 430
        },
        "id": "mq-ETqsQquEr",
        "outputId": "4e68dccd-fcac-4da6-a1c3-715aaf762eed"
      },
      "execution_count": 83,
      "outputs": [
        {
          "output_type": "display_data",
          "data": {
            "text/plain": [
              "<Figure size 640x480 with 1 Axes>"
            ],
            "image/png": "[encoded data removed]"
          },
          "metadata": {}
        }
      ]
    },
    {
      "cell_type": "markdown",
      "source": [
        "**5.3.2 미세 조정 기법**\n",
        "\n",
        ": 사전 훈련된 네트워크를 미세 조정하여, 분석하려는 데이터셋에 잘 맞도록 모델의 파라미터를 조정하는 기법\n",
        "\n",
        "- 특성 추출과 다르게, 사전 훈련된 모델과 합성곱층의 가중치도 업데이트하여 훈련시킴\n",
        "- 미세 조정 기법의 전략\n",
        "    1. 데이터셋이 크고 / 사전 훈련된 모델과 유사성이 작을 경우\n",
        "\n",
        "    : 모델 전체 재학습\n",
        "\n",
        "    2. 데이터셋이 크고 / 사전 훈련된 모델과 유사성이 클 경우\n",
        "\n",
        "    : 합성곱층의 뒷부분, 데이터 분류기 재학습\n",
        "\n",
        "    3. 데이터셋이 작고 / 사전 훈련된 모델과 유사성이 클 경우\n",
        "\n",
        "    : 데이터 분류기만 재학습\n",
        "\n",
        "    4. 데이터셋이 작고 / 사전 훈련된 모델과 유사성이 작을 경우\n",
        "\n",
        "    : 재학습 범위 적당히 설정 필요"
      ],
      "metadata": {
        "id": "eTD8pp3Zvhro"
      }
    },
    {
      "cell_type": "markdown",
      "source": [
        "# 5.4 설명 가능한 CNN\n",
        "\n",
        ": CNN은 내부에서 어떻게 동작하는지 설명이 어렵기 때문에, CNN의 결과를 신뢰하기 위하여 CNN 처리 과정을 시각화할 필요성이 있음"
      ],
      "metadata": {
        "id": "AAdgEXzmzpL3"
      }
    },
    {
      "cell_type": "code",
      "source": [
        "pip install pillow"
      ],
      "metadata": {
        "colab": {
          "base_uri": "https://localhost:8080/"
        },
        "id": "mQ21WQfB03xR",
        "outputId": "ab292a0f-cbe8-49c8-a540-c25cc0a7de47"
      },
      "execution_count": 85,
      "outputs": [
        {
          "output_type": "stream",
          "name": "stdout",
          "text": [
            "Requirement already satisfied: pillow in /usr/local/lib/python3.11/dist-packages (11.2.1)\n"
          ]
        }
      ]
    },
    {
      "cell_type": "code",
      "source": [
        "#특성 맵 시각화 예제\n",
        "\n"
      ],
      "metadata": {
        "id": "ehX78Qg40uwc"
      },
      "execution_count": null,
      "outputs": []
    }
  ]
}