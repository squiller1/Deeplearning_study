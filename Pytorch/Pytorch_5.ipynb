{
  "nbformat": 4,
  "nbformat_minor": 0,
  "metadata": {
    "colab": {
      "provenance": []
    },
    "kernelspec": {
      "name": "python3",
      "display_name": "Python 3"
    },
    "language_info": {
      "name": "python"
    }
  },
  "cells": [
    {
      "cell_type": "markdown",
      "source": [
        "# **5장. 합성곱 신경망 1**"
      ],
      "metadata": {
        "id": "CFQ7vqbsBgRG"
      }
    },
    {
      "cell_type": "markdown",
      "source": [
        "**5.1.2 합성곱 신경망 구조**\n",
        "\n",
        ": **입력층**에서 입력받은 데이터가 **합성곱층**과 **풀링층**을 거치면서 입력 이미지의 주요 특성 벡터가 추출되고, 추출된 주요 특성 벡터들은 **완전연결층**을 거치며 1차원 벡터로 변환되며, **출력층**에서 활성화함수인 소프트멕스 함수를 사용하여 최종 결과가 출력됨"
      ],
      "metadata": {
        "id": "lhGDv7LuCQxI"
      }
    },
    {
      "cell_type": "markdown",
      "source": [
        "**5.1.3 1D, 2D, 3D 합성곱**\n",
        "\n",
        "1. 1D 합성곱\n",
        "\n"
      ],
      "metadata": {
        "id": "N5jf3gQMIQ2p"
      }
    },
    {
      "cell_type": "code",
      "execution_count": null,
      "metadata": {
        "id": "dIMyFfK4BcKC"
      },
      "outputs": [],
      "source": []
    }
  ]
}