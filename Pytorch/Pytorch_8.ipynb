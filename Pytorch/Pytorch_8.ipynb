{
  "nbformat": 4,
  "nbformat_minor": 0,
  "metadata": {
    "colab": {
      "provenance": [],
      "gpuType": "T4"
    },
    "kernelspec": {
      "name": "python3",
      "display_name": "Python 3"
    },
    "language_info": {
      "name": "python"
    },
    "accelerator": "GPU"
  },
  "cells": [
    {
      "cell_type": "markdown",
      "source": [
        "# **8장. 성능 최적화**"
      ],
      "metadata": {
        "id": "ETroK8UlxYj2"
      }
    },
    {
      "cell_type": "markdown",
      "source": [
        "# 8.1 성능 최적화\n",
        "\n",
        "8.1.1 데이터를 사용한 최적화\n",
        "\n",
        "    - 최대한 많은 데이터 수집하기\n",
        "    - 데이터 생성하기 (이미지 조작)\n",
        "    - 데이터 범위 조정하기 (scale)\n",
        "    - 정규화, 규제화, 표준화 등\n",
        "\n",
        "8.1.2 알고리즘을 이용한 성능 최적화\n",
        "\n",
        "    - 알고리즘을 바꿔가면서 최적의 성능 보이는 알고리즘 선택\n",
        "\n",
        "8.1.3 알고리즘 튜닝을 이용한 성능 최적화 (하이퍼파라미터)\n",
        "\n",
        "    - 진단\n",
        "    - 가중치\n",
        "    - 학습률\n",
        "    - 활성화 함수\n",
        "    - 배치와 에포크\n",
        "    - 옵티마이저 및 손실 함수\n",
        "    - 네트워크 구성 (ex: 하나의 은닉층에 여러 뉴런(네트워크가 넓음), 여러 계층에 적은 뉴런(네트워크 깊음))\n",
        "\n",
        "8.1.4 앙상블을 이용한 성능 최적화\n",
        "\n",
        "    - 앙상블 : 모델을 두 개 이상 섞어서 사용하는 것"
      ],
      "metadata": {
        "id": "cBfImYOLxdtc"
      }
    },
    {
      "cell_type": "markdown",
      "source": [
        "# 8.2 하드웨어를 이용한 성능 최적화 (CPU, GPU)\n",
        "\n",
        "8.2.1 CPU와 GPU의 차이\n",
        "\n",
        "    - CPU : 한 번에 하나의 명령어만 순차적으로 처리\n",
        "    - GPU : 서로 다른 명령어를 동시에 병렬적으로 처리"
      ],
      "metadata": {
        "id": "qpNEKzpd0r9k"
      }
    },
    {
      "cell_type": "markdown",
      "source": [
        "# 8.3 하이퍼파라미터를 이용한 성능 최적화\n",
        "\n",
        "    - 배치 정규화\n",
        "    - 드롭 아웃\n",
        "    - 조기 종료"
      ],
      "metadata": {
        "id": "2ekUauHY3qbl"
      }
    },
    {
      "cell_type": "code",
      "execution_count": 1,
      "metadata": {
        "id": "oi8e2FCUxVsP"
      },
      "outputs": [],
      "source": [
        "#배치 정규화와 드롭아웃 예제\n",
        "\n",
        "#라이브러리 호출\n",
        "import torch\n",
        "import matplotlib.pyplot as plt\n",
        "import numpy as np\n",
        "\n",
        "import torchvision\n",
        "import torchvision.transforms as transforms\n",
        "\n",
        "import torch.nn as nn\n",
        "import torch.optim as optim"
      ]
    },
    {
      "cell_type": "code",
      "source": [
        "trainset = torchvision.datasets.FashionMNIST(root='/content/drive/MyDrive/pytorch_ex/chap08/data',\n",
        "                                             train=True, download=True, transform=transforms.ToTensor())"
      ],
      "metadata": {
        "colab": {
          "base_uri": "https://localhost:8080/"
        },
        "id": "Qg-7WreO-dDn",
        "outputId": "afe198c9-279e-4d58-8856-9e399168166b"
      },
      "execution_count": 2,
      "outputs": [
        {
          "output_type": "stream",
          "name": "stderr",
          "text": [
            "100%|██████████| 26.4M/26.4M [00:03<00:00, 8.51MB/s]\n",
            "100%|██████████| 29.5k/29.5k [00:00<00:00, 210kB/s]\n",
            "100%|██████████| 4.42M/4.42M [00:01<00:00, 3.90MB/s]\n",
            "100%|██████████| 5.15k/5.15k [00:00<00:00, 12.7MB/s]\n"
          ]
        }
      ]
    },
    {
      "cell_type": "code",
      "source": [
        "batch_size = 4\n",
        "trainloader = torch.utils.data.DataLoader(trainset, batch_size=batch_size, shuffle=True)"
      ],
      "metadata": {
        "id": "9CyU7F8W-1IH"
      },
      "execution_count": 3,
      "outputs": []
    },
    {
      "cell_type": "code",
      "source": [
        "#데이터셋 분리\n",
        "dataiter = iter(trainloader)\n",
        "images, labels = dataiter.next()\n",
        "\n",
        "print(images.shape)"
      ],
      "metadata": {
        "id": "TOHoKxbz_EKa"
      },
      "execution_count": null,
      "outputs": []
    }
  ]
}