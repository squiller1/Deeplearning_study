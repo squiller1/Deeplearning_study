{
  "nbformat": 4,
  "nbformat_minor": 0,
  "metadata": {
    "colab": {
      "provenance": []
    },
    "kernelspec": {
      "name": "python3",
      "display_name": "Python 3"
    },
    "language_info": {
      "name": "python"
    }
  },
  "cells": [
    {
      "cell_type": "markdown",
      "source": [
        "#**12장. 강화 학습**"
      ],
      "metadata": {
        "id": "b5Kdko44Hi0o"
      }
    },
    {
      "cell_type": "code",
      "source": [
        "pip install gym"
      ],
      "metadata": {
        "colab": {
          "base_uri": "https://localhost:8080/"
        },
        "id": "Iuh32g164CGk",
        "outputId": "67661750-7173-4f79-97e9-b1018468555c"
      },
      "execution_count": 1,
      "outputs": [
        {
          "output_type": "stream",
          "name": "stdout",
          "text": [
            "Requirement already satisfied: gym in /usr/local/lib/python3.11/dist-packages (0.25.2)\n",
            "Requirement already satisfied: numpy>=1.18.0 in /usr/local/lib/python3.11/dist-packages (from gym) (2.0.2)\n",
            "Requirement already satisfied: cloudpickle>=1.2.0 in /usr/local/lib/python3.11/dist-packages (from gym) (3.1.1)\n",
            "Requirement already satisfied: gym-notices>=0.0.4 in /usr/local/lib/python3.11/dist-packages (from gym) (0.0.8)\n"
          ]
        }
      ]
    },
    {
      "cell_type": "code",
      "execution_count": 2,
      "metadata": {
        "colab": {
          "base_uri": "https://localhost:8080/"
        },
        "id": "BLDD4eQuHiBZ",
        "outputId": "d46f25e4-dfeb-44a2-da30-833b9ac1e0d6"
      },
      "outputs": [
        {
          "output_type": "stream",
          "name": "stderr",
          "text": [
            "/usr/local/lib/python3.11/dist-packages/gym/core.py:317: DeprecationWarning: \u001b[33mWARN: Initializing wrapper in old step API which returns one bool instead of two. It is recommended to set `new_step_api=True` to use new step API. This will be the default behaviour in future.\u001b[0m\n",
            "  deprecation(\n",
            "/usr/local/lib/python3.11/dist-packages/gym/wrappers/step_api_compatibility.py:39: DeprecationWarning: \u001b[33mWARN: Initializing environment in old step API which returns one bool instead of two. It is recommended to set `new_step_api=True` to use new step API. This will be the default behaviour in future.\u001b[0m\n",
            "  deprecation(\n"
          ]
        }
      ],
      "source": [
        "# 딥 큐-러닝 예제\n",
        "\n",
        "#라이브러리 호출\n",
        "import gym\n",
        "import math\n",
        "import random\n",
        "import numpy as np\n",
        "import matplotlib\n",
        "import matplotlib.pyplot as plt\n",
        "from collections import namedtuple\n",
        "from itertools import count\n",
        "from PIL import Image\n",
        "\n",
        "import torch\n",
        "import torch.nn as nn\n",
        "import torch.optim as optim\n",
        "import torch.nn.functional as F\n",
        "import torchvision.transforms as T\n",
        "\n",
        "env = gym.make('CartPole-v1').unwrapped #cartpole 강화 학습 환경 불러옴\n",
        "plt.ion()\n",
        "device = torch.device('cuda' if torch.cuda.is_available() else 'cpu')"
      ]
    },
    {
      "cell_type": "code",
      "source": [
        "#리플레이 메모리 : 에이전트가 관찰한 상태 전이, 상태, 행동 등 저장 -> 나중에 사용\n",
        "\n",
        "Transition = namedtuple('Transition', ('state', 'action', 'next_state', 'reward')) #현재상태, 행동, 다음상태, 보상 정보 관리\n",
        "\n",
        "class ReplayMemory(object) :\n",
        "  def __init__(self, capacity) :\n",
        "    self.capacity = capacity\n",
        "    self.memory = []\n",
        "    self.position = 0\n",
        "\n",
        "  def push(self, *args) :\n",
        "    if len(self.memory) < self.capacity :\n",
        "      self.memory.append(None)\n",
        "    self.memory[self.position] = Transition(*args)\n",
        "    self.position = (self.position + 1) % self.capacity\n",
        "\n",
        "  def sample(self, batch_size) : #리플레이 메모리에 저장된 데이터 중, 랜덤하게 배치 크기만큼 반환\n",
        "    return random.sample(self.memory, batch_size)\n",
        "\n",
        "  def __len__(self) :\n",
        "    return len(self.memory)"
      ],
      "metadata": {
        "id": "TU0EI0Ij5n8N"
      },
      "execution_count": 5,
      "outputs": []
    },
    {
      "cell_type": "code",
      "source": [
        "#DQN(Deep Q-Learning) 네트워크\n",
        "\n",
        "class DQN(nn.Module) :\n",
        "  def __init__(self, h, w, outputs) :\n",
        "    super(DQN, self).__init__()\n",
        "    self.conv1 = nn.Conv2d(3, 16, kernel_size=5, stride=2)\n",
        "    self.bn1 = nn.BatchNorm2d(16)\n",
        "    self.conv2 = nn.Conv2d(16, 32, kernel_size=5, stride=2)\n",
        "    self.bn2 = nn.BatchNorm2d(32)\n",
        "    self.conv3 = nn.Conv2d(32, 32, kernel_size=5, stride=2)\n",
        "    self.bn3 = nn.BatchNorm2d(32)\n",
        "\n",
        "    def conv2d_size_out(size, kernel_size, stride=2) : #합성곱층 출력층 한 차원의 크기 계산\n",
        "      return (size - (kernel_size-1)-1) // stride + 1\n",
        "\n",
        "    convw = conv2d_size_out(conv2d_size_out(conv2d_size_out(w))) #합성곱 다 거친 특성맵의 가로 길이\n",
        "    convh = conv2d_size_out(conv2d_size_out(conv2d_size_out(h))) #합성곱 다 거친 특성맵의 세로 길이\n",
        "    linear_input_size = convw * convh * 32 #선형층에 들어가는 크기(가로 * 세로 * 채널)\n",
        "    self.head = nn.Linear(linear_input_size, outputs)\n",
        "\n",
        "  def forward(self, x) :\n",
        "    x = F.relu( self.bn1( self.conv1(x) ) ) #1차 합성곱층 (합성곱 + 배치정규화 + 렐루함수)\n",
        "    x = F.relu( self.bn2( self.conv2(x) ) ) #2차 합성곱층\n",
        "    x = F.relu( self.bn3( self.conv3(x) ) ) #3차 합성곱층\n",
        "    return self.head( x.view(x.size(0), -1) ) #완전연결층 통과하여 리턴"
      ],
      "metadata": {
        "id": "CwmOhK6p7Cre"
      },
      "execution_count": 6,
      "outputs": []
    },
    {
      "cell_type": "code",
      "source": [
        "pip install pyglet"
      ],
      "metadata": {
        "colab": {
          "base_uri": "https://localhost:8080/"
        },
        "id": "P3PUDVsZ96qe",
        "outputId": "b4e7a198-e54a-4e54-f75b-0e19f2683128"
      },
      "execution_count": 7,
      "outputs": [
        {
          "output_type": "stream",
          "name": "stdout",
          "text": [
            "Collecting pyglet\n",
            "  Downloading pyglet-2.1.6-py3-none-any.whl.metadata (7.7 kB)\n",
            "Downloading pyglet-2.1.6-py3-none-any.whl (983 kB)\n",
            "\u001b[?25l   \u001b[90m━━━━━━━━━━━━━━━━━━━━━━━━━━━━━━━━━━━━━━━━\u001b[0m \u001b[32m0.0/984.0 kB\u001b[0m \u001b[31m?\u001b[0m eta \u001b[36m-:--:--\u001b[0m\r\u001b[2K   \u001b[91m━━━━━\u001b[0m\u001b[91m╸\u001b[0m\u001b[90m━━━━━━━━━━━━━━━━━━━━━━━━━━━━━━━━━━\u001b[0m \u001b[32m143.4/984.0 kB\u001b[0m \u001b[31m4.1 MB/s\u001b[0m eta \u001b[36m0:00:01\u001b[0m\r\u001b[2K   \u001b[91m━━━━━━━━━━━━━━━━━━━━━━━━━━━━━━━━━━━━━━━\u001b[0m\u001b[91m╸\u001b[0m \u001b[32m983.0/984.0 kB\u001b[0m \u001b[31m15.4 MB/s\u001b[0m eta \u001b[36m0:00:01\u001b[0m\r\u001b[2K   \u001b[90m━━━━━━━━━━━━━━━━━━━━━━━━━━━━━━━━━━━━━━━━\u001b[0m \u001b[32m984.0/984.0 kB\u001b[0m \u001b[31m11.9 MB/s\u001b[0m eta \u001b[36m0:00:00\u001b[0m\n",
            "\u001b[?25hInstalling collected packages: pyglet\n",
            "Successfully installed pyglet-2.1.6\n"
          ]
        }
      ]
    },
    {
      "cell_type": "code",
      "source": [
        "#이미지 추출 및 처리\n",
        "import pyglet\n",
        "\n",
        "resize = T.Compose( [T.ToPILImage(), T.Resize(40, interpolation=Image.CUBIC), T.ToTensor()] )\n",
        "          #이미지 크기 및 텐서 변환\n",
        "\n",
        "def get_cart_location(screen_width) : #카트의 위치 정보 가져오기\n",
        "  world_width = env.x_threshold * 2\n",
        "  scale = screen_width / world_width\n",
        "  return int(env.state[0] * scale + screen_width / 2.0)\n",
        "\n",
        "def get_screen() :\n",
        "  screen = env.render(mode='rgb_array').transpose((2, 0, 1))\n",
        "  _, screen_height, screen_width = screen.shape\n",
        "  screen = screen[ :, int(screen_height*0.4):int(screen_height * 0.8) ]\n",
        "  view_width = int(screen_width * 0.6)\n",
        "  cart_location = get_cart_location(screen_width)\n",
        "\n",
        "  if cart_location < view_width // 2 :\n",
        "    slice_range = slice(view_width)\n",
        "  elif cart_location > (screen_width - view_width // 2) :\n",
        "    slice_range = slice(-view_width, None)\n",
        "  else :\n",
        "    slice_range = slice(cart_location - view_width // 2, cart_location + view_width // 2)\n",
        "    screen = screen[:, :, slice_range]\n",
        "    screen = np.ascontiguousarray(screen, dtype=np.float32) / 255\n",
        "    return resize(screen).unsqueeze(0).to(device)\n",
        "\n",
        "  env.reset()\n",
        "  plt.figure()\n",
        "  plt.imshow(get_screen().cpu().squeeze(0).permute(1, 2, 0).numpy(), interpolation='none')\n",
        "  plt.title('화면 예시')\n",
        "  plt.show()"
      ],
      "metadata": {
        "colab": {
          "base_uri": "https://localhost:8080/",
          "height": 220
        },
        "id": "f7X3cemR986I",
        "outputId": "ace498c4-375f-4385-8b76-69297b5f5df9"
      },
      "execution_count": 9,
      "outputs": [
        {
          "output_type": "error",
          "ename": "AttributeError",
          "evalue": "module 'PIL.Image' has no attribute 'CUBIC'",
          "traceback": [
            "\u001b[0;31m---------------------------------------------------------------------------\u001b[0m",
            "\u001b[0;31mAttributeError\u001b[0m                            Traceback (most recent call last)",
            "\u001b[0;32m<ipython-input-9-dc46d32446b7>\u001b[0m in \u001b[0;36m<cell line: 0>\u001b[0;34m()\u001b[0m\n\u001b[1;32m      2\u001b[0m \u001b[0;32mimport\u001b[0m \u001b[0mpyglet\u001b[0m\u001b[0;34m\u001b[0m\u001b[0;34m\u001b[0m\u001b[0m\n\u001b[1;32m      3\u001b[0m \u001b[0;34m\u001b[0m\u001b[0m\n\u001b[0;32m----> 4\u001b[0;31m \u001b[0mresize\u001b[0m \u001b[0;34m=\u001b[0m \u001b[0mT\u001b[0m\u001b[0;34m.\u001b[0m\u001b[0mCompose\u001b[0m\u001b[0;34m(\u001b[0m \u001b[0;34m[\u001b[0m\u001b[0mT\u001b[0m\u001b[0;34m.\u001b[0m\u001b[0mToPILImage\u001b[0m\u001b[0;34m(\u001b[0m\u001b[0;34m)\u001b[0m\u001b[0;34m,\u001b[0m \u001b[0mT\u001b[0m\u001b[0;34m.\u001b[0m\u001b[0mResize\u001b[0m\u001b[0;34m(\u001b[0m\u001b[0;36m40\u001b[0m\u001b[0;34m,\u001b[0m \u001b[0minterpolation\u001b[0m\u001b[0;34m=\u001b[0m\u001b[0mImage\u001b[0m\u001b[0;34m.\u001b[0m\u001b[0mCUBIC\u001b[0m\u001b[0;34m)\u001b[0m\u001b[0;34m,\u001b[0m \u001b[0mT\u001b[0m\u001b[0;34m.\u001b[0m\u001b[0mToTensor\u001b[0m\u001b[0;34m(\u001b[0m\u001b[0;34m)\u001b[0m\u001b[0;34m]\u001b[0m \u001b[0;34m)\u001b[0m\u001b[0;34m\u001b[0m\u001b[0;34m\u001b[0m\u001b[0m\n\u001b[0m\u001b[1;32m      5\u001b[0m           \u001b[0;31m#이미지 크기 및 텐서 변환\u001b[0m\u001b[0;34m\u001b[0m\u001b[0;34m\u001b[0m\u001b[0m\n\u001b[1;32m      6\u001b[0m \u001b[0;34m\u001b[0m\u001b[0m\n",
            "\u001b[0;31mAttributeError\u001b[0m: module 'PIL.Image' has no attribute 'CUBIC'"
          ]
        }
      ]
    },
    {
      "cell_type": "code",
      "source": [
        "#모델 객체화 및 손실함수 정의\n",
        "BATCH_SIZE = 128\n",
        "GAMMA = 0.999\n",
        "EPS_START = 0.9\n",
        "EPS_END = 0.05\n",
        "EPS_DECAY = 200\n",
        "TARGET_UPDATE = 10\n",
        "\n",
        "init_screen = get_screen()\n",
        "_, _, screen_height, screen_width = init_screen.shape\n",
        "n_actions = env.action_space.n\n",
        "\n",
        "policy_net = DQN(screen_height, screen_width, n_actions).to(device)\n",
        "target_net = DQN(screen_height, screen_width, n_actions).to(device)\n",
        "target_net.load_state_divt(policy_net.state_dict())\n",
        "target_net.eval()\n",
        "\n",
        "optimizer = optim.RMSprop(policy_net.parameters())\n",
        "memory = ReplayMemory(10000)\n",
        "\n",
        "steps_done = 0\n",
        "\n",
        "def select_action(state) :\n",
        "  global steps_done\n",
        "  sample = random.random()\n",
        "  eps_threshold = EPS_END + (EPS_START - EPS_END) * math.exp(-1. * steps_done / EPS_DECAY)\n",
        "  steps_done += 1\n",
        "  if sample > eps_threshold :\n",
        "    with torch.no_grad() :\n",
        "      return policy_net(state).max(1)[1].view(1, 1)\n",
        "  else :\n",
        "    return torch.tensor([ [random.randrange(n_actions)] ], device=device, dtype=torch.long)\n",
        "\n",
        "episode_durations = []"
      ],
      "metadata": {
        "colab": {
          "base_uri": "https://localhost:8080/",
          "height": 220
        },
        "id": "SLksT7GHDGym",
        "outputId": "e77a4d0e-0198-4931-b276-58177b624bfa"
      },
      "execution_count": 10,
      "outputs": [
        {
          "output_type": "error",
          "ename": "NameError",
          "evalue": "name 'get_screen' is not defined",
          "traceback": [
            "\u001b[0;31m---------------------------------------------------------------------------\u001b[0m",
            "\u001b[0;31mNameError\u001b[0m                                 Traceback (most recent call last)",
            "\u001b[0;32m<ipython-input-10-6478a277dc4f>\u001b[0m in \u001b[0;36m<cell line: 0>\u001b[0;34m()\u001b[0m\n\u001b[1;32m      7\u001b[0m \u001b[0mTARGET_UPDATE\u001b[0m \u001b[0;34m=\u001b[0m \u001b[0;36m10\u001b[0m\u001b[0;34m\u001b[0m\u001b[0;34m\u001b[0m\u001b[0m\n\u001b[1;32m      8\u001b[0m \u001b[0;34m\u001b[0m\u001b[0m\n\u001b[0;32m----> 9\u001b[0;31m \u001b[0minit_screen\u001b[0m \u001b[0;34m=\u001b[0m \u001b[0mget_screen\u001b[0m\u001b[0;34m(\u001b[0m\u001b[0;34m)\u001b[0m\u001b[0;34m\u001b[0m\u001b[0;34m\u001b[0m\u001b[0m\n\u001b[0m\u001b[1;32m     10\u001b[0m \u001b[0m_\u001b[0m\u001b[0;34m,\u001b[0m \u001b[0m_\u001b[0m\u001b[0;34m,\u001b[0m \u001b[0mscreen_height\u001b[0m\u001b[0;34m,\u001b[0m \u001b[0mscreen_width\u001b[0m \u001b[0;34m=\u001b[0m \u001b[0minit_screen\u001b[0m\u001b[0;34m.\u001b[0m\u001b[0mshape\u001b[0m\u001b[0;34m\u001b[0m\u001b[0;34m\u001b[0m\u001b[0m\n\u001b[1;32m     11\u001b[0m \u001b[0mn_actions\u001b[0m \u001b[0;34m=\u001b[0m \u001b[0menv\u001b[0m\u001b[0;34m.\u001b[0m\u001b[0maction_space\u001b[0m\u001b[0;34m.\u001b[0m\u001b[0mn\u001b[0m\u001b[0;34m\u001b[0m\u001b[0;34m\u001b[0m\u001b[0m\n",
            "\u001b[0;31mNameError\u001b[0m: name 'get_screen' is not defined"
          ]
        }
      ]
    },
    {
      "cell_type": "code",
      "source": [
        "#모델에서 사용할 옵티마이저 선택\n",
        "\n",
        "def optimize_model() :\n",
        "  if len(memory) < BATCH_SIZE :\n",
        "    return\n",
        "\n",
        "  transitions = memory.sample(BATCH_SIZE)\n",
        "  batch = Transition(*zip(*transitions))\n",
        "  non_final_mask = torch.tensor(tuple( map(lambda s: s is not None, batch.next_state)))\n",
        "  non_final_states = torch.cat( [s for s in batch.next_state if s is not None] )\n",
        "\n",
        "  state_batch = torch.cat(batch.state)\n",
        "  action_batch = torch.cat(batch.action)\n",
        "  reward_batch = torch.cat(batch.reward)\n",
        "\n",
        "  state_action_values = policy_net(state_batch).gather(1, action_batch)\n",
        "  next_state_values = torch.zeros(BATCH_SIZE, device=device)\n",
        "  next_state_values[non_final_mask] = target_net(non_final_next_states).max(1)[0].detach()\n",
        "  expected_state_action_values = (next_state_values * GAMMA) + reward_batch #기대가치 예상\n",
        "\n",
        "  loss = F.smooth_l1_loss(state_action_values, expected_state_action_values.unsqueeze(1))\n",
        "  optimizer.zero_grad()\n",
        "  loss.backward()\n",
        "\n",
        "  for param in policy_net.parameters() :\n",
        "    param.grad.data.clamp_(-1, 1)\n",
        "  optimizer.step()"
      ],
      "metadata": {
        "id": "h7gELRyxKLi4"
      },
      "execution_count": null,
      "outputs": []
    },
    {
      "cell_type": "code",
      "source": [
        "#모델 학습\n",
        "num_episodes = 50\n",
        "\n",
        "for i_episode in range(num_episodes) :\n",
        "  env.reset()\n",
        "  last_screen = get_screen()\n",
        "  current_screen = get_screen()\n",
        "  state = current_screen - last_screen\n",
        "\n",
        "  for t in count() :\n",
        "    action = select_action(state) #행동 선택 및 실행\n",
        "    _, reward, done, _ = env.step(action.item())\n",
        "    rewward = torch.tensor([reward], device=device)\n",
        "\n",
        "    last_screen = current_screen\n",
        "    current_screen = get_screen()\n",
        "\n",
        "    if not done :\n",
        "      next_state = current_screen - last_screen\n",
        "    else :\n",
        "      next_state = None\n",
        "\n",
        "    memory.push(state, action, next_state, reward) #상태 전이(현 상태, 행동, 담 상태, 보상)를 메모리에 저장\n",
        "    state = next_state #다음 상태로 이동\n",
        "\n",
        "    optimize_model()\n",
        "    if done :\n",
        "      episode_durations.append(t + 1)\n",
        "      break\n",
        "\n",
        "  if i_episode % TARGET_UPDATE == 0 :\n",
        "    target_net.load_state_dict(policy_net.state_dict())\n",
        "\n",
        "print('FINISH')\n",
        "env.render()\n",
        "env.close()\n",
        "plt.show()"
      ],
      "metadata": {
        "id": "JRsN7dkZP47r"
      },
      "execution_count": null,
      "outputs": []
    },
    {
      "cell_type": "code",
      "source": [
        "#몬테카를로 트리 탐색 예제\n",
        "\n",
        "#보드 생성\n",
        "boarder = {'1': ' ', '2': ' ', '3': ' ',\n",
        "           '4': ' ', '5': ' ', '6': ' ',\n",
        "           '7': ' ', '8': ' ', '9': ' '}\n",
        "\n",
        "board_keys = []\n",
        "for key in boarder :\n",
        "  board_keys.append(key)"
      ],
      "metadata": {
        "id": "GTDmhd0OW95B"
      },
      "execution_count": 11,
      "outputs": []
    },
    {
      "cell_type": "code",
      "source": [
        "#화면 출력 함수 정의\n",
        "def visual_Board(board_num) :\n",
        "  print(board_num['1'] + '|' + board_num['2'] + '|' + board_num['3'])\n",
        "  print('-+-+-')\n",
        "  print(board_num['4'] + '|' + board_num['5'] + '|' + board_num['6'])\n",
        "  print('-+-+-')\n",
        "  print(board_num['7'] + '|' + board_num['8'] + '|' + board_num['9'])"
      ],
      "metadata": {
        "id": "TRoG-ahiXgYq"
      },
      "execution_count": null,
      "outputs": []
    },
    {
      "cell_type": "code",
      "source": [
        "#플레이어의 보드 이동 위한 함수 정의(메인 함수)\n",
        "\n",
        "def game() :\n",
        "  turn = 'X'\n",
        "  count = 0\n",
        "  for i in range(8) :\n",
        "    visual_Board(boarder)\n",
        "    print('당신 차례입니다' + turn + '어디로 이동할까요?')\n",
        "    move = input()\n",
        "    if boarder[move] == ' ':\n",
        "      boarder[move] = turn\n",
        "      count += 1\n",
        "    else :\n",
        "      print('이미 채워져 있습니다. \\n어디로 이동할까요?')\n",
        "\n",
        "    if count >= 5 :\n",
        "      if boarder['1'] == boarder['2'] == boarder['3'] :\n",
        "        visual_Board(boarder)\n",
        "        print('\\n게임 종료\\n')\n",
        "        print('-------' + turn + '가 승리했습니다-------')\n",
        "        break\n",
        "      elif boarder['4'] == boarder['5'] == boarder['6'] :\n",
        "        visual_Board(boarder)\n",
        "        print('\\n게임 종료\\n')\n",
        "        print('-------' + turn + '가 승리했습니다-------')\n",
        "        break\n",
        "      elif boarder['7'] == boarder['8'] == boarder['9'] :\n",
        "        visual_Board(boarder)\n",
        "        print('\\n게임 종료\\n')\n",
        "        print('-------' + turn + '가 승리했습니다-------')\n",
        "        break\n",
        "      elif boarder['1'] == boarder['4'] == boarder['7'] :\n",
        "        visual_Board(boarder)\n",
        "        print('\\n게임 종료\\n')\n",
        "        print('-------' + turn + '가 승리했습니다-------')\n",
        "        break\n",
        "      elif boarder['2'] == boarder['5'] == boarder['8'] :\n",
        "        visual_Board(boarder)\n",
        "        print('\\n게임 종료\\n')\n",
        "        print('-------' + turn + '가 승리했습니다-------')\n",
        "        break\n",
        "      elif boarder['3'] == boarder['6'] == boarder['9'] :\n",
        "        visual_Board(boarder)\n",
        "        print('\\n게임 종료\\n')\n",
        "        print('-------' + turn + '가 승리했습니다-------')\n",
        "        break\n",
        "      elif boarder['1'] == boarder['5'] == boarder['9'] :\n",
        "        visual_Board(boarder)\n",
        "        print('\\n게임 종료\\n')\n",
        "        print('-------' + turn + '가 승리했습니다-------')\n",
        "        break\n",
        "      elif boarder['3'] == boarder['5'] == boarder['7'] :\n",
        "        visual_Board(boarder)\n",
        "        print('\\n게임 종료\\n')\n",
        "        print('-------' + turn + '가 승리했습니다-------')\n",
        "        break\n",
        "\n",
        "    if count == 9 :\n",
        "      print('\\n게임 종료\\n')\n",
        "      print('동점입니다')\n",
        "\n",
        "    if turn == 'X' : #움직임이 있을 때마다 플레이어 변경\n",
        "      turn = 'Y'\n",
        "    else :\n",
        "      turn = 'X'\n",
        "\n",
        "if __name__ == '__main__' :\n",
        "  game()"
      ],
      "metadata": {
        "colab": {
          "base_uri": "https://localhost:8080/",
          "height": 773
        },
        "id": "YmhhfpydX50M",
        "outputId": "e696eff4-0823-4551-9cb1-6aa0a1613b3d"
      },
      "execution_count": 16,
      "outputs": [
        {
          "output_type": "stream",
          "name": "stdout",
          "text": [
            "X|Y|X\n",
            "-+-+-\n",
            "Y|X| \n",
            "-+-+-\n",
            " | | \n",
            "당신 차례입니다X어디로 이동할까요?\n",
            "1\n",
            "이미 채워져 있습니다. \n",
            "어디로 이동할까요?\n",
            "X|Y|X\n",
            "-+-+-\n",
            "Y|X| \n",
            "-+-+-\n",
            " | | \n",
            "당신 차례입니다Y어디로 이동할까요?\n",
            "2\n",
            "이미 채워져 있습니다. \n",
            "어디로 이동할까요?\n",
            "X|Y|X\n",
            "-+-+-\n",
            "Y|X| \n",
            "-+-+-\n",
            " | | \n",
            "당신 차례입니다X어디로 이동할까요?\n"
          ]
        },
        {
          "output_type": "error",
          "ename": "KeyboardInterrupt",
          "evalue": "Interrupted by user",
          "traceback": [
            "\u001b[0;31m---------------------------------------------------------------------------\u001b[0m",
            "\u001b[0;31mKeyboardInterrupt\u001b[0m                         Traceback (most recent call last)",
            "\u001b[0;32m<ipython-input-16-10edaac4b55c>\u001b[0m in \u001b[0;36m<cell line: 0>\u001b[0;34m()\u001b[0m\n\u001b[1;32m     66\u001b[0m \u001b[0;34m\u001b[0m\u001b[0m\n\u001b[1;32m     67\u001b[0m \u001b[0;32mif\u001b[0m \u001b[0m__name__\u001b[0m \u001b[0;34m==\u001b[0m \u001b[0;34m'__main__'\u001b[0m \u001b[0;34m:\u001b[0m\u001b[0;34m\u001b[0m\u001b[0;34m\u001b[0m\u001b[0m\n\u001b[0;32m---> 68\u001b[0;31m   \u001b[0mgame\u001b[0m\u001b[0;34m(\u001b[0m\u001b[0;34m)\u001b[0m\u001b[0;34m\u001b[0m\u001b[0;34m\u001b[0m\u001b[0m\n\u001b[0m",
            "\u001b[0;32m<ipython-input-16-10edaac4b55c>\u001b[0m in \u001b[0;36mgame\u001b[0;34m()\u001b[0m\n\u001b[1;32m      7\u001b[0m     \u001b[0mvisual_Board\u001b[0m\u001b[0;34m(\u001b[0m\u001b[0mboarder\u001b[0m\u001b[0;34m)\u001b[0m\u001b[0;34m\u001b[0m\u001b[0;34m\u001b[0m\u001b[0m\n\u001b[1;32m      8\u001b[0m     \u001b[0mprint\u001b[0m\u001b[0;34m(\u001b[0m\u001b[0;34m'당신 차례입니다'\u001b[0m \u001b[0;34m+\u001b[0m \u001b[0mturn\u001b[0m \u001b[0;34m+\u001b[0m \u001b[0;34m'어디로 이동할까요?'\u001b[0m\u001b[0;34m)\u001b[0m\u001b[0;34m\u001b[0m\u001b[0;34m\u001b[0m\u001b[0m\n\u001b[0;32m----> 9\u001b[0;31m     \u001b[0mmove\u001b[0m \u001b[0;34m=\u001b[0m \u001b[0minput\u001b[0m\u001b[0;34m(\u001b[0m\u001b[0;34m)\u001b[0m\u001b[0;34m\u001b[0m\u001b[0;34m\u001b[0m\u001b[0m\n\u001b[0m\u001b[1;32m     10\u001b[0m     \u001b[0;32mif\u001b[0m \u001b[0mboarder\u001b[0m\u001b[0;34m[\u001b[0m\u001b[0mmove\u001b[0m\u001b[0;34m]\u001b[0m \u001b[0;34m==\u001b[0m \u001b[0;34m' '\u001b[0m\u001b[0;34m:\u001b[0m\u001b[0;34m\u001b[0m\u001b[0;34m\u001b[0m\u001b[0m\n\u001b[1;32m     11\u001b[0m       \u001b[0mboarder\u001b[0m\u001b[0;34m[\u001b[0m\u001b[0mmove\u001b[0m\u001b[0;34m]\u001b[0m \u001b[0;34m=\u001b[0m \u001b[0mturn\u001b[0m\u001b[0;34m\u001b[0m\u001b[0;34m\u001b[0m\u001b[0m\n",
            "\u001b[0;32m/usr/local/lib/python3.11/dist-packages/ipykernel/kernelbase.py\u001b[0m in \u001b[0;36mraw_input\u001b[0;34m(self, prompt)\u001b[0m\n\u001b[1;32m   1175\u001b[0m                 \u001b[0;34m\"raw_input was called, but this frontend does not support input requests.\"\u001b[0m\u001b[0;34m\u001b[0m\u001b[0;34m\u001b[0m\u001b[0m\n\u001b[1;32m   1176\u001b[0m             )\n\u001b[0;32m-> 1177\u001b[0;31m         return self._input_request(\n\u001b[0m\u001b[1;32m   1178\u001b[0m             \u001b[0mstr\u001b[0m\u001b[0;34m(\u001b[0m\u001b[0mprompt\u001b[0m\u001b[0;34m)\u001b[0m\u001b[0;34m,\u001b[0m\u001b[0;34m\u001b[0m\u001b[0;34m\u001b[0m\u001b[0m\n\u001b[1;32m   1179\u001b[0m             \u001b[0mself\u001b[0m\u001b[0;34m.\u001b[0m\u001b[0m_parent_ident\u001b[0m\u001b[0;34m[\u001b[0m\u001b[0;34m\"shell\"\u001b[0m\u001b[0;34m]\u001b[0m\u001b[0;34m,\u001b[0m\u001b[0;34m\u001b[0m\u001b[0;34m\u001b[0m\u001b[0m\n",
            "\u001b[0;32m/usr/local/lib/python3.11/dist-packages/ipykernel/kernelbase.py\u001b[0m in \u001b[0;36m_input_request\u001b[0;34m(self, prompt, ident, parent, password)\u001b[0m\n\u001b[1;32m   1217\u001b[0m             \u001b[0;32mexcept\u001b[0m \u001b[0mKeyboardInterrupt\u001b[0m\u001b[0;34m:\u001b[0m\u001b[0;34m\u001b[0m\u001b[0;34m\u001b[0m\u001b[0m\n\u001b[1;32m   1218\u001b[0m                 \u001b[0;31m# re-raise KeyboardInterrupt, to truncate traceback\u001b[0m\u001b[0;34m\u001b[0m\u001b[0;34m\u001b[0m\u001b[0m\n\u001b[0;32m-> 1219\u001b[0;31m                 \u001b[0;32mraise\u001b[0m \u001b[0mKeyboardInterrupt\u001b[0m\u001b[0;34m(\u001b[0m\u001b[0;34m\"Interrupted by user\"\u001b[0m\u001b[0;34m)\u001b[0m \u001b[0;32mfrom\u001b[0m \u001b[0;32mNone\u001b[0m\u001b[0;34m\u001b[0m\u001b[0;34m\u001b[0m\u001b[0m\n\u001b[0m\u001b[1;32m   1220\u001b[0m             \u001b[0;32mexcept\u001b[0m \u001b[0mException\u001b[0m\u001b[0;34m:\u001b[0m\u001b[0;34m\u001b[0m\u001b[0;34m\u001b[0m\u001b[0m\n\u001b[1;32m   1221\u001b[0m                 \u001b[0mself\u001b[0m\u001b[0;34m.\u001b[0m\u001b[0mlog\u001b[0m\u001b[0;34m.\u001b[0m\u001b[0mwarning\u001b[0m\u001b[0;34m(\u001b[0m\u001b[0;34m\"Invalid Message:\"\u001b[0m\u001b[0;34m,\u001b[0m \u001b[0mexc_info\u001b[0m\u001b[0;34m=\u001b[0m\u001b[0;32mTrue\u001b[0m\u001b[0;34m)\u001b[0m\u001b[0;34m\u001b[0m\u001b[0;34m\u001b[0m\u001b[0m\n",
            "\u001b[0;31mKeyboardInterrupt\u001b[0m: Interrupted by user"
          ]
        }
      ]
    },
    {
      "cell_type": "code",
      "source": [],
      "metadata": {
        "id": "j9G59ziWaQcW"
      },
      "execution_count": null,
      "outputs": []
    }
  ]
}