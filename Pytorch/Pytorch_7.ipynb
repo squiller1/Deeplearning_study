{
  "nbformat": 4,
  "nbformat_minor": 0,
  "metadata": {
    "colab": {
      "provenance": []
    },
    "kernelspec": {
      "name": "python3",
      "display_name": "Python 3"
    },
    "language_info": {
      "name": "python"
    }
  },
  "cells": [
    {
      "cell_type": "markdown",
      "source": [
        "# 7.2.4 ARIMA 모델"
      ],
      "metadata": {
        "id": "lQz13669mY_F"
      }
    },
    {
      "cell_type": "code",
      "execution_count": 2,
      "metadata": {
        "colab": {
          "base_uri": "https://localhost:8080/"
        },
        "id": "cfBbq9k5mNLX",
        "outputId": "c6fb939e-f395-4a01-ae35-d80ac6d7dbd5"
      },
      "outputs": [
        {
          "output_type": "stream",
          "name": "stdout",
          "text": [
            "Requirement already satisfied: statsmodels in /usr/local/lib/python3.11/dist-packages (0.14.4)\n",
            "Requirement already satisfied: numpy<3,>=1.22.3 in /usr/local/lib/python3.11/dist-packages (from statsmodels) (1.26.4)\n",
            "Requirement already satisfied: scipy!=1.9.2,>=1.8 in /usr/local/lib/python3.11/dist-packages (from statsmodels) (1.13.1)\n",
            "Requirement already satisfied: pandas!=2.1.0,>=1.4 in /usr/local/lib/python3.11/dist-packages (from statsmodels) (2.2.2)\n",
            "Requirement already satisfied: patsy>=0.5.6 in /usr/local/lib/python3.11/dist-packages (from statsmodels) (1.0.1)\n",
            "Requirement already satisfied: packaging>=21.3 in /usr/local/lib/python3.11/dist-packages (from statsmodels) (24.2)\n",
            "Requirement already satisfied: python-dateutil>=2.8.2 in /usr/local/lib/python3.11/dist-packages (from pandas!=2.1.0,>=1.4->statsmodels) (2.8.2)\n",
            "Requirement already satisfied: pytz>=2020.1 in /usr/local/lib/python3.11/dist-packages (from pandas!=2.1.0,>=1.4->statsmodels) (2025.1)\n",
            "Requirement already satisfied: tzdata>=2022.7 in /usr/local/lib/python3.11/dist-packages (from pandas!=2.1.0,>=1.4->statsmodels) (2025.1)\n",
            "Requirement already satisfied: six>=1.5 in /usr/local/lib/python3.11/dist-packages (from python-dateutil>=2.8.2->pandas!=2.1.0,>=1.4->statsmodels) (1.17.0)\n"
          ]
        }
      ],
      "source": [
        "pip install statsmodels"
      ]
    },
    {
      "cell_type": "code",
      "source": [
        "#ARIMA() 함수를 호출하여 sales 데이터셋에 대한 예측\n",
        "\n",
        "#라이브러리 호출\n",
        "from pandas import read_csv\n",
        "from datetime import datetime\n",
        "from pandas import DataFrame\n",
        "from statsmodels.tsa.arima.model import ARIMA\n",
        "from matplotlib import pyplot\n",
        "\n",
        "def parser(x) : #시간을 표현하는 함수 정의\n",
        "  return datetime.strptime('199'+x, '%Y-%m') #strptime() : 날짜와 시간 정보를 문자열로 바꿔주는 메서드\n",
        "\n",
        "series = read_csv('/content/drive/MyDrive/pytorch_ex/chap07/data/sales.csv',\n",
        "                  header=0, parse_dates=[0], index_col=0, date_parser=parser) #자전거 매출에 대한 csv데이터 호출\n",
        "\n",
        "model = ARIMA(series, order=(5,1,0))\n",
        "model_fit = model.fit() #디버그 정보 제공 기능 -> 비활성화(0)\n",
        "print(model_fit.summary()) #모델에 대한 정보 표시\n",
        "print('-'*20)\n",
        "residuals = DataFrame(model_fit.resid)#모델에 대한 오차 정보를 Dataframe으로 residuals라는 변수로 저장\n",
        "residuals.plot()\n",
        "print('-'*20)\n",
        "pyplot.show()\n",
        "print('-'*20)\n",
        "residuals.plot(kind='kde')\n",
        "pyplot.show()\n",
        "print('-'*20)\n",
        "print(residuals.describe())"
      ],
      "metadata": {
        "colab": {
          "base_uri": "https://localhost:8080/",
          "height": 1000
        },
        "id": "4gpniho2mysQ",
        "outputId": "9b859758-677b-4e16-febb-80503b839d0c"
      },
      "execution_count": 23,
      "outputs": [
        {
          "output_type": "stream",
          "name": "stderr",
          "text": [
            "<ipython-input-23-400a3ae39446>:13: FutureWarning: The argument 'date_parser' is deprecated and will be removed in a future version. Please use 'date_format' instead, or read your data in as 'object' dtype and then call 'to_datetime'.\n",
            "  series = read_csv('/content/drive/MyDrive/pytorch_ex/chap07/data/sales.csv',\n",
            "/usr/local/lib/python3.11/dist-packages/statsmodels/tsa/base/tsa_model.py:473: ValueWarning: No frequency information was provided, so inferred frequency MS will be used.\n",
            "  self._init_dates(dates, freq)\n"
          ]
        },
        {
          "output_type": "stream",
          "name": "stdout",
          "text": [
            "                               SARIMAX Results                                \n",
            "==============================================================================\n",
            "Dep. Variable:                  Sales   No. Observations:                   36\n",
            "Model:                 ARIMA(5, 1, 0)   Log Likelihood                -199.651\n",
            "Date:                Wed, 21 May 2025   AIC                            411.302\n",
            "Time:                        04:47:10   BIC                            420.634\n",
            "Sample:                    01-01-1991   HQIC                           414.523\n",
            "                         - 12-01-1993                                         \n",
            "Covariance Type:                  opg                                         \n",
            "==============================================================================\n",
            "                 coef    std err          z      P>|z|      [0.025      0.975]\n",
            "------------------------------------------------------------------------------\n",
            "ar.L1         -0.8788      0.227     -3.876      0.000      -1.323      -0.434\n",
            "ar.L2         -0.2787      0.232     -1.203      0.229      -0.733       0.176\n",
            "ar.L3         -0.0076      0.270     -0.028      0.978      -0.536       0.521\n",
            "ar.L4          0.3483      0.294      1.185      0.236      -0.228       0.924\n",
            "ar.L5          0.3772      0.207      1.826      0.068      -0.028       0.782\n",
            "sigma2      5049.2115   1540.731      3.277      0.001    2029.435    8068.988\n",
            "===================================================================================\n",
            "Ljung-Box (L1) (Q):                   0.39   Jarque-Bera (JB):                 1.60\n",
            "Prob(Q):                              0.53   Prob(JB):                         0.45\n",
            "Heteroskedasticity (H):               1.43   Skew:                             0.38\n",
            "Prob(H) (two-sided):                  0.54   Kurtosis:                         2.28\n",
            "===================================================================================\n",
            "\n",
            "Warnings:\n",
            "[1] Covariance matrix calculated using the outer product of gradients (complex-step).\n",
            "--------------------\n",
            "--------------------\n"
          ]
        },
        {
          "output_type": "display_data",
          "data": {
            "text/plain": [
              "<Figure size 640x480 with 1 Axes>"
            ],
            "image/png": "[encoded data removed]"
          },
          "metadata": {}
        },
        {
          "output_type": "stream",
          "name": "stdout",
          "text": [
            "--------------------\n"
          ]
        },
        {
          "output_type": "display_data",
          "data": {
            "text/plain": [
              "<Figure size 640x480 with 1 Axes>"
            ],
            "image/png": "[encoded data removed]"
          },
          "metadata": {}
        },
        {
          "output_type": "stream",
          "name": "stdout",
          "text": [
            "--------------------\n",
            "                0\n",
            "count   36.000000\n",
            "mean    22.459086\n",
            "std     82.505331\n",
            "min   -118.213281\n",
            "25%    -33.308343\n",
            "50%      1.361178\n",
            "75%     76.704967\n",
            "max    266.000000\n"
          ]
        }
      ]
    },
    {
      "cell_type": "code",
      "source": [
        "#statsmodels 라이브러리를 사용하여 sales 데이터셋 예측\n",
        "\n",
        "import numpy as np\n",
        "from datetime import datetime\n",
        "from pandas import read_csv\n",
        "from matplotlib import pyplot\n",
        "from statsmodels.tsa.arima.model import ARIMA\n",
        "from sklearn.metrics import mean_squared_error\n",
        "\n",
        "def parser(x) : #시간을 표현하는 함수 정의\n",
        "  return datetime.strptime('199'+x, '%Y-%m') #strptime() : 날짜와 시간 정보를 문자열로 바꿔주는 메서드\n",
        "\n",
        "series = read_csv('/content/drive/MyDrive/pytorch_ex/chap07/data/sales.csv',\n",
        "                  header=0, parse_dates=[0], index_col=0, date_parser=parser) #자전거 매출에 대한 csv데이터 호출\n",
        "\n",
        "X = series.values\n",
        "X = np.nan_to_num(X)\n",
        "size = int(len(X) * 0.66)\n",
        "train, test = X[0:size], X[size:len(X)] #train : test = 2:1로 분리\n",
        "history = [x for x in train]\n",
        "predictions = list()\n",
        "\n",
        "for t in range(len(test)) : #테스트셋의 개수만큼 반복\n",
        "  model = ARIMA(history, order=(5,1,0)) #ARIMA 함수 호출\n",
        "  model_fit = model.fit() #훈련\n",
        "  output = model_fit.forecast() #forecast() 매서드 사용하여 예측 수행\n",
        "  yhat = output[0] #모델 출력 결과를 yhat에 저장\n",
        "  predictions.append(yhat)\n",
        "  obs = test[t] #해당 에포크를 인덱스로 가지는 테스트 데이터\n",
        "  history.append(obs)\n",
        "  print(f'predicted={yhat}, expected={obs}')\n",
        "error = mean_squared_error(test, predictions)\n",
        "print(f'Test MSE(테스트 평균제곱오차) : {error:.3f}')\n",
        "pyplot.plot(test)\n",
        "pyplot.plot(predictions, color='red')\n",
        "pyplot.show()\n"
      ],
      "metadata": {
        "colab": {
          "base_uri": "https://localhost:8080/",
          "height": 742
        },
        "id": "AezqawX2NjN4",
        "outputId": "792a218d-d487-4d1f-c3b9-c0d6200dcc47"
      },
      "execution_count": 26,
      "outputs": [
        {
          "output_type": "stream",
          "name": "stderr",
          "text": [
            "<ipython-input-26-77faabca5c38>:13: FutureWarning: The argument 'date_parser' is deprecated and will be removed in a future version. Please use 'date_format' instead, or read your data in as 'object' dtype and then call 'to_datetime'.\n",
            "  series = read_csv('/content/drive/MyDrive/pytorch_ex/chap07/data/sales.csv',\n"
          ]
        },
        {
          "output_type": "stream",
          "name": "stdout",
          "text": [
            "predicted=352.8553429916144, expected=[346.3]\n",
            "predicted=277.3980357991226, expected=[329.7]\n",
            "predicted=368.75373430395723, expected=[445.4]\n",
            "predicted=331.77363461072997, expected=[325.9]\n",
            "predicted=372.07040457406947, expected=[449.3]\n",
            "predicted=360.02087234211905, expected=[411.3]\n",
            "predicted=454.52622971783916, expected=[417.4]\n",
            "predicted=388.69069911131027, expected=[545.5]\n",
            "predicted=437.63244724754657, expected=[477.6]\n",
            "predicted=516.4376238877605, expected=[687.]\n",
            "predicted=520.9161904796415, expected=[435.3]\n",
            "predicted=675.5946470948533, expected=[587.3]\n",
            "predicted=505.20101582778835, expected=[676.9]\n",
            "Test MSE(테스트 평균제곱오차) : 9118.818\n"
          ]
        },
        {
          "output_type": "display_data",
          "data": {
            "text/plain": [
              "<Figure size 640x480 with 1 Axes>"
            ],
            "image/png": "[encoded data removed]"
          },
          "metadata": {}
        }
      ]
    },
    {
      "cell_type": "markdown",
      "source": [
        "# 7.5 LSTM"
      ],
      "metadata": {
        "id": "TAWvI7XEj_wA"
      }
    },
    {
      "cell_type": "markdown",
      "source": [
        "**7.5.2 LSTM 셀 구현**"
      ],
      "metadata": {
        "id": "vAPnGWUZXAPu"
      }
    },
    {
      "cell_type": "code",
      "source": [
        "pip install torchvision"
      ],
      "metadata": {
        "colab": {
          "base_uri": "https://localhost:8080/",
          "height": 1000
        },
        "id": "l5QggNRLBaw4",
        "outputId": "f268cdba-7d5a-4197-8ea2-9378ec312b1a"
      },
      "execution_count": 16,
      "outputs": [
        {
          "output_type": "stream",
          "name": "stdout",
          "text": [
            "Requirement already satisfied: torchvision in /usr/local/lib/python3.11/dist-packages (0.20.1+cu124)\n",
            "Requirement already satisfied: numpy in /usr/local/lib/python3.11/dist-packages (from torchvision) (2.2.6)\n",
            "Collecting torch==2.5.1 (from torchvision)\n",
            "  Downloading torch-2.5.1-cp311-cp311-manylinux1_x86_64.whl.metadata (28 kB)\n",
            "Requirement already satisfied: pillow!=8.3.*,>=5.3.0 in /usr/local/lib/python3.11/dist-packages (from torchvision) (11.1.0)\n",
            "Requirement already satisfied: filelock in /usr/local/lib/python3.11/dist-packages (from torch==2.5.1->torchvision) (3.18.0)\n",
            "Requirement already satisfied: typing-extensions>=4.8.0 in /usr/local/lib/python3.11/dist-packages (from torch==2.5.1->torchvision) (4.13.2)\n",
            "Requirement already satisfied: networkx in /usr/local/lib/python3.11/dist-packages (from torch==2.5.1->torchvision) (3.4.2)\n",
            "Requirement already satisfied: jinja2 in /usr/local/lib/python3.11/dist-packages (from torch==2.5.1->torchvision) (3.1.6)\n",
            "Requirement already satisfied: fsspec in /usr/local/lib/python3.11/dist-packages (from torch==2.5.1->torchvision) (2025.5.0)\n",
            "Collecting nvidia-cuda-nvrtc-cu12==12.4.127 (from torch==2.5.1->torchvision)\n",
            "  Using cached nvidia_cuda_nvrtc_cu12-12.4.127-py3-none-manylinux2014_x86_64.whl.metadata (1.5 kB)\n",
            "Collecting nvidia-cuda-runtime-cu12==12.4.127 (from torch==2.5.1->torchvision)\n",
            "  Using cached nvidia_cuda_runtime_cu12-12.4.127-py3-none-manylinux2014_x86_64.whl.metadata (1.5 kB)\n",
            "Collecting nvidia-cuda-cupti-cu12==12.4.127 (from torch==2.5.1->torchvision)\n",
            "  Using cached nvidia_cuda_cupti_cu12-12.4.127-py3-none-manylinux2014_x86_64.whl.metadata (1.6 kB)\n",
            "Collecting nvidia-cudnn-cu12==9.1.0.70 (from torch==2.5.1->torchvision)\n",
            "  Using cached nvidia_cudnn_cu12-9.1.0.70-py3-none-manylinux2014_x86_64.whl.metadata (1.6 kB)\n",
            "Collecting nvidia-cublas-cu12==12.4.5.8 (from torch==2.5.1->torchvision)\n",
            "  Using cached nvidia_cublas_cu12-12.4.5.8-py3-none-manylinux2014_x86_64.whl.metadata (1.5 kB)\n",
            "Collecting nvidia-cufft-cu12==11.2.1.3 (from torch==2.5.1->torchvision)\n",
            "  Using cached nvidia_cufft_cu12-11.2.1.3-py3-none-manylinux2014_x86_64.whl.metadata (1.5 kB)\n",
            "Collecting nvidia-curand-cu12==10.3.5.147 (from torch==2.5.1->torchvision)\n",
            "  Using cached nvidia_curand_cu12-10.3.5.147-py3-none-manylinux2014_x86_64.whl.metadata (1.5 kB)\n",
            "Collecting nvidia-cusolver-cu12==11.6.1.9 (from torch==2.5.1->torchvision)\n",
            "  Using cached nvidia_cusolver_cu12-11.6.1.9-py3-none-manylinux2014_x86_64.whl.metadata (1.6 kB)\n",
            "Collecting nvidia-cusparse-cu12==12.3.1.170 (from torch==2.5.1->torchvision)\n",
            "  Using cached nvidia_cusparse_cu12-12.3.1.170-py3-none-manylinux2014_x86_64.whl.metadata (1.6 kB)\n",
            "Collecting nvidia-nccl-cu12==2.21.5 (from torch==2.5.1->torchvision)\n",
            "  Downloading nvidia_nccl_cu12-2.21.5-py3-none-manylinux2014_x86_64.whl.metadata (1.8 kB)\n",
            "Collecting nvidia-nvtx-cu12==12.4.127 (from torch==2.5.1->torchvision)\n",
            "  Downloading nvidia_nvtx_cu12-12.4.127-py3-none-manylinux2014_x86_64.whl.metadata (1.7 kB)\n",
            "Collecting nvidia-nvjitlink-cu12==12.4.127 (from torch==2.5.1->torchvision)\n",
            "  Using cached nvidia_nvjitlink_cu12-12.4.127-py3-none-manylinux2014_x86_64.whl.metadata (1.5 kB)\n",
            "Collecting triton==3.1.0 (from torch==2.5.1->torchvision)\n",
            "  Downloading triton-3.1.0-cp311-cp311-manylinux_2_17_x86_64.manylinux2014_x86_64.whl.metadata (1.3 kB)\n",
            "Collecting sympy==1.13.1 (from torch==2.5.1->torchvision)\n",
            "  Downloading sympy-1.13.1-py3-none-any.whl.metadata (12 kB)\n",
            "Requirement already satisfied: mpmath<1.4,>=1.1.0 in /usr/local/lib/python3.11/dist-packages (from sympy==1.13.1->torch==2.5.1->torchvision) (1.3.0)\n",
            "Requirement already satisfied: MarkupSafe>=2.0 in /usr/local/lib/python3.11/dist-packages (from jinja2->torch==2.5.1->torchvision) (3.0.2)\n",
            "Downloading torch-2.5.1-cp311-cp311-manylinux1_x86_64.whl (906.5 MB)\n",
            "\u001b[2K   \u001b[90m━━━━━━━━━━━━━━━━━━━━━━━━━━━━━━━━━━━━━━━━\u001b[0m \u001b[32m906.5/906.5 MB\u001b[0m \u001b[31m650.3 kB/s\u001b[0m eta \u001b[36m0:00:00\u001b[0m\n",
            "\u001b[?25hUsing cached nvidia_cublas_cu12-12.4.5.8-py3-none-manylinux2014_x86_64.whl (363.4 MB)\n",
            "Using cached nvidia_cuda_cupti_cu12-12.4.127-py3-none-manylinux2014_x86_64.whl (13.8 MB)\n",
            "Using cached nvidia_cuda_nvrtc_cu12-12.4.127-py3-none-manylinux2014_x86_64.whl (24.6 MB)\n",
            "Using cached nvidia_cuda_runtime_cu12-12.4.127-py3-none-manylinux2014_x86_64.whl (883 kB)\n",
            "Using cached nvidia_cudnn_cu12-9.1.0.70-py3-none-manylinux2014_x86_64.whl (664.8 MB)\n",
            "Using cached nvidia_cufft_cu12-11.2.1.3-py3-none-manylinux2014_x86_64.whl (211.5 MB)\n",
            "Using cached nvidia_curand_cu12-10.3.5.147-py3-none-manylinux2014_x86_64.whl (56.3 MB)\n",
            "Using cached nvidia_cusolver_cu12-11.6.1.9-py3-none-manylinux2014_x86_64.whl (127.9 MB)\n",
            "Using cached nvidia_cusparse_cu12-12.3.1.170-py3-none-manylinux2014_x86_64.whl (207.5 MB)\n",
            "Downloading nvidia_nccl_cu12-2.21.5-py3-none-manylinux2014_x86_64.whl (188.7 MB)\n",
            "\u001b[2K   \u001b[90m━━━━━━━━━━━━━━━━━━━━━━━━━━━━━━━━━━━━━━━━\u001b[0m \u001b[32m188.7/188.7 MB\u001b[0m \u001b[31m6.4 MB/s\u001b[0m eta \u001b[36m0:00:00\u001b[0m\n",
            "\u001b[?25hUsing cached nvidia_nvjitlink_cu12-12.4.127-py3-none-manylinux2014_x86_64.whl (21.1 MB)\n",
            "Downloading nvidia_nvtx_cu12-12.4.127-py3-none-manylinux2014_x86_64.whl (99 kB)\n",
            "\u001b[2K   \u001b[90m━━━━━━━━━━━━━━━━━━━━━━━━━━━━━━━━━━━━━━━━\u001b[0m \u001b[32m99.1/99.1 kB\u001b[0m \u001b[31m6.4 MB/s\u001b[0m eta \u001b[36m0:00:00\u001b[0m\n",
            "\u001b[?25hDownloading sympy-1.13.1-py3-none-any.whl (6.2 MB)\n",
            "\u001b[2K   \u001b[90m━━━━━━━━━━━━━━━━━━━━━━━━━━━━━━━━━━━━━━━━\u001b[0m \u001b[32m6.2/6.2 MB\u001b[0m \u001b[31m73.3 MB/s\u001b[0m eta \u001b[36m0:00:00\u001b[0m\n",
            "\u001b[?25hDownloading triton-3.1.0-cp311-cp311-manylinux_2_17_x86_64.manylinux2014_x86_64.whl (209.5 MB)\n",
            "\u001b[2K   \u001b[90m━━━━━━━━━━━━━━━━━━━━━━━━━━━━━━━━━━━━━━━━\u001b[0m \u001b[32m209.5/209.5 MB\u001b[0m \u001b[31m6.9 MB/s\u001b[0m eta \u001b[36m0:00:00\u001b[0m\n",
            "\u001b[?25hInstalling collected packages: triton, sympy, nvidia-nvtx-cu12, nvidia-nvjitlink-cu12, nvidia-nccl-cu12, nvidia-curand-cu12, nvidia-cufft-cu12, nvidia-cuda-runtime-cu12, nvidia-cuda-nvrtc-cu12, nvidia-cuda-cupti-cu12, nvidia-cublas-cu12, nvidia-cusparse-cu12, nvidia-cudnn-cu12, nvidia-cusolver-cu12, torch\n",
            "  Attempting uninstall: triton\n",
            "    Found existing installation: triton 3.3.0\n",
            "    Uninstalling triton-3.3.0:\n",
            "      Successfully uninstalled triton-3.3.0\n",
            "  Attempting uninstall: sympy\n",
            "    Found existing installation: sympy 1.14.0\n",
            "    Uninstalling sympy-1.14.0:\n",
            "      Successfully uninstalled sympy-1.14.0\n",
            "  Attempting uninstall: nvidia-nvtx-cu12\n",
            "    Found existing installation: nvidia-nvtx-cu12 12.6.77\n",
            "    Uninstalling nvidia-nvtx-cu12-12.6.77:\n",
            "      Successfully uninstalled nvidia-nvtx-cu12-12.6.77\n",
            "  Attempting uninstall: nvidia-nvjitlink-cu12\n",
            "    Found existing installation: nvidia-nvjitlink-cu12 12.6.85\n",
            "    Uninstalling nvidia-nvjitlink-cu12-12.6.85:\n",
            "      Successfully uninstalled nvidia-nvjitlink-cu12-12.6.85\n",
            "  Attempting uninstall: nvidia-nccl-cu12\n",
            "    Found existing installation: nvidia-nccl-cu12 2.26.2\n",
            "    Uninstalling nvidia-nccl-cu12-2.26.2:\n",
            "      Successfully uninstalled nvidia-nccl-cu12-2.26.2\n",
            "  Attempting uninstall: nvidia-curand-cu12\n",
            "    Found existing installation: nvidia-curand-cu12 10.3.7.77\n",
            "    Uninstalling nvidia-curand-cu12-10.3.7.77:\n",
            "      Successfully uninstalled nvidia-curand-cu12-10.3.7.77\n",
            "  Attempting uninstall: nvidia-cufft-cu12\n",
            "    Found existing installation: nvidia-cufft-cu12 11.3.0.4\n",
            "    Uninstalling nvidia-cufft-cu12-11.3.0.4:\n",
            "      Successfully uninstalled nvidia-cufft-cu12-11.3.0.4\n",
            "  Attempting uninstall: nvidia-cuda-runtime-cu12\n",
            "    Found existing installation: nvidia-cuda-runtime-cu12 12.6.77\n",
            "    Uninstalling nvidia-cuda-runtime-cu12-12.6.77:\n",
            "      Successfully uninstalled nvidia-cuda-runtime-cu12-12.6.77\n",
            "  Attempting uninstall: nvidia-cuda-nvrtc-cu12\n",
            "    Found existing installation: nvidia-cuda-nvrtc-cu12 12.6.77\n",
            "    Uninstalling nvidia-cuda-nvrtc-cu12-12.6.77:\n",
            "      Successfully uninstalled nvidia-cuda-nvrtc-cu12-12.6.77\n",
            "  Attempting uninstall: nvidia-cuda-cupti-cu12\n",
            "    Found existing installation: nvidia-cuda-cupti-cu12 12.6.80\n",
            "    Uninstalling nvidia-cuda-cupti-cu12-12.6.80:\n",
            "      Successfully uninstalled nvidia-cuda-cupti-cu12-12.6.80\n",
            "  Attempting uninstall: nvidia-cublas-cu12\n",
            "    Found existing installation: nvidia-cublas-cu12 12.6.4.1\n",
            "    Uninstalling nvidia-cublas-cu12-12.6.4.1:\n",
            "      Successfully uninstalled nvidia-cublas-cu12-12.6.4.1\n",
            "  Attempting uninstall: nvidia-cusparse-cu12\n",
            "    Found existing installation: nvidia-cusparse-cu12 12.5.4.2\n",
            "    Uninstalling nvidia-cusparse-cu12-12.5.4.2:\n",
            "      Successfully uninstalled nvidia-cusparse-cu12-12.5.4.2\n",
            "  Attempting uninstall: nvidia-cudnn-cu12\n",
            "    Found existing installation: nvidia-cudnn-cu12 9.5.1.17\n",
            "    Uninstalling nvidia-cudnn-cu12-9.5.1.17:\n",
            "      Successfully uninstalled nvidia-cudnn-cu12-9.5.1.17\n",
            "  Attempting uninstall: nvidia-cusolver-cu12\n",
            "    Found existing installation: nvidia-cusolver-cu12 11.7.1.2\n",
            "    Uninstalling nvidia-cusolver-cu12-11.7.1.2:\n",
            "      Successfully uninstalled nvidia-cusolver-cu12-11.7.1.2\n",
            "  Attempting uninstall: torch\n",
            "    Found existing installation: torch 2.7.0\n",
            "    Uninstalling torch-2.7.0:\n",
            "      Successfully uninstalled torch-2.7.0\n",
            "Successfully installed nvidia-cublas-cu12-12.4.5.8 nvidia-cuda-cupti-cu12-12.4.127 nvidia-cuda-nvrtc-cu12-12.4.127 nvidia-cuda-runtime-cu12-12.4.127 nvidia-cudnn-cu12-9.1.0.70 nvidia-cufft-cu12-11.2.1.3 nvidia-curand-cu12-10.3.5.147 nvidia-cusolver-cu12-11.6.1.9 nvidia-cusparse-cu12-12.3.1.170 nvidia-nccl-cu12-2.21.5 nvidia-nvjitlink-cu12-12.4.127 nvidia-nvtx-cu12-12.4.127 sympy-1.13.1 torch-2.5.1 triton-3.1.0\n"
          ]
        },
        {
          "output_type": "display_data",
          "data": {
            "application/vnd.colab-display-data+json": {
              "pip_warning": {
                "packages": [
                  "torch",
                  "torchgen"
                ]
              },
              "id": "b0625b1d2251476fa41816aaf73a41a9"
            }
          },
          "metadata": {}
        }
      ]
    },
    {
      "cell_type": "code",
      "source": [
        "#LSTM 셀 구현\n",
        "\n",
        "#라이브러리 호출\n",
        "import torch\n",
        "import torch.nn as nn\n",
        "import torchvision.transforms as transforms\n",
        "import torchvision.datasets as dataset\n",
        "from torch.autograd import Variable\n",
        "from torch.nn import Parameter\n",
        "from torch import Tensor\n",
        "import torch.nn.functional as F\n",
        "from torch.utils.data import DataLoader\n",
        "import math\n",
        "\n",
        "device = torch.device('cuda:0' if torch.cuda.is_available() else 'cpu')\n",
        "cuda = True if torch.cuda.is_available() else False\n",
        "\n",
        "Tensor = torch.cuda.FloatTensor if cuda else torch.FloatTensor\n",
        "\n",
        "torch.manual_seed(125)\n",
        "if torch.cuda.is_available() :\n",
        "  torch.cuda.manual_seed_all(125)"
      ],
      "metadata": {
        "id": "ZMlXIMdK_zYl"
      },
      "execution_count": 1,
      "outputs": []
    },
    {
      "cell_type": "code",
      "source": [
        "#데이터 전처리\n",
        "\n",
        "mnist_transform = transforms.Compose([\n",
        "    transforms.ToTensor(),\n",
        "    transforms.Normalize( (0.5,), (1.0,) ), #평균 0, 표준편자 1로 데이터 정규화\n",
        "])"
      ],
      "metadata": {
        "id": "TRfch24MCQfB"
      },
      "execution_count": 2,
      "outputs": []
    },
    {
      "cell_type": "code",
      "source": [
        "#데이터셋 내려받기\n",
        "\n",
        "from torchvision.datasets import MNIST\n",
        "\n",
        "download_root = '/content/drive/MyDrive/pytorch_ex/chap07/MNIST_DATASET'\n",
        "\n",
        "train_dataset = MNIST(download_root, transform=mnist_transform, train=True, download=True)\n",
        "valid_dataset = MNIST(download_root, transform=mnist_transform, train=False, download=True)\n",
        "test_dataset = MNIST(download_root, transform=mnist_transform, train=False, download=True)\n",
        "#train=True: 훈련용 세트 불러옴 / train=False: 테스트용 데이터세트 불러옴 / download=True: 내려받을 위치에 이미 파일 있으면 다운받지 않음"
      ],
      "metadata": {
        "colab": {
          "base_uri": "https://localhost:8080/"
        },
        "id": "5xFd3jW5Cj6I",
        "outputId": "53a9550a-94a2-46af-ae7c-9d58453dc803"
      },
      "execution_count": 3,
      "outputs": [
        {
          "output_type": "stream",
          "name": "stdout",
          "text": [
            "Downloading http://yann.lecun.com/exdb/mnist/train-images-idx3-ubyte.gz\n",
            "Failed to download (trying next):\n",
            "HTTP Error 404: Not Found\n",
            "\n",
            "Downloading https://ossci-datasets.s3.amazonaws.com/mnist/train-images-idx3-ubyte.gz\n",
            "Downloading https://ossci-datasets.s3.amazonaws.com/mnist/train-images-idx3-ubyte.gz to /content/drive/MyDrive/pytorch_ex/chap07/MNIST_DATASET/MNIST/raw/train-images-idx3-ubyte.gz\n"
          ]
        },
        {
          "output_type": "stream",
          "name": "stderr",
          "text": [
            "100%|██████████| 9.91M/9.91M [00:00<00:00, 54.5MB/s]\n"
          ]
        },
        {
          "output_type": "stream",
          "name": "stdout",
          "text": [
            "Extracting /content/drive/MyDrive/pytorch_ex/chap07/MNIST_DATASET/MNIST/raw/train-images-idx3-ubyte.gz to /content/drive/MyDrive/pytorch_ex/chap07/MNIST_DATASET/MNIST/raw\n",
            "\n",
            "Downloading http://yann.lecun.com/exdb/mnist/train-labels-idx1-ubyte.gz\n",
            "Failed to download (trying next):\n",
            "HTTP Error 404: Not Found\n",
            "\n",
            "Downloading https://ossci-datasets.s3.amazonaws.com/mnist/train-labels-idx1-ubyte.gz\n",
            "Downloading https://ossci-datasets.s3.amazonaws.com/mnist/train-labels-idx1-ubyte.gz to /content/drive/MyDrive/pytorch_ex/chap07/MNIST_DATASET/MNIST/raw/train-labels-idx1-ubyte.gz\n"
          ]
        },
        {
          "output_type": "stream",
          "name": "stderr",
          "text": [
            "100%|██████████| 28.9k/28.9k [00:00<00:00, 2.43MB/s]\n"
          ]
        },
        {
          "output_type": "stream",
          "name": "stdout",
          "text": [
            "Extracting /content/drive/MyDrive/pytorch_ex/chap07/MNIST_DATASET/MNIST/raw/train-labels-idx1-ubyte.gz to /content/drive/MyDrive/pytorch_ex/chap07/MNIST_DATASET/MNIST/raw\n",
            "\n",
            "Downloading http://yann.lecun.com/exdb/mnist/t10k-images-idx3-ubyte.gz\n",
            "Failed to download (trying next):\n",
            "HTTP Error 404: Not Found\n",
            "\n",
            "Downloading https://ossci-datasets.s3.amazonaws.com/mnist/t10k-images-idx3-ubyte.gz\n",
            "Downloading https://ossci-datasets.s3.amazonaws.com/mnist/t10k-images-idx3-ubyte.gz to /content/drive/MyDrive/pytorch_ex/chap07/MNIST_DATASET/MNIST/raw/t10k-images-idx3-ubyte.gz\n"
          ]
        },
        {
          "output_type": "stream",
          "name": "stderr",
          "text": [
            "100%|██████████| 1.65M/1.65M [00:00<00:00, 13.0MB/s]\n"
          ]
        },
        {
          "output_type": "stream",
          "name": "stdout",
          "text": [
            "Extracting /content/drive/MyDrive/pytorch_ex/chap07/MNIST_DATASET/MNIST/raw/t10k-images-idx3-ubyte.gz to /content/drive/MyDrive/pytorch_ex/chap07/MNIST_DATASET/MNIST/raw\n",
            "\n",
            "Downloading http://yann.lecun.com/exdb/mnist/t10k-labels-idx1-ubyte.gz\n",
            "Failed to download (trying next):\n",
            "HTTP Error 404: Not Found\n",
            "\n",
            "Downloading https://ossci-datasets.s3.amazonaws.com/mnist/t10k-labels-idx1-ubyte.gz\n",
            "Downloading https://ossci-datasets.s3.amazonaws.com/mnist/t10k-labels-idx1-ubyte.gz to /content/drive/MyDrive/pytorch_ex/chap07/MNIST_DATASET/MNIST/raw/t10k-labels-idx1-ubyte.gz\n"
          ]
        },
        {
          "output_type": "stream",
          "name": "stderr",
          "text": [
            "100%|██████████| 4.54k/4.54k [00:00<00:00, 5.68MB/s]"
          ]
        },
        {
          "output_type": "stream",
          "name": "stdout",
          "text": [
            "Extracting /content/drive/MyDrive/pytorch_ex/chap07/MNIST_DATASET/MNIST/raw/t10k-labels-idx1-ubyte.gz to /content/drive/MyDrive/pytorch_ex/chap07/MNIST_DATASET/MNIST/raw\n",
            "\n"
          ]
        },
        {
          "output_type": "stream",
          "name": "stderr",
          "text": [
            "\n"
          ]
        }
      ]
    },
    {
      "cell_type": "code",
      "source": [
        "#데이터셋을 메모리로 가져오기\n",
        "batch_size = 64\n",
        "train_loader = DataLoader( dataset=train_dataset, batch_size=batch_size, shuffle=True )\n",
        "valid_loader = DataLoader( dataset=test_dataset, batch_size=batch_size, shuffle=True )\n",
        "test_loader = DataLoader( dataset=test_dataset, batch_size=batch_size, shuffle=True )"
      ],
      "metadata": {
        "id": "btvtpYpsDiJM"
      },
      "execution_count": 4,
      "outputs": []
    },
    {
      "cell_type": "code",
      "source": [
        "#변수 값 지정\n",
        "\n",
        "batch_size = 100\n",
        "n_iters = 6000\n",
        "num_epochs = n_iters / ( len(train_dataset)/batch_size )\n",
        "num_epochs = int(num_epochs)"
      ],
      "metadata": {
        "id": "0z14tYGfEIjv"
      },
      "execution_count": 5,
      "outputs": []
    },
    {
      "cell_type": "code",
      "source": [
        "#LSTM 셀 네트워크 구축(게이트 위주)\n",
        "\n",
        "class LSTMCell(nn.Module) :\n",
        "  def __init__(self, input_size, hidden_size, bias=True) :\n",
        "    super(LSTMCell, self).__init__()\n",
        "    self.input_size = input_size\n",
        "    self.hidden_size = hidden_size\n",
        "    self.bias = bias\n",
        "    self.x2h = nn.Linear(input_size, 4*hidden_size, bias=bias) #4개의 게이트로 쪼개질 것이기 때문에 4*_\n",
        "    self.h2h = nn.Linear(hidden_size, 4*hidden_size, bias=bias)\n",
        "    self.reset_parameters()\n",
        "\n",
        "  def reset_parameters(self) :\n",
        "    std = 1.0 / math.sqrt(self.hidden_size)\n",
        "    for w in self.parameters() :\n",
        "      w.data.uniform_(-std, std) #난수(범위 사이의 무작위 수) 생성\n",
        "\n",
        "  def forward(self, x, hidden) :\n",
        "    hx, cx = hidden\n",
        "    x = x.view(-1, x.size(1))\n",
        "\n",
        "    gates = self.x2h(x) + self.h2h(hx)\n",
        "    gates = gates.squeeze() #텐서의 차원 줄임\n",
        "    ingate, forgetgate, cellgate, outgate = gates.chunk(4, 1) #총 게이트를 나타내는 텐서를 4개로 쪼갬\n",
        "\n",
        "    #각 게이트에 시그모이드 활성화 함수 적용\n",
        "    ingate = F.sigmoid(ingate)\n",
        "    forgetgate = F.sigmoid(forgetgate)\n",
        "    cellgate = F.sigmoid(cellgate)\n",
        "    outgate = F.sigmoid(outgate)\n",
        "\n",
        "    cy = torch.mul(cx, forgetgate) + torch.mul(ingate, cellgate) #셀 상태 (torch.mul(): 텐서 곱셈)\n",
        "    hy = torch.mul(outgate, F.tanh(cy))\n",
        "\n",
        "    return (hy, cy)"
      ],
      "metadata": {
        "id": "hCEU73uzEfYe"
      },
      "execution_count": 12,
      "outputs": []
    },
    {
      "cell_type": "code",
      "source": [
        "#LSTM 셀의 전반적인 네트워크\n",
        "\n",
        "class LSTMModel(nn.Module) :\n",
        "  def __init__(self, input_dim, hidden_dim, layer_dim, output_dim, bias=True) :\n",
        "    super(LSTMModel, self).__init__()\n",
        "    self.hidden_dim = hidden_dim\n",
        "\n",
        "    self.layer_dim = layer_dim\n",
        "    self.lstm = LSTMCell(input_dim, hidden_dim, layer_dim) #입력 특성 수 / 은닉층의 뉴런 개수 / 은닉층 몇 개인지\n",
        "    self.fc = nn.Linear(hidden_dim, output_dim)\n",
        "\n",
        "  def forward(self, x) :\n",
        "    #(은닉층 몇 개, 배치크기, 은닉층 뉴런 개수) 가지는 '은닉상태'를 0으로 초기화\n",
        "    if torch.cuda.is_available() :\n",
        "      h0 = Variable(torch.zeros(self.layer_dim, x.size(0), self.hidden_dim).cuda())\n",
        "    else :\n",
        "      h0 = Variable(torch.zeros(self.layer_dim, x.size(0), self.hidden_dim))\n",
        "\n",
        "    #(은닉층 몇 개, 배치크기, 은닉층 뉴런 개수) 가지는 '셀 상태'를 0으로 초기화\n",
        "    if torch.cuda.is_available() :\n",
        "      c0 = Variable(torch.zeros(self.layer_dim, x.size(0), self.hidden_dim).cuda())\n",
        "    else :\n",
        "      c0 = Variable(torch.zeros(self.layer_dim, x.size(0), self.hidden_dim))\n",
        "\n",
        "    outs = []\n",
        "    hn = h0[0,:,:] #(은닉층 몇 개, 배치크기, 은닉층 뉴런 개수) 가지는 '은닉 상태' 텐서\n",
        "    cn = c0[0,:,:] #(은닉층 몇 개, 배치크기, 은닉층 뉴런 개수) 가지는 '셀 상태' 텐서\n",
        "\n",
        "    for seq in range(x.size(1)) : #LSTM 셀 계층 쌓아올림\n",
        "      hn, cn = self.lstm(x[:,seq,:] , (hn, cn)) #은닉상태와 셀상태를 LSTMCell에 적용한 결과 -> 다시 hn, cn에 저장\n",
        "      outs.append(hn)\n",
        "\n",
        "    out = outs[-1].squeeze()\n",
        "    out = self.fc(out)\n",
        "\n",
        "    return out"
      ],
      "metadata": {
        "id": "HPHgDkA9LNqH"
      },
      "execution_count": 17,
      "outputs": []
    },
    {
      "cell_type": "code",
      "source": [
        "#옵티마이저, 손실 함수 지정\n",
        "\n",
        "input_dim = 28\n",
        "hidden_dim = 128\n",
        "layer_dim = 1\n",
        "output_dim = 10\n",
        "\n",
        "model = LSTMModel(input_dim, hidden_dim, layer_dim, output_dim)\n",
        "if torch.cuda.is_available() :\n",
        "  model.cuda()\n",
        "criterion = nn.CrossEntropyLoss()\n",
        "learning_rate = 0.1\n",
        "optimizer = torch.optim.SGD(model.parameters(), lr=learning_rate)"
      ],
      "metadata": {
        "id": "65x61gMbQOSr"
      },
      "execution_count": 18,
      "outputs": []
    },
    {
      "cell_type": "code",
      "source": [
        "#모델 학습 및 성능 확인\n",
        "seq_dim = 28\n",
        "loss_list = []\n",
        "iter = 0\n",
        "for epoch in range(num_epochs) :\n",
        "\n",
        "  for i, (images, labels) in enumerate(train_loader) : #훈련 데이터셋 이용한 모델 학습\n",
        "    if torch.cuda.is_available() :\n",
        "      images = Variable(images.view(-1, seq_dim, input_dim).cuda())\n",
        "      labels = Variable(labels.cuda())\n",
        "    else :\n",
        "      images = Variable(images.view(-1, seq_dim, input_dim))\n",
        "      labels = Variable(labels)\n",
        "\n",
        "    optimizer.zero_grad()\n",
        "    outputs = model(images)\n",
        "    loss = criterion(outputs, labels) #손실 함수 이용하여 오차 계산\n",
        "\n",
        "    if torch.cuda.is_available() :\n",
        "      loss.cuda()\n",
        "\n",
        "    loss.backward() #역전파\n",
        "    optimizer.step() #파라미터 업데이트\n",
        "    loss_list.append(loss.item()) #손실 누적\n",
        "    iter += 1\n",
        "\n",
        "    if iter % 500 == 0 :\n",
        "      correct = 0\n",
        "      total = 0\n",
        "      for images, labels in valid_loader :\n",
        "\n",
        "        if torch.cuda.is_available() :\n",
        "          images = Variable(images.view(-1, seq_dim, input_dim).cuda())\n",
        "        else :\n",
        "          images = Variable(images.view(-1, seq_dim, input_dim))\n",
        "\n",
        "        outputs = model(images)\n",
        "        _, predicted = torch.max(outputs.data, 1) #모델을 통과한 결과의 최댓값으로부터 예측 결과 가져오기\n",
        "\n",
        "        total += labels.size(0)\n",
        "        if torch.cuda.is_available() :\n",
        "          correct += (predicted.cpu() == labels.cpu()).sum()\n",
        "        else :\n",
        "          correct += (predicted == labels).sum()\n",
        "\n",
        "      accuracy = 100 * correct / total\n",
        "      print(f'Iteration: {iter}. Loss: {loss.item()}. Accuracy: {accuracy}')"
      ],
      "metadata": {
        "colab": {
          "base_uri": "https://localhost:8080/"
        },
        "id": "n8HZeUWRRJLi",
        "outputId": "15d68591-cb12-41de-dfe1-5e7d00e33d27"
      },
      "execution_count": 19,
      "outputs": [
        {
          "output_type": "stream",
          "name": "stdout",
          "text": [
            "Iteration: 500. Loss: 2.304553270339966. Accuracy: 9.739999771118164\n",
            "Iteration: 1000. Loss: 2.313316822052002. Accuracy: 11.350000381469727\n",
            "Iteration: 1500. Loss: 2.287043333053589. Accuracy: 11.369999885559082\n",
            "Iteration: 2000. Loss: 2.2835850715637207. Accuracy: 15.369999885559082\n",
            "Iteration: 2500. Loss: 2.279179573059082. Accuracy: 16.889999389648438\n",
            "Iteration: 3000. Loss: 2.251875400543213. Accuracy: 22.6299991607666\n",
            "Iteration: 3500. Loss: 1.9471125602722168. Accuracy: 31.600000381469727\n",
            "Iteration: 4000. Loss: 1.463100790977478. Accuracy: 46.34000015258789\n",
            "Iteration: 4500. Loss: 0.9729139804840088. Accuracy: 60.540000915527344\n",
            "Iteration: 5000. Loss: 0.8405259847640991. Accuracy: 72.44999694824219\n",
            "Iteration: 5500. Loss: 0.6660410165786743. Accuracy: 75.11000061035156\n",
            "Iteration: 6000. Loss: 0.4970030188560486. Accuracy: 81.45999908447266\n",
            "Iteration: 6500. Loss: 0.37289026379585266. Accuracy: 85.58000183105469\n",
            "Iteration: 7000. Loss: 0.29965177178382874. Accuracy: 87.66999816894531\n",
            "Iteration: 7500. Loss: 0.5090672969818115. Accuracy: 89.7699966430664\n",
            "Iteration: 8000. Loss: 0.33150503039360046. Accuracy: 90.13999938964844\n",
            "Iteration: 8500. Loss: 0.2842130661010742. Accuracy: 91.80999755859375\n",
            "Iteration: 9000. Loss: 0.19991165399551392. Accuracy: 92.69999694824219\n"
          ]
        }
      ]
    },
    {
      "cell_type": "code",
      "source": [
        "#테스트 데이터셋을 이용한 모델 예측 성능 확인\n",
        "\n",
        "def evaluate(model, val_iter) :\n",
        "  corrects, total, total_loss = 0, 0, 0\n",
        "  model.eval()\n",
        "  for images, labels in val_iter :\n",
        "    if torch.cuda.is_available() :\n",
        "      images = Variable(images.view(-1, seq_dim, input_dim).cuda())\n",
        "    else :\n",
        "      images = Variable(images.view(-1, seq_dim, input_dim).to(device))\n",
        "\n",
        "    logit = model(images).to(device)\n",
        "    loss = F.cross_entropy(logit, labels, reduction='sum') #reduction='sum': 모든 오차 적용\n",
        "    _, predicted = torch.max(logit.data, 1) #logit.data텐서에서 최댓값의 인덱스 반환\n",
        "    total += labels.size(0)\n",
        "    total_loss += loss.item()\n",
        "    corrects += (predicted == labels).sum()\n",
        "\n",
        "  avg_loss = total_loss / len(val_iter.dataset)\n",
        "  avg_accuracy = corrects / total\n",
        "\n",
        "  return avg_loss, avg_accuracy"
      ],
      "metadata": {
        "id": "za_0Ql1RUelk"
      },
      "execution_count": 20,
      "outputs": []
    },
    {
      "cell_type": "code",
      "source": [
        "#모델 예측 성능 확인\n",
        "\n",
        "test_loss, test_acc = evaluate(model, test_loader)\n",
        "print(f'Test Loss: {test_loss:5.2f} | Test Accuracy: {test_acc:5.2f}')"
      ],
      "metadata": {
        "colab": {
          "base_uri": "https://localhost:8080/"
        },
        "id": "HV2wsUb6Wimc",
        "outputId": "72951cdd-5db6-4e3e-8ade-6be60a52c268"
      },
      "execution_count": 21,
      "outputs": [
        {
          "output_type": "stream",
          "name": "stdout",
          "text": [
            "Test Loss:  0.23 | Test Accuracy:  0.93\n"
          ]
        }
      ]
    },
    {
      "cell_type": "markdown",
      "source": [
        "**7.5.3 LSTM 계층 구현**"
      ],
      "metadata": {
        "id": "CSy1kmYyXHkX"
      }
    },
    {
      "cell_type": "code",
      "source": [
        "#스타벅스 주가 데이터셋 -> 모델이 얼마나 주가 예측을 잘 하는지\n",
        "\n",
        "#라이브러리 호출\n",
        "import os\n",
        "import time\n",
        "\n",
        "import numpy as np\n",
        "import pandas as pd\n",
        "import matplotlib.pyplot as plt\n",
        "\n",
        "import torch\n",
        "import torch.nn as nn\n",
        "from torch.utils.data import TensorDataset, DataLoader\n",
        "from torch.autograd import Variable\n",
        "from tqdm import tqdm_notebook\n",
        "from sklearn.preprocessing import StandardScaler, MinMaxScaler\n",
        "from sklearn.model_selection import train_test_split\n",
        "\n",
        "device = torch.device('cuda:0' if torch.cuda.is_available() else 'cpu')"
      ],
      "metadata": {
        "id": "vj7AeOESXKnA"
      },
      "execution_count": 23,
      "outputs": []
    },
    {
      "cell_type": "code",
      "source": [
        "#데이터셋 가져오기\n",
        "\n",
        "data = pd.read_csv('/content/drive/MyDrive/pytorch_ex/chap07/data/SBUX.csv')\n",
        "print(data.dtypes)"
      ],
      "metadata": {
        "colab": {
          "base_uri": "https://localhost:8080/"
        },
        "id": "EXYsUi-JYMG8",
        "outputId": "7c3815fb-5ede-4305-8048-539b92281716"
      },
      "execution_count": 24,
      "outputs": [
        {
          "output_type": "stream",
          "name": "stdout",
          "text": [
            "Date          object\n",
            "Open         float64\n",
            "High         float64\n",
            "Low          float64\n",
            "Close        float64\n",
            "Adj Close    float64\n",
            "Volume         int64\n",
            "dtype: object\n"
          ]
        }
      ]
    },
    {
      "cell_type": "code",
      "source": [
        "#날짜 칼럼을 인덱스로 사용\n",
        "\n",
        "data['Date'] = pd.to_datetime(data['Date'])\n",
        "data.set_index('Date', inplace=True) #date 칼럼을 인덱스로 사용"
      ],
      "metadata": {
        "id": "m24zzFLnYfag"
      },
      "execution_count": 27,
      "outputs": []
    },
    {
      "cell_type": "code",
      "source": [
        "#데이터 형식을 실수로 변경\n",
        "data['Volume'] = data['Volume'].astype(float)"
      ],
      "metadata": {
        "id": "hA-P-FLNZVYr"
      },
      "execution_count": 29,
      "outputs": []
    },
    {
      "cell_type": "code",
      "source": [
        "#훈련과 레이블 분리\n",
        "\n",
        "x = data.iloc[:, :-1]\n",
        "y = data.iloc[:, 5:6]\n",
        "print(x)\n",
        "print(y)"
      ],
      "metadata": {
        "colab": {
          "base_uri": "https://localhost:8080/"
        },
        "id": "q2-PtFQTZvEA",
        "outputId": "57032d62-cca0-4125-f380-db75365a0a57"
      },
      "execution_count": 30,
      "outputs": [
        {
          "output_type": "stream",
          "name": "stdout",
          "text": [
            "                  Open        High         Low       Close   Adj Close\n",
            "Date                                                                  \n",
            "2019-12-11   86.260002   86.870003   85.849998   86.589996   84.145752\n",
            "2019-12-12   88.000000   88.889999   87.540001   88.209999   85.720032\n",
            "2019-12-13   88.019997   88.790001   87.580002   88.669998   86.167046\n",
            "2019-12-16   89.139999   89.300003   88.430000   88.779999   86.273941\n",
            "2019-12-17   88.870003   88.970001   87.470001   88.129997   85.642288\n",
            "...                ...         ...         ...         ...         ...\n",
            "2020-12-04  101.349998  102.940002  101.070000  102.279999  101.442787\n",
            "2020-12-07  102.010002  102.220001  100.690002  101.410004  100.579918\n",
            "2020-12-08  100.370003  101.570000  100.010002  101.209999  100.381554\n",
            "2020-12-09  101.940002  102.209999  100.099998  100.400002   99.578186\n",
            "2020-12-10  103.510002  106.089996  102.750000  105.389999  104.527336\n",
            "\n",
            "[253 rows x 5 columns]\n",
            "                Volume\n",
            "Date                  \n",
            "2019-12-11   4921900.0\n",
            "2019-12-12  10282100.0\n",
            "2019-12-13   6714100.0\n",
            "2019-12-16   6705600.0\n",
            "2019-12-17   7296900.0\n",
            "...                ...\n",
            "2020-12-04   6952700.0\n",
            "2020-12-07   4514800.0\n",
            "2020-12-08   3911300.0\n",
            "2020-12-09   6629900.0\n",
            "2020-12-10  12939200.0\n",
            "\n",
            "[253 rows x 1 columns]\n"
          ]
        }
      ]
    },
    {
      "cell_type": "code",
      "source": [
        "#데이터 분포 조정(정규화)\n",
        "\n",
        "ss = StandardScaler() #평균0, 분산1 되게 조정\n",
        "ms = MinMaxScaler() #데이터의 모든 값이 0~1 사이에 존재하게 조정\n",
        "\n",
        "x_ss = ss.fit_transform(x)\n",
        "y_ms = ms.fit_transform(y)\n",
        "\n",
        "x_train = x_ss[:200, :]\n",
        "x_test = x_ss[200:, :]\n",
        "\n",
        "y_train = y_ms[:200, :]\n",
        "y_test = y_ms[200:, :]\n",
        "\n",
        "print('training shape', x_train.shape, y_train.shape)\n",
        "print('testing shape', x_test.shape, y_test.shape)"
      ],
      "metadata": {
        "colab": {
          "base_uri": "https://localhost:8080/"
        },
        "id": "SmTUMF0laEpT",
        "outputId": "b78808d2-45c5-4a9c-9af6-9c90fcad7839"
      },
      "execution_count": 31,
      "outputs": [
        {
          "output_type": "stream",
          "name": "stdout",
          "text": [
            "training shape (200, 5) (200, 1)\n",
            "testing shape (53, 5) (53, 1)\n"
          ]
        }
      ]
    },
    {
      "cell_type": "code",
      "source": [
        "#데이터셋 형태 및 크기 조정\n",
        "x_train_tensors = Variable(torch.Tensor(x_train)) #Variable로 감싸진 텐서는 backward()가 호출 될 때 자동 기울기 계산\n",
        "x_test_tensors = Variable(torch.Tensor(x_test))\n",
        "\n",
        "y_train_tensors = Variable(torch.Tensor(y_train))\n",
        "y_test_tensors = Variable(torch.Tensor(y_test))\n",
        "\n",
        "                    #훈련 데이터셋 형태 (200, 5) -> (200, 1, 5) : LSTM 신경망의 입력 형태와 맞춤\n",
        "x_train_tensors_f = torch.reshape( x_train_tensors, (x_train_tensors.shape[0], 1, x_train_tensors.shape[1]) )\n",
        "x_test_tensors_f = torch.reshape( x_test_tensors, (x_test_tensors.shape[0], 1, x_test_tensors.shape[1]) )\n",
        "\n",
        "print('training shape', x_train_tensors_f.shape, y_train_tensors.shape)\n",
        "print('testing shape', x_test_tensors_f.shape, y_test_tensors.shape)"
      ],
      "metadata": {
        "colab": {
          "base_uri": "https://localhost:8080/"
        },
        "id": "jxzOLtHja_dE",
        "outputId": "cc52f5ad-9626-4c90-f9a1-b0e5e7226f38"
      },
      "execution_count": 33,
      "outputs": [
        {
          "output_type": "stream",
          "name": "stdout",
          "text": [
            "training shape torch.Size([200, 1, 5]) torch.Size([200, 1])\n",
            "testing shape torch.Size([53, 1, 5]) torch.Size([53, 1])\n"
          ]
        }
      ]
    },
    {
      "cell_type": "code",
      "source": [
        "#LSTM 네트워크\n",
        "\n",
        "class LSTM(nn.Module) :\n",
        "\n",
        "  def __init__(self, num_classes, input_size, hidden_size, num_layers, seq_length) :\n",
        "    super(LSTM, self).__init__()\n",
        "    self.num_classes = num_classes #출력 클래스 개수\n",
        "    self.num_layers = num_layers #LSTM 계층 개수\n",
        "    self.input_size = input_size #입력 크기. 훈련 데이터셋의 칼럼 개수\n",
        "    self.hidden_size = hidden_size #은닉층 뉴런 개수\n",
        "    self.seq_length = seq_length #시퀀스의 길이\n",
        "\n",
        "    self.lstm = nn.LSTM(input_size=input_size, hidden_size=hidden_size, num_layers=num_layers, batch_first=True)\n",
        "    self.fc_1 = nn.Linear(hidden_size, 128)\n",
        "    self.fc = nn.Linear(128, num_classes)\n",
        "    self.relu = nn.ReLU()\n",
        "\n",
        "  def forward(self, x) :\n",
        "    h_0 = Variable( torch.zeros(self.num_layers, x.size(0), self.hidden_size) ) #은닉 상태를 0으로 초기화\n",
        "    c_0 = Variable( torch.zeros(self.num_layers, x.size(0), self.hidden_size) ) #셀 상태를 0으로 초기화\n",
        "    output, (hn, cn) = self.lstm(x, (h_0, c_0)) #LSTM 계층에 은닉상태, 셀상태 적용\n",
        "    hn = hn.view(-1, self.hidden_size) #완전연결층 적용 위해 1차원으로 조정\n",
        "    out = self.relu(hn) #활성화\n",
        "    out = self.fc_1(out) #완전연결층 1\n",
        "    out = self.relu(out) #활성화\n",
        "    out = self.fc(out)\n",
        "    return out"
      ],
      "metadata": {
        "id": "wxYy6QQjcrUP"
      },
      "execution_count": 34,
      "outputs": []
    },
    {
      "cell_type": "code",
      "source": [
        "#변수값 설정\n",
        "num_epochs = 1000   #에포크 횟수\n",
        "learning_rate = 0.0001   #학습률\n",
        "\n",
        "input_size = 5   #입력 데이터셋의 칼럼 수\n",
        "hidden_size = 2   #은닉층의 뉴런 개수\n",
        "num_layers = 1   #LSTM 계층의 개수\n",
        "\n",
        "num_classes = 1   #출력 클래스 개수\n",
        "model = LSTM(num_classes, input_size, hidden_size, num_layers, x_train_tensors_f.shape[1]) #LSTM 모델 학습\n",
        "\n",
        "criterion = torch.nn.MSELoss()   #평균제곱오차\n",
        "optimizer = torch.optim.Adam(model.parameters(), lr=learning_rate)   #아담 옵티마이저, 학습률"
      ],
      "metadata": {
        "id": "qCmt3eXNemWP"
      },
      "execution_count": 35,
      "outputs": []
    },
    {
      "cell_type": "code",
      "source": [
        "#모델 학습\n",
        "\n",
        "for epoch in range(num_epochs) :\n",
        "  outputs = model.forward(x_train_tensors_f) #순전파\n",
        "  optimizer.zero_grad() #0으로 초기화\n",
        "  loss = criterion(outputs, y_train_tensors) #손실함수로 오차 계산\n",
        "  loss.backward() #기울기 계산\n",
        "\n",
        "  optimizer.step() #오차로 파라미터 업데이트\n",
        "  if epoch % 100 == 0 :\n",
        "    print(f'Epoch: {epoch}, loss:{loss.item():1.5f}')"
      ],
      "metadata": {
        "colab": {
          "base_uri": "https://localhost:8080/"
        },
        "id": "uTotvz40f1Ke",
        "outputId": "9d894c62-ceb2-48ba-b8cf-f33f6bc6f851"
      },
      "execution_count": 38,
      "outputs": [
        {
          "output_type": "stream",
          "name": "stdout",
          "text": [
            "Epoch: 0, loss:0.05825\n",
            "Epoch: 100, loss:0.03354\n",
            "Epoch: 200, loss:0.02936\n",
            "Epoch: 300, loss:0.02614\n",
            "Epoch: 400, loss:0.02380\n",
            "Epoch: 500, loss:0.02203\n",
            "Epoch: 600, loss:0.02071\n",
            "Epoch: 700, loss:0.01971\n",
            "Epoch: 800, loss:0.01899\n",
            "Epoch: 900, loss:0.01850\n"
          ]
        }
      ]
    },
    {
      "cell_type": "code",
      "source": [
        "#모델 예측 결과를 그래프로 출력하기 위하여, 데이터 크기 재구성\n",
        "\n",
        "df_x_ss = ss.transform(data.iloc[:, :-1]) #데이터 정규화 (모든 값 0~1 분포 조정)\n",
        "df_y_ms = ms.transform(data.iloc[:, -1:]) #정규화 (평균0 분산1)\n",
        "\n",
        "df_x_ss = Variable(torch.Tensor(df_x_ss)) #텐서로 변경\n",
        "df_y_ms = Variable(torch.Tensor(df_y_ms)) #텐서로 변경\n",
        "df_x_ss = torch.reshape(df_x_ss, (df_x_ss.shape[0], 1, df_x_ss.shape[1])) #데이터 크기 변경 (_, 1, _)"
      ],
      "metadata": {
        "id": "8nltrRGPhEbG"
      },
      "execution_count": 43,
      "outputs": []
    },
    {
      "cell_type": "code",
      "source": [
        "#모델 예측 결과 그래프로 출력\n",
        "train_predict = model(df_x_ss) #훈련 데이터셋 적용하여 모델 훈련\n",
        "predicted = train_predict.data.numpy()\n",
        "\n",
        "predicted = ms.inverse_transform(predicted)\n",
        "label_y"
      ],
      "metadata": {
        "id": "IBHXJPquiLLo"
      },
      "execution_count": null,
      "outputs": []
    }
  ]
}